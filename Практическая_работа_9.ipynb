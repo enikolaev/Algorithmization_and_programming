{
  "nbformat": 4,
  "nbformat_minor": 0,
  "metadata": {
    "colab": {
      "provenance": [],
      "authorship_tag": "ABX9TyMxLq4sPLfw8KSejCMKBtvW",
      "include_colab_link": true
    },
    "kernelspec": {
      "name": "python3",
      "display_name": "Python 3"
    },
    "language_info": {
      "name": "python"
    }
  },
  "cells": [
    {
      "cell_type": "markdown",
      "metadata": {
        "id": "view-in-github",
        "colab_type": "text"
      },
      "source": [
        "<a href=\"https://colab.research.google.com/github/enikolaev/Algorithmization_and_programming/blob/main/%D0%9F%D1%80%D0%B0%D0%BA%D1%82%D0%B8%D1%87%D0%B5%D1%81%D0%BA%D0%B0%D1%8F_%D1%80%D0%B0%D0%B1%D0%BE%D1%82%D0%B0_9.ipynb\" target=\"_parent\"><img src=\"https://colab.research.google.com/assets/colab-badge.svg\" alt=\"Open In Colab\"/></a>"
      ]
    },
    {
      "cell_type": "markdown",
      "source": [
        "# Практическая работа 9. Объектно-ориентированное программирование"
      ],
      "metadata": {
        "id": "C3DZeo7xi2HL"
      }
    },
    {
      "cell_type": "markdown",
      "source": [
        "## Задание"
      ],
      "metadata": {
        "id": "8wIyzax9q7JF"
      }
    },
    {
      "cell_type": "markdown",
      "source": [
        "Разработать класс для представления объекта «Прямоугольный параллелепипед». Реализуйте все необходимые поля данных (закрытые) и методы позволяющие:\n",
        "* инициализировать состояние полей данных объекта;\n",
        "* вычислять объем прямоугольного параллелепипеда;\n",
        "* вычислять площадь поверхности прямоугольного параллелепипеда;\n",
        "* выводить полную информацию об объекте в консоль."
      ],
      "metadata": {
        "id": "A1UMdzQGjFix"
      }
    },
    {
      "cell_type": "markdown",
      "source": [
        "## Решение"
      ],
      "metadata": {
        "id": "RGlwZaXQrAfd"
      }
    },
    {
      "cell_type": "markdown",
      "source": [
        "Определим класс в соответствии с требованиями задания"
      ],
      "metadata": {
        "id": "dusmGf0PoHeU"
      }
    },
    {
      "cell_type": "code",
      "source": [
        "class Par:\n",
        "  # Конструктор\n",
        "  def __init__(self, a, b, c):\n",
        "    self.a = a\n",
        "    self.b = b\n",
        "    self.c = c\n",
        "  # Вычисляем объем\n",
        "  def getv(self):\n",
        "    return self.a * self.b * self.c\n",
        "  # Выичсляем площадь поверхности\n",
        "  def gets(self):\n",
        "    return 2 * (self.a * self.b + self.b * self.c + self.c * celf.a)\n",
        "  # представление параллелепипеда\n",
        "  def __str__(self):\n",
        "    view = '\\n' + '*'*20 + '\\n'\n",
        "    view += 'Прямоугльный параллелепипед \\n'\n",
        "    view += f'Стороны: {self.a}, {self.b}, {self.c} \\n'\n",
        "    view += f'Объем: {self.getv()} \\n'\n",
        "    view += f'Площадь поверхности: {self.getv()} \\n'\n",
        "    view += '*'*20\n",
        "    return view"
      ],
      "metadata": {
        "id": "fvILxo2yVRqx"
      },
      "execution_count": 9,
      "outputs": []
    },
    {
      "cell_type": "markdown",
      "source": [
        "Продемонстрируем использование разработанного класса:"
      ],
      "metadata": {
        "id": "rSwIaApwWypl"
      }
    },
    {
      "cell_type": "code",
      "execution_count": 11,
      "metadata": {
        "id": "GRcewQyGh7dD",
        "colab": {
          "base_uri": "https://localhost:8080/"
        },
        "outputId": "d67cb2e3-fefe-4a9c-d47b-b7e1aaa5ef2d"
      },
      "outputs": [
        {
          "output_type": "stream",
          "name": "stdout",
          "text": [
            "\n",
            "********************\n",
            "Прямоугльный параллелепипед \n",
            "Стороны: 10, 5, 7 \n",
            "Объем: 350 \n",
            "Площадь поверхности: 350 \n",
            "******************** \n",
            "********************\n",
            "Прямоугльный параллелепипед \n",
            "Стороны: 1.89, 1.5, 1 \n",
            "Объем: 2.835 \n",
            "Площадь поверхности: 2.835 \n",
            "********************\n"
          ]
        }
      ],
      "source": [
        "p1, p2 = Par(10, 5, 7), Par(1.89, 1.5, 1)\n",
        "print(p1, p2)"
      ]
    },
    {
      "cell_type": "markdown",
      "source": [
        "Решите пример в соответствии с индивидуальным заданием"
      ],
      "metadata": {
        "id": "QiFbfF__OGUP"
      }
    },
    {
      "cell_type": "code",
      "source": [
        "# Здесь код индивидуального задания..."
      ],
      "metadata": {
        "id": "qryaJhoGOG2f"
      },
      "execution_count": null,
      "outputs": []
    }
  ]
}