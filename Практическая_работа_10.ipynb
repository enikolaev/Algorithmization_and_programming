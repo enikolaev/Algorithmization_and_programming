{
  "nbformat": 4,
  "nbformat_minor": 0,
  "metadata": {
    "colab": {
      "provenance": [],
      "authorship_tag": "ABX9TyO/RV7pt0gVsZdehruGhVX9",
      "include_colab_link": true
    },
    "kernelspec": {
      "name": "python3",
      "display_name": "Python 3"
    },
    "language_info": {
      "name": "python"
    }
  },
  "cells": [
    {
      "cell_type": "markdown",
      "metadata": {
        "id": "view-in-github",
        "colab_type": "text"
      },
      "source": [
        "<a href=\"https://colab.research.google.com/github/enikolaev/Algorithmization_and_programming/blob/main/%D0%9F%D1%80%D0%B0%D0%BA%D1%82%D0%B8%D1%87%D0%B5%D1%81%D0%BA%D0%B0%D1%8F_%D1%80%D0%B0%D0%B1%D0%BE%D1%82%D0%B0_10.ipynb\" target=\"_parent\"><img src=\"https://colab.research.google.com/assets/colab-badge.svg\" alt=\"Open In Colab\"/></a>"
      ]
    },
    {
      "cell_type": "markdown",
      "source": [
        "# Практическая работа 10. Использование анонимных функций\n",
        "\n"
      ],
      "metadata": {
        "id": "C3DZeo7xi2HL"
      }
    },
    {
      "cell_type": "markdown",
      "source": [
        "## Задание"
      ],
      "metadata": {
        "id": "8wIyzax9q7JF"
      }
    },
    {
      "cell_type": "markdown",
      "source": [
        "Используя набор данных из практической работы 7 (файл `pr7_00.csv`) продемонстрируйте применение лямбда выражений для задач отображения, фильтрации и сортировки.\n",
        "\n",
        "\n"
      ],
      "metadata": {
        "id": "A1UMdzQGjFix"
      }
    },
    {
      "cell_type": "markdown",
      "source": [
        "## Решение"
      ],
      "metadata": {
        "id": "RGlwZaXQrAfd"
      }
    },
    {
      "cell_type": "markdown",
      "source": [
        "Файл `pr7_00.txt` расположен репозитории. Выполним копирование файла в локальное хранилище Google Colab, используя следующую команду:"
      ],
      "metadata": {
        "id": "dusmGf0PoHeU"
      }
    },
    {
      "cell_type": "code",
      "execution_count": 1,
      "metadata": {
        "id": "GRcewQyGh7dD",
        "colab": {
          "base_uri": "https://localhost:8080/"
        },
        "outputId": "4a32ffac-709c-4008-b4dd-a9a46eb07ff0"
      },
      "outputs": [
        {
          "output_type": "stream",
          "name": "stdout",
          "text": [
            "--2023-09-12 08:23:08--  https://raw.githubusercontent.com/enikolaev/Algorithmization_and_programming/main/data/data_pr7/pr7_00.csv\n",
            "Resolving raw.githubusercontent.com (raw.githubusercontent.com)... 185.199.108.133, 185.199.109.133, 185.199.110.133, ...\n",
            "Connecting to raw.githubusercontent.com (raw.githubusercontent.com)|185.199.108.133|:443... connected.\n",
            "HTTP request sent, awaiting response... 200 OK\n",
            "Length: 70401 (69K) [text/plain]\n",
            "Saving to: ‘pr7_00.csv’\n",
            "\n",
            "pr7_00.csv          100%[===================>]  68.75K  --.-KB/s    in 0.04s   \n",
            "\n",
            "2023-09-12 08:23:09 (1.64 MB/s) - ‘pr7_00.csv’ saved [70401/70401]\n",
            "\n"
          ]
        }
      ],
      "source": [
        "!wget https://raw.githubusercontent.com/enikolaev/Algorithmization_and_programming/main/data/data_pr7/pr7_00.csv\n"
      ]
    },
    {
      "cell_type": "markdown",
      "source": [
        "Можно скопировать и поместить файл с данными нв виртуальную машину Google Colab любым удобным способом"
      ],
      "metadata": {
        "id": "hupq--jq0PA3"
      }
    },
    {
      "cell_type": "markdown",
      "source": [
        "Реализуем чтение строк и их преобразование в словари:"
      ],
      "metadata": {
        "id": "7F4tUxgX1dwL"
      }
    },
    {
      "cell_type": "code",
      "source": [
        "# список для хранения пользователей\n",
        "peoples = []\n",
        "with open('pr7_00.csv') as f:\n",
        "  f.readline()\n",
        "  for line in f:\n",
        "    d = line.strip().split(',')\n",
        "    # формируем словарь для пользователя\n",
        "    user = {}\n",
        "    # ID,Fname,Lname,Email,Gender,Salary,HasChildren\n",
        "    user['ID'] = d[0]\n",
        "    user['Fname'] = d[1]\n",
        "    user['Lname'] = d[2]\n",
        "    user['Email'] = d[3]\n",
        "    user['Gender'] = d[4]\n",
        "    user['Salary'] = float(d[5][1:])\n",
        "    user['HasChildren'] = True if d[6]=='true' else False\n",
        "    peoples.append(user)\n",
        "print(len(peoples))"
      ],
      "metadata": {
        "id": "wC0xN5bamg5d",
        "colab": {
          "base_uri": "https://localhost:8080/"
        },
        "outputId": "74fcb136-d300-4db3-b90a-5ceef6efa71a"
      },
      "execution_count": 2,
      "outputs": [
        {
          "output_type": "stream",
          "name": "stdout",
          "text": [
            "1000\n"
          ]
        }
      ]
    },
    {
      "cell_type": "markdown",
      "source": [
        "Посмотрим на формат получившегося элемента списка:"
      ],
      "metadata": {
        "id": "UINTjduhO1zh"
      }
    },
    {
      "cell_type": "code",
      "source": [
        "print(peoples[0])"
      ],
      "metadata": {
        "colab": {
          "base_uri": "https://localhost:8080/"
        },
        "id": "YbaeAq96O0eK",
        "outputId": "fd5ef159-028e-4fe6-d78c-4629fff5f6b8"
      },
      "execution_count": 3,
      "outputs": [
        {
          "output_type": "stream",
          "name": "stdout",
          "text": [
            "{'ID': '80-6049749', 'Fname': 'Lester', 'Lname': 'Duquesnay', 'Email': 'lduquesnay0@cbsnews.com', 'Gender': 'Male', 'Salary': 5801.08, 'HasChildren': False}\n"
          ]
        }
      ]
    },
    {
      "cell_type": "markdown",
      "source": [
        "Решим задачу: демонстрация возможностей сортировки пользователей. Будем сортировать по уровню заработной платы"
      ],
      "metadata": {
        "id": "PyQlqtJcPIJX"
      }
    },
    {
      "cell_type": "code",
      "source": [
        "# Сортировка по зарплате\n",
        "peoples.sort(key = lambda u: u['Salary'])\n",
        "# Выведем первых 10 пользователей\n",
        "for i in range(10):\n",
        "  user = peoples[i]\n",
        "  print(user['Fname'], user['Lname'], user['Salary'])"
      ],
      "metadata": {
        "colab": {
          "base_uri": "https://localhost:8080/"
        },
        "id": "36zfMMRyPUsm",
        "outputId": "f1d5ebde-4ed1-43e1-ea52-ef9d243cd59e"
      },
      "execution_count": 5,
      "outputs": [
        {
          "output_type": "stream",
          "name": "stdout",
          "text": [
            "Lionel Straun 1010.93\n",
            "Tara MacCallum 1028.34\n",
            "Lilah Sayse 1038.4\n",
            "Sly Emmanuele 1059.99\n",
            "Alex Egiloff 1063.83\n",
            "Basilius Thomazin 1072.83\n",
            "Abramo Norcutt 1073.95\n",
            "Avigdor Gypps 1079.1\n",
            "Hurley Josefer 1083.58\n",
            "Franny De Maine 1091.25\n"
          ]
        }
      ]
    },
    {
      "cell_type": "markdown",
      "source": [
        "Решим задачу: фильтрация пользователей. Найдем всех пользователей с зарплатой выше 5000.00, мужского пола и без детей"
      ],
      "metadata": {
        "id": "oPhGdeTjPYjG"
      }
    },
    {
      "cell_type": "code",
      "source": [
        "target = filter(lambda u : u['Gender']=='Male' and \\\n",
        "                not u['HasChildren'] and \\\n",
        "                u['Salary'] > 5000, \\\n",
        "                peoples)\n",
        "# Конвертируем результаты\n",
        "target = list(target)\n",
        "\n",
        "# Выведем первых 10 пользователей\n",
        "for i in range(10):\n",
        "  user = target[i]\n",
        "  print(user['Fname'], user['Lname'], user['Gender'], user['Salary'], user['HasChildren'])"
      ],
      "metadata": {
        "colab": {
          "base_uri": "https://localhost:8080/"
        },
        "id": "Hp4mzSI3PkdP",
        "outputId": "3223c9b4-3341-4f6a-b33a-74e8e54ea0d9"
      },
      "execution_count": 13,
      "outputs": [
        {
          "output_type": "stream",
          "name": "stdout",
          "text": [
            "Colas Hinrichsen Male 5006.33 False\n",
            "Ailbert Britton Male 5054.56 False\n",
            "Hersh Shakespear Male 5175.33 False\n",
            "Aldous Sanham Male 5177.97 False\n",
            "Culley Skittreal Male 5239.55 False\n",
            "Rockwell Leith-Harvey Male 5254.75 False\n",
            "Erny Vasey Male 5335.47 False\n",
            "Xenos Albasini Male 5394.56 False\n",
            "Fletcher Ashingden Male 5416.23 False\n",
            "Tremaine Childrens Male 5600.58 False\n"
          ]
        }
      ]
    },
    {
      "cell_type": "markdown",
      "source": [
        "Решим задачу: продемонстрировать возможности отображения. На основе имеющегося списка построить новый, который содержит только поля ФИО и зарплата"
      ],
      "metadata": {
        "id": "PEIeBZj_PY5Q"
      }
    },
    {
      "cell_type": "code",
      "source": [
        "target = map(lambda u : (u['Fname'] + ' ' + u['Lname'], \\\n",
        "                         u['Salary']), \\\n",
        "             peoples)\n",
        "target = list(target)\n",
        "# Печатаем первых трех\n",
        "print(target[:3])"
      ],
      "metadata": {
        "colab": {
          "base_uri": "https://localhost:8080/"
        },
        "id": "XtpOxRr4Pj_T",
        "outputId": "6e5f0a25-fac3-44c3-e701-024fea5f55c5"
      },
      "execution_count": 19,
      "outputs": [
        {
          "output_type": "stream",
          "name": "stdout",
          "text": [
            "[('Lionel Straun', 1010.93), ('Tara MacCallum', 1028.34), ('Lilah Sayse', 1038.4)]\n"
          ]
        }
      ]
    },
    {
      "cell_type": "markdown",
      "source": [
        "Выполните задание в соответствии с индивидуальным вариантом"
      ],
      "metadata": {
        "id": "i1TowSLeYGn5"
      }
    },
    {
      "cell_type": "code",
      "source": [
        "# Здесь код индивидуального задания..."
      ],
      "metadata": {
        "id": "pxTngNJoYL2x"
      },
      "execution_count": null,
      "outputs": []
    }
  ]
}