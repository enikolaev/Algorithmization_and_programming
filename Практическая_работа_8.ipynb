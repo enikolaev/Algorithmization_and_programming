{
  "nbformat": 4,
  "nbformat_minor": 0,
  "metadata": {
    "colab": {
      "provenance": [],
      "toc_visible": true,
      "authorship_tag": "ABX9TyNWeNIaaG4AuZiDZ6PoPK5x",
      "include_colab_link": true
    },
    "kernelspec": {
      "name": "python3",
      "display_name": "Python 3"
    },
    "language_info": {
      "name": "python"
    }
  },
  "cells": [
    {
      "cell_type": "markdown",
      "metadata": {
        "id": "view-in-github",
        "colab_type": "text"
      },
      "source": [
        "<a href=\"https://colab.research.google.com/github/enikolaev/Algorithmization_and_programming/blob/main/%D0%9F%D1%80%D0%B0%D0%BA%D1%82%D0%B8%D1%87%D0%B5%D1%81%D0%BA%D0%B0%D1%8F_%D1%80%D0%B0%D0%B1%D0%BE%D1%82%D0%B0_8.ipynb\" target=\"_parent\"><img src=\"https://colab.research.google.com/assets/colab-badge.svg\" alt=\"Open In Colab\"/></a>"
      ]
    },
    {
      "cell_type": "markdown",
      "source": [
        "# Практическая работа 8. Многомодульные программы"
      ],
      "metadata": {
        "id": "C3DZeo7xi2HL"
      }
    },
    {
      "cell_type": "markdown",
      "source": [
        "## Задание"
      ],
      "metadata": {
        "id": "8wIyzax9q7JF"
      }
    },
    {
      "cell_type": "markdown",
      "source": [
        "Оля составляет слова перестановкой букв слова СПОРТЛОТО, оставляя слова с гласной либо только в начале, либо только в конце слова. Все полученные различные слова Оля отсортировала по алфавиту и пронумеровала, начиная с 1. Какой номер у последнего слова?"
      ],
      "metadata": {
        "id": "A1UMdzQGjFix"
      }
    },
    {
      "cell_type": "markdown",
      "source": [
        "## Решение"
      ],
      "metadata": {
        "id": "RGlwZaXQrAfd"
      }
    },
    {
      "cell_type": "markdown",
      "source": [
        "Задача комбинаторная, но решить ее можно и не зная теоретического материала комбинаторики. В Python существует библиотека, которая может помочь перебрать все варианты сочетаний, перестановок..."
      ],
      "metadata": {
        "id": "dusmGf0PoHeU"
      }
    },
    {
      "cell_type": "code",
      "source": [
        "import itertools\n",
        "# получаем справвку по библиотеке\n",
        "print(help(itertools))"
      ],
      "metadata": {
        "id": "fvILxo2yVRqx"
      },
      "execution_count": null,
      "outputs": []
    },
    {
      "cell_type": "code",
      "execution_count": 6,
      "metadata": {
        "id": "GRcewQyGh7dD",
        "colab": {
          "base_uri": "https://localhost:8080/"
        },
        "outputId": "b61c6c49-55ee-4937-81e5-2611bf4c24aa"
      },
      "outputs": [
        {
          "output_type": "stream",
          "name": "stdout",
          "text": [
            "181440\n"
          ]
        }
      ],
      "source": [
        "import itertools\n",
        "# допустимый алфавит\n",
        "alf = sorted('СПОРТЛОТО')\n",
        "number = 0\n",
        "for word in itertools.permutations(alf):\n",
        "  word = ''.join(word)\n",
        "  if (word[0] == 'О' and word[-1] != 'О') \\\n",
        "  or (word[0] != 'О' and word[-1] == 'О'):\n",
        "    number += 1\n",
        "    # print(number, word)\n",
        "print(number)"
      ]
    },
    {
      "cell_type": "markdown",
      "source": [
        "Для решения данной задачи ичпользовалась библиотека `itertools`, и функция `permutations`, которая возвращает итератор, предоставляющий доступ к коллекции перестановок для заданного алфавита"
      ],
      "metadata": {
        "id": "rSwIaApwWypl"
      }
    },
    {
      "cell_type": "markdown",
      "source": [
        "Решите пример в соответствии с индивидуальным заданием"
      ],
      "metadata": {
        "id": "QiFbfF__OGUP"
      }
    },
    {
      "cell_type": "code",
      "source": [
        "# Здесь код индивидуального задания..."
      ],
      "metadata": {
        "id": "qryaJhoGOG2f"
      },
      "execution_count": null,
      "outputs": []
    }
  ]
}