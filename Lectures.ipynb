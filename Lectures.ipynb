{
  "nbformat": 4,
  "nbformat_minor": 0,
  "metadata": {
    "colab": {
      "provenance": [],
      "authorship_tag": "ABX9TyPcuFbEtuG+CvSKOSNLJbuU",
      "include_colab_link": true
    },
    "kernelspec": {
      "name": "python3",
      "display_name": "Python 3"
    },
    "language_info": {
      "name": "python"
    }
  },
  "cells": [
    {
      "cell_type": "markdown",
      "metadata": {
        "id": "view-in-github",
        "colab_type": "text"
      },
      "source": [
        "<a href=\"https://colab.research.google.com/github/enikolaev/Algorithmization_and_programming/blob/main/Lectures.ipynb\" target=\"_parent\"><img src=\"https://colab.research.google.com/assets/colab-badge.svg\" alt=\"Open In Colab\"/></a>"
      ]
    },
    {
      "cell_type": "markdown",
      "source": [
        "# Лекция 2"
      ],
      "metadata": {
        "id": "MqD3cExaKa1z"
      }
    },
    {
      "cell_type": "code",
      "execution_count": null,
      "metadata": {
        "colab": {
          "base_uri": "https://localhost:8080/"
        },
        "id": "NKJB6xRPtuf_",
        "outputId": "4784d90b-e9a7-4cca-82d6-997c535a1318"
      },
      "outputs": [
        {
          "output_type": "stream",
          "name": "stdout",
          "text": [
            "У меня на счете 2.75 рублей.\n",
            "А теперь там 99.95 рублей!\n"
          ]
        }
      ],
      "source": [
        "# Эта программа показывает повторное присвоение значения переменной.\n",
        "# Присвоить значение переменной roubles.\n",
        "roubles = 2.75\n",
        "print('У меня на счете', roubles, 'рублей.')\n",
        "# Повторно присвоить значение переменной roubles,\n",
        "# чтобы она ссылалась на другое значение.\n",
        "roubles = 99.95\n",
        "print('А теперь там', roubles, 'рублей!')"
      ]
    },
    {
      "cell_type": "code",
      "source": [
        "room = 211\n",
        "roubles = 99.999\n",
        "print(room, type(room))\n",
        "print(roubles, type(roubles))"
      ],
      "metadata": {
        "colab": {
          "base_uri": "https://localhost:8080/"
        },
        "id": "kb8AyAt3-yOR",
        "outputId": "e9ee9af0-198a-4c9c-bc28-75c9acdfe339"
      },
      "execution_count": null,
      "outputs": [
        {
          "output_type": "stream",
          "name": "stdout",
          "text": [
            "211 <class 'int'>\n",
            "99.999 <class 'float'>\n"
          ]
        }
      ]
    },
    {
      "cell_type": "code",
      "source": [
        "first_name='Evgeny'\n",
        "last_name=\"Nikolaev\"\n",
        "print(first_name, type(first_name))\n",
        "print(last_name, type(last_name))"
      ],
      "metadata": {
        "colab": {
          "base_uri": "https://localhost:8080/"
        },
        "id": "YxFuKT9BAxv_",
        "outputId": "a35ad13a-3082-4bc0-8bf6-dc271b61b2a2"
      },
      "execution_count": null,
      "outputs": [
        {
          "output_type": "stream",
          "name": "stdout",
          "text": [
            "Evgeny <class 'str'>\n",
            "Nikolaev <class 'str'>\n"
          ]
        }
      ]
    },
    {
      "cell_type": "code",
      "source": [
        "x = 100\n",
        "print(x, type(x))\n",
        "\n",
        "x = 'Николаев Евгений Иванович'\n",
        "print(x, type(x))\n",
        "\n",
        "x = 3.14\n",
        "print(x, type(x))"
      ],
      "metadata": {
        "colab": {
          "base_uri": "https://localhost:8080/"
        },
        "id": "ZzwyoKcnCGxW",
        "outputId": "227f45a4-3bdf-414d-96e0-2f9ac852b051"
      },
      "execution_count": null,
      "outputs": [
        {
          "output_type": "stream",
          "name": "stdout",
          "text": [
            "100 <class 'int'>\n",
            "Николаев Евгений Иванович <class 'str'>\n",
            "3.14 <class 'float'>\n"
          ]
        }
      ]
    },
    {
      "cell_type": "code",
      "source": [
        "name = input('как вас зовут? ')\n",
        "print('Понятно, ', name, '. Я запомню!')"
      ],
      "metadata": {
        "colab": {
          "base_uri": "https://localhost:8080/"
        },
        "id": "ut43-HWDFFcv",
        "outputId": "2d9d9d07-f36f-44cd-9f08-e5a56d9b266e"
      },
      "execution_count": null,
      "outputs": [
        {
          "output_type": "stream",
          "name": "stdout",
          "text": [
            "как вас зовут? John\n",
            "Понятно,  John . Я запомню!\n"
          ]
        }
      ]
    },
    {
      "cell_type": "code",
      "source": [
        "# Зарплата\n",
        "salary = 15000.00\n",
        "# Премия\n",
        "bonus = 13500.80\n",
        "# Ставка налога\n",
        "tax = 13\n",
        "# Сумма налога\n",
        "total_tax = (salary + bonus) * tax / 100\n",
        "# итоговая выплата\n",
        "total_outcome = (salary + bonus) - total_tax\n",
        "print('Выплата на руки', total_outcome)"
      ],
      "metadata": {
        "colab": {
          "base_uri": "https://localhost:8080/"
        },
        "id": "kUv9Y8Mes4VZ",
        "outputId": "9576b7ea-a634-487e-b651-9792f4ec25a1"
      },
      "execution_count": null,
      "outputs": [
        {
          "output_type": "stream",
          "name": "stdout",
          "text": [
            "Выплата на руки 24795.696\n"
          ]
        }
      ]
    },
    {
      "cell_type": "code",
      "source": [
        "salary = 15000.00\n",
        "bonus = 13500.80\n",
        "tax = 13\n",
        "total_tax = (salary + bonus) * tax / 100\n",
        "total_outcome = (salary + bonus) - total_tax\n",
        "total_outcome = round(total_outcome, 2)\n",
        "print('Выплата на руки', total_outcome)"
      ],
      "metadata": {
        "colab": {
          "base_uri": "https://localhost:8080/"
        },
        "id": "W5XK8-WfwOzP",
        "outputId": "a0ea7e47-2897-47a3-9c11-f382e118fd5b"
      },
      "execution_count": null,
      "outputs": [
        {
          "output_type": "stream",
          "name": "stdout",
          "text": [
            "Выплата на руки 24795.7\n"
          ]
        }
      ]
    },
    {
      "cell_type": "code",
      "source": [
        "# Количество отработанных часов\n",
        "hours = 25\n",
        "# Стоимость часа работы\n",
        "tax = 550.37\n",
        "\n",
        "# Итоговый заработок\n",
        "outcome = hours * tax\n",
        "\n",
        "print('Итого к выплате: ', outcome)"
      ],
      "metadata": {
        "colab": {
          "base_uri": "https://localhost:8080/"
        },
        "id": "D5nNJa4X02la",
        "outputId": "97189e1e-ef5b-43e9-aa7b-2ac6a396c472"
      },
      "execution_count": null,
      "outputs": [
        {
          "output_type": "stream",
          "name": "stdout",
          "text": [
            "Итого к выплате:  13759.25\n"
          ]
        }
      ]
    },
    {
      "cell_type": "markdown",
      "source": [
        "# Лекция 3"
      ],
      "metadata": {
        "id": "aSYdHr8CKp8k"
      }
    },
    {
      "cell_type": "code",
      "source": [
        "# Количество отработанных часов\n",
        "hours = 40\n",
        "# Стоимость часа работы\n",
        "tax = 550.37\n",
        "\n",
        "# Итоговый заработок\n",
        "outcome = hours * tax\n",
        "if hours >= 40:\n",
        "  outcome = outcome + 0.1 * outcome\n",
        "\n",
        "outcome = round(outcome, 2)\n",
        "print('Итого к выплате: ', outcome)"
      ],
      "metadata": {
        "colab": {
          "base_uri": "https://localhost:8080/"
        },
        "id": "h_strL1B2LXt",
        "outputId": "cbc6fd44-f818-428d-ad3a-20feedc65ec7"
      },
      "execution_count": null,
      "outputs": [
        {
          "output_type": "stream",
          "name": "stdout",
          "text": [
            "Итого к выплате:  24216.28\n"
          ]
        }
      ]
    },
    {
      "cell_type": "code",
      "source": [
        "# Количество отработанных часов\n",
        "hours = 40\n",
        "# Стоимость часа работы\n",
        "tax = 550.37\n",
        "\n",
        "# Итоговый заработок\n",
        "outcome = hours * tax\n",
        "if hours >= 40:\n",
        "  outcome = outcome + 0.1 * outcome\n",
        "  print('Премия начислена!!!')\n",
        "  print('Премия в размере 10%')\n",
        "\n",
        "outcome = round(outcome, 2)\n",
        "print('Итого к выплате: ', outcome)"
      ],
      "metadata": {
        "colab": {
          "base_uri": "https://localhost:8080/"
        },
        "id": "bp_wjj4uff0X",
        "outputId": "d6c0ce75-b9d2-40a2-de29-1c11e5bc4e41"
      },
      "execution_count": null,
      "outputs": [
        {
          "output_type": "stream",
          "name": "stdout",
          "text": [
            "Премия начислена!!!\n",
            "Премия в размере 10%\n",
            "Итого к выплате:  24216.28\n"
          ]
        }
      ]
    },
    {
      "cell_type": "code",
      "source": [
        "# Количество отработанных часов\n",
        "hours = 38\n",
        "# Стоимость часа работы\n",
        "tax = 550.37\n",
        "\n",
        "outcome = hours * tax\n",
        "if hours >= 40:\n",
        "  outcome = outcome + 0.2 * outcome\n",
        "  print('Премия начислена!!! Размер премии 20%')\n",
        "else:\n",
        "  outcome = outcome - 1000\n",
        "  print('Удержано 1000 рублей')\n",
        "\n",
        "outcome = round(outcome, 2)\n",
        "print('Итого к выплате: ', outcome)"
      ],
      "metadata": {
        "colab": {
          "base_uri": "https://localhost:8080/"
        },
        "id": "nG_3mrnAlKNs",
        "outputId": "01f1640d-ffd9-48de-f35d-553949222c69"
      },
      "execution_count": null,
      "outputs": [
        {
          "output_type": "stream",
          "name": "stdout",
          "text": [
            "Удержано 1000 рублей\n",
            "Итого к выплате:  19914.06\n"
          ]
        }
      ]
    },
    {
      "cell_type": "code",
      "source": [
        "# Количество отработанных часов\n",
        "hours = 32\n",
        "# Стоимость часа работы\n",
        "tax = 400\n",
        "\n",
        "outcome = hours * tax\n",
        "if hours >= 0 and hours < 9:\n",
        "  outcome = outcome - 0.2 * outcome\n",
        "  print('Начислен штраф в размере 10%')\n",
        "else:\n",
        "  if hours >= 10 and hours < 19:\n",
        "    print('Нет ни премий, ни удержаний')\n",
        "  else:\n",
        "    if hours >= 20 and hours < 29:\n",
        "      outcome = outcome + 0.1 * outcome\n",
        "      print('Начислена премия в размере 10%')\n",
        "    else:\n",
        "      if hours >= 30 and hours < 39:\n",
        "        outcome = outcome + 0.2 * outcome\n",
        "        print('Начислена премия в размере 20%')\n",
        "      else:\n",
        "        if hours >= 40:\n",
        "          outcome = outcome + 0.3 * outcome\n",
        "          print('Начислена премия в размере 30%')\n",
        "outcome = round(outcome, 2)\n",
        "print('Итого к выплате: ', outcome)"
      ],
      "metadata": {
        "colab": {
          "base_uri": "https://localhost:8080/"
        },
        "id": "yWEeTey6lvaG",
        "outputId": "db5632b7-f1bd-4aa0-f92c-c422f0330dec"
      },
      "execution_count": null,
      "outputs": [
        {
          "output_type": "stream",
          "name": "stdout",
          "text": [
            "Начислена премия в размере 20%\n",
            "Итого к выплате:  15360.0\n"
          ]
        }
      ]
    },
    {
      "cell_type": "code",
      "source": [
        "# Количество отработанных часов\n",
        "hours = 32\n",
        "# Стоимость часа работы\n",
        "tax = 400\n",
        "outcome = hours * tax\n",
        "if hours >= 0 and hours < 9:\n",
        "  outcome = outcome - 0.2 * outcome\n",
        "  print('Начислен штраф в размере 10%')\n",
        "elif hours < 19:\n",
        "  print('Нет ни премий, ни удержаний')\n",
        "elif hours < 29:\n",
        "  outcome = outcome + 0.1 * outcome\n",
        "  print('Начислена премия в размере 10%')\n",
        "elif hours < 39:\n",
        "  outcome = outcome + 0.2 * outcome\n",
        "  print('Начислена премия в размере 20%')\n",
        "else:\n",
        "  outcome = outcome + 0.3 * outcome\n",
        "  print('Начислена премия в размере 30%')\n",
        "outcome = round(outcome, 2)\n",
        "print('Итого к выплате: ', outcome)"
      ],
      "metadata": {
        "colab": {
          "base_uri": "https://localhost:8080/"
        },
        "id": "ey32U_myqcO0",
        "outputId": "8cdb2c05-aecc-43f2-cd21-be1fb1616470"
      },
      "execution_count": null,
      "outputs": [
        {
          "output_type": "stream",
          "name": "stdout",
          "text": [
            "Начислена премия в размере 20%\n",
            "Итого к выплате:  15360.0\n"
          ]
        }
      ]
    },
    {
      "cell_type": "code",
      "source": [
        "h = float(input('высота бака, см > '))\n",
        "r = float(input('радиус основания бака, см > '))\n",
        "v = 3.14 * (r**2) * h\n",
        "print('Объекм бака', v, 'куб. см')\n",
        "print('*' * 50)\n",
        "\n",
        "h = float(input('высота бака, см > '))\n",
        "r = float(input('радиус основания бака, см > '))\n",
        "v = 3.14 * (r**2) * h\n",
        "print('Объекм бака', v, 'куб. см')\n",
        "print('*' * 50)\n",
        "\n",
        "h = float(input('высота бака, см > '))\n",
        "r = float(input('радиус основания бака, см > '))\n",
        "v = 3.14 * (r**2) * h\n",
        "print('Объекм бака', v, 'куб. см')\n",
        "print('*' * 50)"
      ],
      "metadata": {
        "colab": {
          "base_uri": "https://localhost:8080/"
        },
        "id": "F-5BWxSt4PrR",
        "outputId": "018c6c76-e7fc-4cef-8f8d-77ba0467fa8e"
      },
      "execution_count": null,
      "outputs": [
        {
          "output_type": "stream",
          "name": "stdout",
          "text": [
            "высота бака, см > 1\n",
            "радиус основания бака, см > 2\n",
            "Объекм бака 12.56 куб. см\n",
            "**************************************************\n",
            "высота бака, см > 3\n",
            "радиус основания бака, см > 4\n",
            "Объекм бака 150.72 куб. см\n",
            "**************************************************\n",
            "высота бака, см > 4\n",
            "радиус основания бака, см > 9\n",
            "Объекм бака 1017.36 куб. см\n",
            "**************************************************\n"
          ]
        }
      ]
    },
    {
      "cell_type": "code",
      "source": [
        "keep_going = 'Y'\n",
        "while keep_going == 'Y' or keep_going == 'y':\n",
        "  h = float(input('высота бака, см > '))\n",
        "  r = float(input('радиус основания бака, см > '))\n",
        "  v = 3.14 * (r**2) * h\n",
        "  print('Объекм бака', v, 'куб. см')\n",
        "  print('*' * 50)\n",
        "  keep_going = input('Вычислим еще один? (Y или y - продолжим) > ')"
      ],
      "metadata": {
        "colab": {
          "base_uri": "https://localhost:8080/"
        },
        "id": "n-T27mCN8445",
        "outputId": "65af6707-4c62-4875-8cd9-6b1d697aeced"
      },
      "execution_count": null,
      "outputs": [
        {
          "name": "stdout",
          "output_type": "stream",
          "text": [
            "высота бака, см > 1\n",
            "радиус основания бака, см > 2\n",
            "Объекм бака 12.56 куб. см\n",
            "**************************************************\n",
            "Вычислим еще один? (Y или y - продолжим) > y\n",
            "высота бака, см > 5\n",
            "радиус основания бака, см > 6\n",
            "Объекм бака 565.2 куб. см\n",
            "**************************************************\n",
            "Вычислим еще один? (Y или y - продолжим) > Y\n",
            "высота бака, см > 5\n",
            "радиус основания бака, см > 5\n",
            "Объекм бака 392.5 куб. см\n",
            "**************************************************\n",
            "Вычислим еще один? (Y или y - продолжим) > y\n",
            "высота бака, см > 7\n",
            "радиус основания бака, см > 7\n",
            "Объекм бака 1077.02 куб. см\n",
            "**************************************************\n",
            "Вычислим еще один? (Y или y - продолжим) > n\n"
          ]
        }
      ]
    },
    {
      "cell_type": "code",
      "source": [
        "for x in [1,3,4,5,6,78]:\n",
        "  print('*' * 20)\n",
        "  print(x, '\\t', x*x)"
      ],
      "metadata": {
        "colab": {
          "base_uri": "https://localhost:8080/"
        },
        "id": "roMMmc4dBAj1",
        "outputId": "9b1a792f-528e-4196-b360-8a7f5526ad89"
      },
      "execution_count": null,
      "outputs": [
        {
          "output_type": "stream",
          "name": "stdout",
          "text": [
            "********************\n",
            "1 \t 1\n",
            "********************\n",
            "3 \t 9\n",
            "********************\n",
            "4 \t 16\n",
            "********************\n",
            "5 \t 25\n",
            "********************\n",
            "6 \t 36\n",
            "********************\n",
            "78 \t 6084\n"
          ]
        }
      ]
    },
    {
      "cell_type": "code",
      "source": [
        "for x in [2,'abc', True, 4.55, 5, 'Hello']:\n",
        "  print('*' * 20)\n",
        "  if type(x)==int or type(x)==float:\n",
        "    print(x, '\\t', x*x)\n",
        "  else:\n",
        "    print(x)"
      ],
      "metadata": {
        "colab": {
          "base_uri": "https://localhost:8080/"
        },
        "id": "PsoYndiPBfkn",
        "outputId": "b0e060d1-f8a8-4641-99d3-7d46110cd5cc"
      },
      "execution_count": null,
      "outputs": [
        {
          "output_type": "stream",
          "name": "stdout",
          "text": [
            "********************\n",
            "2 \t 4\n",
            "********************\n",
            "abc\n",
            "********************\n",
            "True\n",
            "********************\n",
            "4.55 \t 20.702499999999997\n",
            "********************\n",
            "5 \t 25\n",
            "********************\n",
            "Hello\n"
          ]
        }
      ]
    },
    {
      "cell_type": "code",
      "source": [
        "for e in range(20):\n",
        "  print(e, end = ', ')"
      ],
      "metadata": {
        "colab": {
          "base_uri": "https://localhost:8080/"
        },
        "id": "Lood1-QPFHyK",
        "outputId": "1b3dd970-d071-434d-cb75-3e7a1c075453"
      },
      "execution_count": null,
      "outputs": [
        {
          "output_type": "stream",
          "name": "stdout",
          "text": [
            "0, 1, 2, 3, 4, 5, 6, 7, 8, 9, 10, 11, 12, 13, 14, 15, 16, 17, 18, 19, "
          ]
        }
      ]
    },
    {
      "cell_type": "code",
      "source": [
        "for e in range(14, 20):\n",
        "  print(e, end = ', ')"
      ],
      "metadata": {
        "colab": {
          "base_uri": "https://localhost:8080/"
        },
        "id": "OWKaaYOlGOAd",
        "outputId": "f9802e50-25dd-4fa4-87a7-73eea53b4c72"
      },
      "execution_count": null,
      "outputs": [
        {
          "output_type": "stream",
          "name": "stdout",
          "text": [
            "14, 15, 16, 17, 18, 19, "
          ]
        }
      ]
    },
    {
      "cell_type": "code",
      "source": [
        "for e in range(10, 100, 20):\n",
        "  print(e, end = ', ')"
      ],
      "metadata": {
        "colab": {
          "base_uri": "https://localhost:8080/"
        },
        "id": "QFGYb3N9GquF",
        "outputId": "da7b2a1e-1637-4389-b991-8173c2298dbf"
      },
      "execution_count": null,
      "outputs": [
        {
          "output_type": "stream",
          "name": "stdout",
          "text": [
            "10, 30, 50, 70, 90, "
          ]
        }
      ]
    },
    {
      "cell_type": "code",
      "source": [
        "total = 0\n",
        "print('Месяц \\t Продажи \\t Накопительный итог')\n",
        "print('-'*50)\n",
        "for i in range(12):\n",
        "  month_number = i+1 # Вычисляем номер месяца\n",
        "  money = month_number * 1000 / (month_number + 1)\n",
        "  total = total + money\n",
        "  print(month_number, ' \\t', round(money, 2), ' \\t', round(total, 2))"
      ],
      "metadata": {
        "colab": {
          "base_uri": "https://localhost:8080/"
        },
        "id": "wxTidMN3JvSN",
        "outputId": "e839ac24-03ed-4128-dd70-4a42a43f0abb"
      },
      "execution_count": null,
      "outputs": [
        {
          "output_type": "stream",
          "name": "stdout",
          "text": [
            "Месяц \t Продажи \t Накопительный итог\n",
            "--------------------------------------------------\n",
            "1  \t 500.0  \t 500.0\n",
            "2  \t 666.67  \t 1166.67\n",
            "3  \t 750.0  \t 1916.67\n",
            "4  \t 800.0  \t 2716.67\n",
            "5  \t 833.33  \t 3550.0\n",
            "6  \t 857.14  \t 4407.14\n",
            "7  \t 875.0  \t 5282.14\n",
            "8  \t 888.89  \t 6171.03\n",
            "9  \t 900.0  \t 7071.03\n",
            "10  \t 909.09  \t 7980.12\n",
            "11  \t 916.67  \t 8896.79\n",
            "12  \t 923.08  \t 9819.87\n"
          ]
        }
      ]
    },
    {
      "cell_type": "code",
      "source": [
        "N = int(input('Введите целое число N > '))\n",
        "N_fact = 1\n",
        "while N>0:\n",
        "  N_fact = N_fact * N\n",
        "  N = N - 1\n",
        "\n",
        "print('N! = ', N_fact)"
      ],
      "metadata": {
        "colab": {
          "base_uri": "https://localhost:8080/"
        },
        "id": "EockaKipNYoG",
        "outputId": "69e14ca8-ad71-4189-e7e6-2977aba76238"
      },
      "execution_count": null,
      "outputs": [
        {
          "output_type": "stream",
          "name": "stdout",
          "text": [
            "Введите целое число N > 25\n",
            "N! =  15511210043330985984000000\n"
          ]
        }
      ]
    },
    {
      "cell_type": "markdown",
      "source": [
        "# Лекция 4"
      ],
      "metadata": {
        "id": "ah-pO_6vLEeT"
      }
    },
    {
      "cell_type": "code",
      "source": [
        "def error_message():\n",
        "  print('*'*25)\n",
        "  print('*   Произошла ошибка!   *')\n",
        "  print('*'*25)"
      ],
      "metadata": {
        "id": "wSMpHx7RVxea"
      },
      "execution_count": null,
      "outputs": []
    },
    {
      "cell_type": "code",
      "source": [
        "error_message()"
      ],
      "metadata": {
        "colab": {
          "base_uri": "https://localhost:8080/"
        },
        "id": "yZ8JRRlTWMvY",
        "outputId": "e318cb22-d5ac-46a0-b3d0-92644f7b2e28"
      },
      "execution_count": null,
      "outputs": [
        {
          "output_type": "stream",
          "name": "stdout",
          "text": [
            "*************************\n",
            "*   Произошла ошибка!   *\n",
            "*************************\n"
          ]
        }
      ]
    },
    {
      "cell_type": "code",
      "source": [
        "def main():\n",
        "  for _ in range(3):\n",
        "    error_message()"
      ],
      "metadata": {
        "id": "mR0heFZfYHMe"
      },
      "execution_count": null,
      "outputs": []
    },
    {
      "cell_type": "code",
      "source": [
        "main()"
      ],
      "metadata": {
        "colab": {
          "base_uri": "https://localhost:8080/"
        },
        "id": "B3d3QU-UYdlq",
        "outputId": "35d974e2-fe9c-46a7-cc48-235a401942ab"
      },
      "execution_count": null,
      "outputs": [
        {
          "output_type": "stream",
          "name": "stdout",
          "text": [
            "*************************\n",
            "*   Произошла ошибка!   *\n",
            "*************************\n",
            "*************************\n",
            "*   Произошла ошибка!   *\n",
            "*************************\n",
            "*************************\n",
            "*   Произошла ошибка!   *\n",
            "*************************\n"
          ]
        }
      ]
    },
    {
      "cell_type": "code",
      "source": [
        "def print_my_function(x):\n",
        "  print('*'*50)\n",
        "  print('Значение x =', x)\n",
        "  print('Квадрат x^2 =', x**2)\n",
        "  print('Куб x^3 =', x**3)\n",
        "  print('Произвольная x^4 + 3*x^2 + 7 =', x**4 + 3*x**2 + 7)"
      ],
      "metadata": {
        "id": "6vD1hql0cE90"
      },
      "execution_count": null,
      "outputs": []
    },
    {
      "cell_type": "code",
      "source": [
        "print_my_function(4)\n",
        "print_my_function(14.6)\n",
        "print_my_function(77)"
      ],
      "metadata": {
        "colab": {
          "base_uri": "https://localhost:8080/"
        },
        "id": "fP7L5qXwcn_b",
        "outputId": "6e441fef-b9d2-4140-843a-8ee494d4b69f"
      },
      "execution_count": null,
      "outputs": [
        {
          "output_type": "stream",
          "name": "stdout",
          "text": [
            "**************************************************\n",
            "Значение x = 4\n",
            "Квадрат x^2 = 16\n",
            "Куб x^3 = 64\n",
            "Произвольная x^4 + 3*x^2 + 7 = 311\n",
            "**************************************************\n",
            "Значение x = 14.6\n",
            "Квадрат x^2 = 213.16\n",
            "Куб x^3 = 3112.136\n",
            "Произвольная x^4 + 3*x^2 + 7 = 46083.6656\n",
            "**************************************************\n",
            "Значение x = 77\n",
            "Квадрат x^2 = 5929\n",
            "Куб x^3 = 456533\n",
            "Произвольная x^4 + 3*x^2 + 7 = 35170835\n"
          ]
        }
      ]
    },
    {
      "cell_type": "code",
      "source": [
        "def foo(x, y, z):\n",
        "  length = x**2 + y**2 + z**2\n",
        "  print(length)\n",
        "\n",
        "foo(1, 2, 3)"
      ],
      "metadata": {
        "colab": {
          "base_uri": "https://localhost:8080/"
        },
        "id": "2imWvwwmeWyt",
        "outputId": "1802c690-2418-49cb-8a75-3fc78c7f8057"
      },
      "execution_count": null,
      "outputs": [
        {
          "output_type": "stream",
          "name": "stdout",
          "text": [
            "14\n"
          ]
        }
      ]
    },
    {
      "cell_type": "code",
      "source": [
        "# Функция с возвратом значения\n",
        "def f(x):\n",
        "  return x*x\n",
        "\n",
        "# Функция без возврата значения\n",
        "def g(x):\n",
        "  print('We are in g(). x^3 =', x*x*x)\n",
        "\n",
        "f(3)\n",
        "g(4)\n",
        "\n",
        "print(f(12))\n",
        "print(g(21))"
      ],
      "metadata": {
        "colab": {
          "base_uri": "https://localhost:8080/"
        },
        "id": "tIcQQnmOgUaG",
        "outputId": "99e26bff-3e31-44c7-f666-9f2dfc79d5a1"
      },
      "execution_count": null,
      "outputs": [
        {
          "output_type": "stream",
          "name": "stdout",
          "text": [
            "We are in g(). x^3 = 64\n",
            "144\n",
            "We are in g(). x^3 = 9261\n",
            "None\n"
          ]
        }
      ]
    },
    {
      "cell_type": "code",
      "source": [
        "import math, random\n",
        "\n",
        "# генерируем 10 случайных чисел\n",
        "# и вычисляем синус от этих значений\n",
        "for _ in range(10):\n",
        "  x = random.randint(100, 1000)\n",
        "  y = math.sin(x)\n",
        "  print('x =', x,  '\\t y =', y)"
      ],
      "metadata": {
        "colab": {
          "base_uri": "https://localhost:8080/"
        },
        "id": "-ZOMoFrDli7Q",
        "outputId": "be400eae-7b1f-4049-fa4a-2a36b93e36a8"
      },
      "execution_count": null,
      "outputs": [
        {
          "output_type": "stream",
          "name": "stdout",
          "text": [
            "x = 295 \t y = -0.30478191109030295\n",
            "x = 937 \t y = 0.7211003682427743\n",
            "x = 278 \t y = 0.99952109184891\n",
            "x = 121 \t y = 0.9988152247235795\n",
            "x = 697 \t y = -0.42011232727019937\n",
            "x = 437 \t y = -0.31325740971087507\n",
            "x = 190 \t y = 0.9977992786806003\n",
            "x = 802 \t y = -0.7795038357248097\n",
            "x = 257 \t y = -0.5733571748155426\n",
            "x = 524 \t y = 0.6019757972528995\n"
          ]
        }
      ]
    },
    {
      "cell_type": "code",
      "source": [
        "from math import sin\n",
        "from random import randint\n",
        "\n",
        "# генерируем 10 случайных чисел\n",
        "# и вычисляем синус от этих значений\n",
        "for _ in range(10):\n",
        "  x = randint(100, 1000)\n",
        "  y = sin(x)\n",
        "  print('x =', x,  '\\t y =', y)"
      ],
      "metadata": {
        "colab": {
          "base_uri": "https://localhost:8080/"
        },
        "id": "aDDYExcZpJcS",
        "outputId": "859fb671-4a15-40f5-e07e-ad744324559e"
      },
      "execution_count": null,
      "outputs": [
        {
          "output_type": "stream",
          "name": "stdout",
          "text": [
            "x = 142 \t y = -0.5877950071674065\n",
            "x = 654 \t y = 0.5216024406758817\n",
            "x = 714 \t y = -0.7568419012610816\n",
            "x = 619 \t y = -0.10604746068673451\n",
            "x = 507 \t y = -0.9333313464826719\n",
            "x = 311 \t y = 0.01767178546737087\n",
            "x = 773 \t y = 0.16741513842849595\n",
            "x = 914 \t y = 0.20206131455610385\n",
            "x = 285 \t y = 0.7738715902084317\n",
            "x = 306 \t y = -0.9537617134939987\n"
          ]
        }
      ]
    },
    {
      "cell_type": "code",
      "source": [
        "def recursive_sum(n):\n",
        "  if n<2:\n",
        "    return 1\n",
        "  else:\n",
        "      return n + recursive_sum(n-1)"
      ],
      "metadata": {
        "id": "ez30w_P5s9gb"
      },
      "execution_count": null,
      "outputs": []
    },
    {
      "cell_type": "code",
      "source": [
        "print(recursive_sum(20))"
      ],
      "metadata": {
        "colab": {
          "base_uri": "https://localhost:8080/"
        },
        "id": "QC5i4ZzptOlA",
        "outputId": "07d42957-1e0a-4592-e7b0-635a42a5025b"
      },
      "execution_count": null,
      "outputs": [
        {
          "output_type": "stream",
          "name": "stdout",
          "text": [
            "210\n"
          ]
        }
      ]
    },
    {
      "cell_type": "code",
      "source": [
        "from math import pi"
      ],
      "metadata": {
        "id": "AOA9AO8koFQp"
      },
      "execution_count": null,
      "outputs": []
    },
    {
      "cell_type": "code",
      "source": [
        "def s_rectangle(a, b):\n",
        "  return a*b"
      ],
      "metadata": {
        "id": "rEvm4S0Ontgl"
      },
      "execution_count": null,
      "outputs": []
    },
    {
      "cell_type": "code",
      "source": [
        "def s_circle(r):\n",
        "  return pi*r*r"
      ],
      "metadata": {
        "id": "mgwuD_kSn0YR"
      },
      "execution_count": null,
      "outputs": []
    },
    {
      "cell_type": "code",
      "source": [
        "def s_triangle(a):\n",
        "  return a*a*3**0.5 / 4"
      ],
      "metadata": {
        "id": "4xBiBVtXoVHg"
      },
      "execution_count": null,
      "outputs": []
    },
    {
      "cell_type": "code",
      "source": [
        "def v_ball(r):\n",
        "  return 4*r**3 / 3"
      ],
      "metadata": {
        "id": "Gv2WuTeHoc-j"
      },
      "execution_count": null,
      "outputs": []
    },
    {
      "cell_type": "code",
      "source": [
        "def v_cube(a):\n",
        "  return a**3"
      ],
      "metadata": {
        "id": "vgvieyx1okq7"
      },
      "execution_count": null,
      "outputs": []
    },
    {
      "cell_type": "code",
      "source": [
        "def question():\n",
        "  print('*'*20)\n",
        "  print('1 - Вычисление площади прямоугольника')\n",
        "  print('2 - Вычисление площади круга')\n",
        "  print('3 - Вычисление площади правильного треугольника')\n",
        "  print('4 - Вычисление объема шара')\n",
        "  print('5 - Вычисление объема куба')\n",
        "  answer = input('Выберите команду > ')\n",
        "  return answer"
      ],
      "metadata": {
        "id": "Mj54Ocw4op7K"
      },
      "execution_count": null,
      "outputs": []
    },
    {
      "cell_type": "code",
      "source": [
        "while True:\n",
        "  choice = question()\n",
        "  if choice=='1':\n",
        "    a, b = int(input('Введите a > ')), int(input('Введите b > '))\n",
        "    print('Площадь прямоугльника: ', s_rectangle(a, b))\n",
        "  elif choice=='2':\n",
        "    r = int(input('Введите r > '))\n",
        "    print('Площадь прямоугльника: ', s_circle(r))\n",
        "  elif choice=='3':\n",
        "    a = int(input('Введите сторону a > '))\n",
        "    print('Площадь прямоугльника: ', s_triangle(a))\n",
        "  elif choice=='4':\n",
        "    r = int(input('Введите r > '))\n",
        "    print('Объем шара: ', v_ball(r))\n",
        "  elif choice=='5':\n",
        "    a = int(input('Введите a > '))\n",
        "    print('Объем куба: ', v_cube(a))\n",
        "  else:\n",
        "    print('Программа завершена!')\n",
        "    break"
      ],
      "metadata": {
        "colab": {
          "base_uri": "https://localhost:8080/"
        },
        "id": "spG9gUMLpS6u",
        "outputId": "6d3b8386-b8b9-4790-de67-11ff086d8b7c"
      },
      "execution_count": null,
      "outputs": [
        {
          "output_type": "stream",
          "name": "stdout",
          "text": [
            "********************\n",
            "1 - Вычисление площади прямоугольника\n",
            "2 - Вычисление площади круга\n",
            "3 - Вычисление площади правильного треугольника\n",
            "4 - Вычисление объема шара\n",
            "5 - Вычисление объема куба\n",
            "Выберите команду > 2\n",
            "Введите r > 4\n",
            "Площадь прямоугльника:  50.26548245743669\n",
            "********************\n",
            "1 - Вычисление площади прямоугольника\n",
            "2 - Вычисление площади круга\n",
            "3 - Вычисление площади правильного треугольника\n",
            "4 - Вычисление объема шара\n",
            "5 - Вычисление объема куба\n",
            "Выберите команду > 1\n",
            "Введите a > 6\n",
            "Введите b > 7\n",
            "Площадь прямоугльника:  42\n",
            "********************\n",
            "1 - Вычисление площади прямоугольника\n",
            "2 - Вычисление площади круга\n",
            "3 - Вычисление площади правильного треугольника\n",
            "4 - Вычисление объема шара\n",
            "5 - Вычисление объема куба\n",
            "Выберите команду > 0\n",
            "Программа завершена!\n"
          ]
        }
      ]
    },
    {
      "cell_type": "markdown",
      "source": [
        "# Лекция 5"
      ],
      "metadata": {
        "id": "oElIhL23LbRx"
      }
    },
    {
      "cell_type": "code",
      "source": [
        "f = open('custumers.txt', 'w')\n",
        "f.write('Иванов П.А.\\n')\n",
        "f.write('Мирнов В.Г.\\n')\n",
        "f.write('Седов Е.В.\\n')\n",
        "f.close()"
      ],
      "metadata": {
        "id": "1vkIL_9mt19o"
      },
      "execution_count": null,
      "outputs": []
    },
    {
      "cell_type": "code",
      "source": [
        "f=open('custumers.txt')\n",
        "data = f.read()\n",
        "f.close()\n",
        "\n",
        "print(data)"
      ],
      "metadata": {
        "colab": {
          "base_uri": "https://localhost:8080/"
        },
        "id": "ZvUMRNG68t56",
        "outputId": "132fa809-9949-4bce-d76b-bfefbbfda6c1"
      },
      "execution_count": null,
      "outputs": [
        {
          "output_type": "stream",
          "name": "stdout",
          "text": [
            "Иванов П.А.\n",
            "Мирнов В.Г.\n",
            "Седов Е.В.\n",
            "\n"
          ]
        }
      ]
    },
    {
      "cell_type": "code",
      "source": [
        "f=open('money.txt')\n",
        "data1 = float( f.readline() )\n",
        "data2 = float( f.readline() )\n",
        "data3 = float( f.readline() )\n",
        "f.close()\n",
        "total = data1 + data2 + data3\n",
        "total = round(total, 2)\n",
        "print(total)"
      ],
      "metadata": {
        "colab": {
          "base_uri": "https://localhost:8080/"
        },
        "id": "tWghBTW1At4E",
        "outputId": "b195460c-6d32-4c59-a782-e9e2434e478e"
      },
      "execution_count": null,
      "outputs": [
        {
          "output_type": "stream",
          "name": "stdout",
          "text": [
            "12721.32\n"
          ]
        }
      ]
    },
    {
      "cell_type": "code",
      "source": [
        "from random import random, seed\n",
        "seed(10)\n",
        "f = open('money.txt', 'w')\n",
        "for _ in range(1000):\n",
        "  money = round( random() * 10000, 2 )\n",
        "  f.write(str(money) + '\\n')\n",
        "f.close()\n",
        "print('Task completed!')"
      ],
      "metadata": {
        "colab": {
          "base_uri": "https://localhost:8080/"
        },
        "id": "G-koaIWVZeuh",
        "outputId": "4760acb9-79ea-40cc-ad45-e121233d961e"
      },
      "execution_count": null,
      "outputs": [
        {
          "output_type": "stream",
          "name": "stdout",
          "text": [
            "Task completed!\n"
          ]
        }
      ]
    },
    {
      "cell_type": "code",
      "source": [
        "f=open('money.txt')\n",
        "min_value = 10**6\n",
        "count = 0\n",
        "sum_value = 0\n",
        "# Обходим файл построчно\n",
        "for line in f:\n",
        "  money = float(line)\n",
        "  sum_value += money\n",
        "  count += 1\n",
        "  min_value = min(min_value, money)\n",
        "f.close()\n",
        "print(f'Минимум = {min_value}, Среднее = {sum_value/count}')\n"
      ],
      "metadata": {
        "colab": {
          "base_uri": "https://localhost:8080/"
        },
        "id": "udQH8dsCbP5h",
        "outputId": "565c84e3-216f-42a6-bfc6-1da55c765c96"
      },
      "execution_count": null,
      "outputs": [
        {
          "output_type": "stream",
          "name": "stdout",
          "text": [
            "Минимум = 5.57, Среднее = 5033.190079999994\n"
          ]
        }
      ]
    },
    {
      "cell_type": "code",
      "source": [
        "try:\n",
        "  a, b = int(input()), int(input())\n",
        "  res = a / b\n",
        "  print(res)\n",
        "except:\n",
        "  print('Что-то пошло не так!')"
      ],
      "metadata": {
        "colab": {
          "base_uri": "https://localhost:8080/"
        },
        "id": "hodwrZhxgSlv",
        "outputId": "be9f5e5c-ce55-4f1b-bace-10d2b7ee3d69"
      },
      "execution_count": null,
      "outputs": [
        {
          "output_type": "stream",
          "name": "stdout",
          "text": [
            "5\n",
            "6.99\n",
            "Что-то пошло не так!\n"
          ]
        }
      ]
    },
    {
      "cell_type": "markdown",
      "source": [
        "# Лекция 6"
      ],
      "metadata": {
        "id": "RuJMuJrTtQVR"
      }
    },
    {
      "cell_type": "code",
      "source": [
        "numbers = [5, 10, 15, 20]\n",
        "print(numbers)"
      ],
      "metadata": {
        "colab": {
          "base_uri": "https://localhost:8080/"
        },
        "id": "Q-bg-p-YtP66",
        "outputId": "4cd36215-cea7-485e-af2f-c8181dad32e2"
      },
      "execution_count": null,
      "outputs": [
        {
          "output_type": "stream",
          "name": "stdout",
          "text": [
            "[5, 10, 15, 20]\n"
          ]
        }
      ]
    },
    {
      "cell_type": "code",
      "source": [
        "iter = range(5)\n",
        "print(iter, type(iter))\n",
        "my_list = list(iter)\n",
        "print(my_list, type(my_list))"
      ],
      "metadata": {
        "colab": {
          "base_uri": "https://localhost:8080/"
        },
        "id": "hRTW6kD7u4Hv",
        "outputId": "de2ba5b0-576b-45ec-9097-99897ef3d08c"
      },
      "execution_count": null,
      "outputs": [
        {
          "output_type": "stream",
          "name": "stdout",
          "text": [
            "range(0, 5) <class 'range'>\n",
            "[0, 1, 2, 3, 4] <class 'list'>\n"
          ]
        }
      ]
    },
    {
      "cell_type": "code",
      "source": [
        "tens = list(range(10,100, 10))\n",
        "print(tens)"
      ],
      "metadata": {
        "colab": {
          "base_uri": "https://localhost:8080/"
        },
        "id": "6Xk70sZ1vYHS",
        "outputId": "1d13565e-bb80-46e4-d19b-1b0b67c07c48"
      },
      "execution_count": null,
      "outputs": [
        {
          "output_type": "stream",
          "name": "stdout",
          "text": [
            "[10, 20, 30, 40, 50, 60, 70, 80, 90]\n"
          ]
        }
      ]
    },
    {
      "cell_type": "code",
      "source": [
        "zeros = [0] * 7\n",
        "print(zeros)"
      ],
      "metadata": {
        "colab": {
          "base_uri": "https://localhost:8080/"
        },
        "id": "0q6E4w8CxN61",
        "outputId": "eee8bdb2-294b-4237-99b0-96e750122046"
      },
      "execution_count": null,
      "outputs": [
        {
          "output_type": "stream",
          "name": "stdout",
          "text": [
            "[0, 0, 0, 0, 0, 0, 0]\n"
          ]
        }
      ]
    },
    {
      "cell_type": "code",
      "source": [
        "nums = [1, 5, 10] * 3\n",
        "print(nums)"
      ],
      "metadata": {
        "colab": {
          "base_uri": "https://localhost:8080/"
        },
        "id": "2o3Ey8XRx5cm",
        "outputId": "93fe2808-b73d-4bc4-e607-1c85c4fd2d08"
      },
      "execution_count": null,
      "outputs": [
        {
          "output_type": "stream",
          "name": "stdout",
          "text": [
            "[1, 5, 10, 1, 5, 10, 1, 5, 10]\n"
          ]
        }
      ]
    },
    {
      "cell_type": "code",
      "source": [
        "nums = [1, 2, 3]\n",
        "all_nums = nums + [4, 5, 6]\n",
        "print(all_nums)"
      ],
      "metadata": {
        "colab": {
          "base_uri": "https://localhost:8080/"
        },
        "id": "TAUqHibOyWR1",
        "outputId": "d6283857-3307-4df8-f525-754392908bf0"
      },
      "execution_count": null,
      "outputs": [
        {
          "output_type": "stream",
          "name": "stdout",
          "text": [
            "[1, 2, 3, 4, 5, 6]\n"
          ]
        }
      ]
    },
    {
      "cell_type": "code",
      "source": [
        "numbers = [1, 2, 3, 4]\n",
        "for num in numbers:\n",
        "  print(num)"
      ],
      "metadata": {
        "colab": {
          "base_uri": "https://localhost:8080/"
        },
        "id": "MSisnMpbzzpX",
        "outputId": "a69b9a61-b5b6-45e8-db06-78233daacf04"
      },
      "execution_count": null,
      "outputs": [
        {
          "output_type": "stream",
          "name": "stdout",
          "text": [
            "1\n",
            "2\n",
            "3\n",
            "4\n"
          ]
        }
      ]
    },
    {
      "cell_type": "code",
      "source": [
        "numbers = [1, 2, 3, 4]\n",
        "for num in numbers:\n",
        "  num = 99\n",
        "print(numbers)"
      ],
      "metadata": {
        "colab": {
          "base_uri": "https://localhost:8080/"
        },
        "id": "n9-Dcr0S032C",
        "outputId": "65af2adc-0446-4fee-f1a5-e3c2344ef38b"
      },
      "execution_count": null,
      "outputs": [
        {
          "output_type": "stream",
          "name": "stdout",
          "text": [
            "[1, 2, 3, 4]\n"
          ]
        }
      ]
    },
    {
      "cell_type": "code",
      "source": [
        "elements = [2, 4, 'Hello', 5.67, [7, 8, 1]]\n",
        "for elem in elements:\n",
        "  print(elem)"
      ],
      "metadata": {
        "colab": {
          "base_uri": "https://localhost:8080/"
        },
        "id": "9hTfk5kLzN9i",
        "outputId": "692860ed-4920-4801-8c9d-4d8f65511005"
      },
      "execution_count": null,
      "outputs": [
        {
          "output_type": "stream",
          "name": "stdout",
          "text": [
            "2\n",
            "4\n",
            "Hello\n",
            "5.67\n",
            "[7, 8, 1]\n"
          ]
        }
      ]
    },
    {
      "cell_type": "code",
      "source": [
        "my_list = [10, 20, 30, 40]\n",
        "index = 0\n",
        "while index < 4:\n",
        "  print(my_list[index])\n",
        "  index += 1"
      ],
      "metadata": {
        "colab": {
          "base_uri": "https://localhost:8080/"
        },
        "id": "680nTcpg2Eqt",
        "outputId": "4fe360b7-37a4-421c-9b5b-9bd1be9ab21f"
      },
      "execution_count": null,
      "outputs": [
        {
          "output_type": "stream",
          "name": "stdout",
          "text": [
            "10\n",
            "20\n",
            "30\n",
            "40\n"
          ]
        }
      ]
    },
    {
      "cell_type": "code",
      "source": [
        "my_list = [10, 20, 30, 40]\n",
        "print(my_list[-1], my_list[-2], my_list[-3], my_list[-4])"
      ],
      "metadata": {
        "colab": {
          "base_uri": "https://localhost:8080/"
        },
        "id": "jljdvVH82Wfk",
        "outputId": "555fa2a0-7888-4fe1-ca76-e6e5162f2f11"
      },
      "execution_count": null,
      "outputs": [
        {
          "output_type": "stream",
          "name": "stdout",
          "text": [
            "40 30 20 10\n"
          ]
        }
      ]
    },
    {
      "cell_type": "code",
      "source": [
        "my_list = [10, 20, 30, 40]\n",
        "index = 0\n",
        "while index < 5:\n",
        "  print(my_list[index])\n",
        "  index += 1"
      ],
      "metadata": {
        "colab": {
          "base_uri": "https://localhost:8080/",
          "height": 298
        },
        "id": "quOiHGmz2k2h",
        "outputId": "be20478e-6885-43b6-e3eb-e0cbb4e05797"
      },
      "execution_count": null,
      "outputs": [
        {
          "output_type": "stream",
          "name": "stdout",
          "text": [
            "10\n",
            "20\n",
            "30\n",
            "40\n"
          ]
        },
        {
          "output_type": "error",
          "ename": "IndexError",
          "evalue": "ignored",
          "traceback": [
            "\u001b[0;31m---------------------------------------------------------------------------\u001b[0m",
            "\u001b[0;31mIndexError\u001b[0m                                Traceback (most recent call last)",
            "\u001b[0;32m<ipython-input-11-712b47c1a308>\u001b[0m in \u001b[0;36m<cell line: 3>\u001b[0;34m()\u001b[0m\n\u001b[1;32m      2\u001b[0m \u001b[0mindex\u001b[0m \u001b[0;34m=\u001b[0m \u001b[0;36m0\u001b[0m\u001b[0;34m\u001b[0m\u001b[0;34m\u001b[0m\u001b[0m\n\u001b[1;32m      3\u001b[0m \u001b[0;32mwhile\u001b[0m \u001b[0mindex\u001b[0m \u001b[0;34m<\u001b[0m \u001b[0;36m5\u001b[0m\u001b[0;34m:\u001b[0m\u001b[0;34m\u001b[0m\u001b[0;34m\u001b[0m\u001b[0m\n\u001b[0;32m----> 4\u001b[0;31m   \u001b[0mprint\u001b[0m\u001b[0;34m(\u001b[0m\u001b[0mmy_list\u001b[0m\u001b[0;34m[\u001b[0m\u001b[0mindex\u001b[0m\u001b[0;34m]\u001b[0m\u001b[0;34m)\u001b[0m\u001b[0;34m\u001b[0m\u001b[0;34m\u001b[0m\u001b[0m\n\u001b[0m\u001b[1;32m      5\u001b[0m   \u001b[0mindex\u001b[0m \u001b[0;34m+=\u001b[0m \u001b[0;36m1\u001b[0m\u001b[0;34m\u001b[0m\u001b[0;34m\u001b[0m\u001b[0m\n",
            "\u001b[0;31mIndexError\u001b[0m: list index out of range"
          ]
        }
      ]
    },
    {
      "cell_type": "code",
      "source": [
        "my_list = [10, 20, 30, 40]\n",
        "size = len(my_list)\n",
        "print(size)"
      ],
      "metadata": {
        "colab": {
          "base_uri": "https://localhost:8080/"
        },
        "id": "CnQFxAAV3U4w",
        "outputId": "3c5a3ccf-d122-461b-df74-f9ca34d7bd6f"
      },
      "execution_count": null,
      "outputs": [
        {
          "output_type": "stream",
          "name": "stdout",
          "text": [
            "4\n"
          ]
        }
      ]
    },
    {
      "cell_type": "code",
      "source": [
        "my_list = [10, 20, 30, 40]\n",
        "index = 0\n",
        "while index < len(my_list):\n",
        "  print(my_list[index])\n",
        "  index += 1"
      ],
      "metadata": {
        "colab": {
          "base_uri": "https://localhost:8080/"
        },
        "id": "sk-9zyRp3x2w",
        "outputId": "7cefb914-dd56-41ef-f60b-03f003194cb4"
      },
      "execution_count": null,
      "outputs": [
        {
          "output_type": "stream",
          "name": "stdout",
          "text": [
            "10\n",
            "20\n",
            "30\n",
            "40\n"
          ]
        }
      ]
    },
    {
      "cell_type": "code",
      "source": [
        "numbers = [1, 2, 3, 4, 5]\n",
        "print(numbers)\n",
        "numbers[0] = 99\n",
        "print(numbers)"
      ],
      "metadata": {
        "colab": {
          "base_uri": "https://localhost:8080/"
        },
        "id": "4rKGhapT4dj2",
        "outputId": "de0467e3-c540-48e8-d568-1cd141fd8ba6"
      },
      "execution_count": null,
      "outputs": [
        {
          "output_type": "stream",
          "name": "stdout",
          "text": [
            "[1, 2, 3, 4, 5]\n",
            "[99, 2, 3, 4, 5]\n"
          ]
        }
      ]
    },
    {
      "cell_type": "code",
      "source": [
        "numbers = [1, 2, 3, 4, 5]\n",
        "numbers[10] = 99"
      ],
      "metadata": {
        "colab": {
          "base_uri": "https://localhost:8080/",
          "height": 194
        },
        "id": "GnPGaEL04_oS",
        "outputId": "8fdb32bb-6355-43ed-a348-4e90b0924ce7"
      },
      "execution_count": null,
      "outputs": [
        {
          "output_type": "error",
          "ename": "IndexError",
          "evalue": "ignored",
          "traceback": [
            "\u001b[0;31m---------------------------------------------------------------------------\u001b[0m",
            "\u001b[0;31mIndexError\u001b[0m                                Traceback (most recent call last)",
            "\u001b[0;32m<ipython-input-16-106f552b03bc>\u001b[0m in \u001b[0;36m<cell line: 2>\u001b[0;34m()\u001b[0m\n\u001b[1;32m      1\u001b[0m \u001b[0mnumbers\u001b[0m \u001b[0;34m=\u001b[0m \u001b[0;34m[\u001b[0m\u001b[0;36m1\u001b[0m\u001b[0;34m,\u001b[0m \u001b[0;36m2\u001b[0m\u001b[0;34m,\u001b[0m \u001b[0;36m3\u001b[0m\u001b[0;34m,\u001b[0m \u001b[0;36m4\u001b[0m\u001b[0;34m,\u001b[0m \u001b[0;36m5\u001b[0m\u001b[0;34m]\u001b[0m\u001b[0;34m\u001b[0m\u001b[0;34m\u001b[0m\u001b[0m\n\u001b[0;32m----> 2\u001b[0;31m \u001b[0mnumbers\u001b[0m\u001b[0;34m[\u001b[0m\u001b[0;36m10\u001b[0m\u001b[0;34m]\u001b[0m \u001b[0;34m=\u001b[0m \u001b[0;36m99\u001b[0m\u001b[0;34m\u001b[0m\u001b[0;34m\u001b[0m\u001b[0m\n\u001b[0m",
            "\u001b[0;31mIndexError\u001b[0m: list assignment index out of range"
          ]
        }
      ]
    },
    {
      "cell_type": "code",
      "source": [
        "list_size = 5\n",
        "my_list = [0] * list_size\n",
        "\n",
        "for i in range(list_size):\n",
        "  my_list[i] = float(input(f'Введите {i}-ый элемент > '))\n",
        "\n",
        "print(my_list)"
      ],
      "metadata": {
        "colab": {
          "base_uri": "https://localhost:8080/"
        },
        "id": "Z5A18G725Qoj",
        "outputId": "2069b870-4686-4e3d-f309-95c9bd3c24c4"
      },
      "execution_count": null,
      "outputs": [
        {
          "output_type": "stream",
          "name": "stdout",
          "text": [
            "Введите 0-ый элемент > 45\n",
            "Введите 1-ый элемент > 56.78\n",
            "Введите 2-ый элемент > 11.33\n",
            "Введите 3-ый элемент > 12\n",
            "Введите 4-ый элемент > 78895545.788856\n",
            "[45.0, 56.78, 11.33, 12.0, 78895545.788856]\n"
          ]
        }
      ]
    },
    {
      "cell_type": "code",
      "source": [
        "listl = [1, 2, 3, 4]\n",
        "list2 = [5, 6, 7, 8]\n",
        "list3 = listl + list2\n",
        "print(list3)"
      ],
      "metadata": {
        "colab": {
          "base_uri": "https://localhost:8080/"
        },
        "id": "5ciZTbNs7U0p",
        "outputId": "f6e75a21-1cd0-4def-bead-a0f16031634e"
      },
      "execution_count": null,
      "outputs": [
        {
          "output_type": "stream",
          "name": "stdout",
          "text": [
            "[1, 2, 3, 4, 5, 6, 7, 8]\n"
          ]
        }
      ]
    },
    {
      "cell_type": "code",
      "source": [
        "days = ['Понедельник', 'Вторник', 'Среда', \\\n",
        "        'Четверг', 'Пятница', 'Суббота', 'Воскресенье']\n",
        "mid_days = days[2:5]\n",
        "print(mid_days)"
      ],
      "metadata": {
        "colab": {
          "base_uri": "https://localhost:8080/"
        },
        "id": "ILEO2xdF9mB3",
        "outputId": "5ffa4950-cb54-406a-9c99-6bab7e9c0e37"
      },
      "execution_count": null,
      "outputs": [
        {
          "output_type": "stream",
          "name": "stdout",
          "text": [
            "['Среда', 'Четверг', 'Пятница']\n"
          ]
        }
      ]
    },
    {
      "cell_type": "code",
      "source": [
        "nums = list(range(1, 21))\n",
        "print(nums)\n",
        "print(nums[5:10])\n",
        "print(nums[:10])\n",
        "print(nums[12:])\n",
        "print(nums[1:15:3])\n",
        "print(nums[-5:])"
      ],
      "metadata": {
        "colab": {
          "base_uri": "https://localhost:8080/"
        },
        "id": "xAPpSN12BeTS",
        "outputId": "cf8471d3-95a3-4826-d149-f7e347f293ae"
      },
      "execution_count": null,
      "outputs": [
        {
          "output_type": "stream",
          "name": "stdout",
          "text": [
            "[1, 2, 3, 4, 5, 6, 7, 8, 9, 10, 11, 12, 13, 14, 15, 16, 17, 18, 19, 20]\n",
            "[6, 7, 8, 9, 10]\n",
            "[1, 2, 3, 4, 5, 6, 7, 8, 9, 10]\n",
            "[13, 14, 15, 16, 17, 18, 19, 20]\n",
            "[2, 5, 8, 11, 14]\n",
            "[16, 17, 18, 19, 20]\n"
          ]
        }
      ]
    },
    {
      "cell_type": "code",
      "source": [
        "prod_nums = ['v331', 'x17', 'k665', 'w5678', 'z2']\n",
        "prod = input('введите код изделия > ')\n",
        "\n",
        "if prod in prod_nums:\n",
        "  print('Изделие присутствует в списке')\n",
        "else:\n",
        "  print('Изделие отсутствует в списке')"
      ],
      "metadata": {
        "colab": {
          "base_uri": "https://localhost:8080/"
        },
        "id": "s99V_zjUD4BV",
        "outputId": "b62c7425-e21c-43c7-9b91-0d116d67c9d3"
      },
      "execution_count": null,
      "outputs": [
        {
          "output_type": "stream",
          "name": "stdout",
          "text": [
            "введите код изделия > d567\n",
            "Изделие отсутствует в списке\n"
          ]
        }
      ]
    },
    {
      "cell_type": "code",
      "source": [
        "from random import randint, seed\n",
        "seed(10)\n",
        "my_list=[]\n",
        "print('init')\n",
        "for _ in range(10):\n",
        "  my_list.append(randint(10, 150))\n",
        "print(my_list)\n",
        "\n",
        "print('insert 1000 at 0')\n",
        "my_list.insert(0, 1000)\n",
        "print(my_list)\n",
        "\n",
        "print('reverse')\n",
        "my_list.reverse()\n",
        "print(my_list)\n",
        "\n",
        "print('remove 135')\n",
        "my_list.remove(135)\n",
        "print(my_list)\n",
        "\n",
        "print('min: ', min(my_list))\n",
        "print('max: ', max(my_list))\n",
        "print('sum: ', sum(my_list))\n",
        "print('sort')\n",
        "my_list.sort()\n",
        "print(my_list)"
      ],
      "metadata": {
        "colab": {
          "base_uri": "https://localhost:8080/"
        },
        "id": "KjKAcrPSHdar",
        "outputId": "8798fa2e-fc08-425d-8d2d-349699e158be"
      },
      "execution_count": null,
      "outputs": [
        {
          "output_type": "stream",
          "name": "stdout",
          "text": [
            "init\n",
            "[18, 119, 133, 13, 62, 128, 135, 81, 51, 18]\n",
            "insert 1000 at 0\n",
            "[1000, 18, 119, 133, 13, 62, 128, 135, 81, 51, 18]\n",
            "reverse\n",
            "[18, 51, 81, 135, 128, 62, 13, 133, 119, 18, 1000]\n",
            "remove 135\n",
            "[18, 51, 81, 128, 62, 13, 133, 119, 18, 1000]\n",
            "min:  13\n",
            "max:  1000\n",
            "sum:  1623\n",
            "sort\n",
            "[13, 18, 18, 51, 62, 81, 119, 128, 133, 1000]\n"
          ]
        }
      ]
    },
    {
      "cell_type": "markdown",
      "source": [
        "# Лекция 7"
      ],
      "metadata": {
        "id": "ZrRP4Ar-T7Ji"
      }
    },
    {
      "cell_type": "code",
      "source": [
        "name='John'\n",
        "for c in name:\n",
        "  print(c)"
      ],
      "metadata": {
        "colab": {
          "base_uri": "https://localhost:8080/"
        },
        "id": "6wWNLjXLUAhL",
        "outputId": "1a8f07f5-3f87-4310-b117-20919f95b43a"
      },
      "execution_count": null,
      "outputs": [
        {
          "output_type": "stream",
          "name": "stdout",
          "text": [
            "J\n",
            "o\n",
            "h\n",
            "n\n"
          ]
        }
      ]
    },
    {
      "cell_type": "code",
      "source": [
        "name=\"Nikolaev Evgeny\"\n",
        "ch = name[0] # Доступ к 0-ому символу\n",
        "print(ch)\n",
        "chs = name[:8] # Получение среза\n",
        "print(chs)"
      ],
      "metadata": {
        "colab": {
          "base_uri": "https://localhost:8080/"
        },
        "id": "Z9P4JterUvEI",
        "outputId": "cd6f76f7-05a6-49e2-d446-7e9c76df87a1"
      },
      "execution_count": null,
      "outputs": [
        {
          "output_type": "stream",
          "name": "stdout",
          "text": [
            "N\n",
            "Nikolaev\n"
          ]
        }
      ]
    },
    {
      "cell_type": "code",
      "source": [
        "name=\"Nikolaev Evgeny\"\n",
        "name[9] = 'e'"
      ],
      "metadata": {
        "colab": {
          "base_uri": "https://localhost:8080/",
          "height": 194
        },
        "id": "wzrZcnhjVgJP",
        "outputId": "f799ff80-58ed-4a03-c60c-fcdfe2e70701"
      },
      "execution_count": null,
      "outputs": [
        {
          "output_type": "error",
          "ename": "TypeError",
          "evalue": "ignored",
          "traceback": [
            "\u001b[0;31m---------------------------------------------------------------------------\u001b[0m",
            "\u001b[0;31mTypeError\u001b[0m                                 Traceback (most recent call last)",
            "\u001b[0;32m<ipython-input-62-8243216000c1>\u001b[0m in \u001b[0;36m<cell line: 2>\u001b[0;34m()\u001b[0m\n\u001b[1;32m      1\u001b[0m \u001b[0mname\u001b[0m\u001b[0;34m=\u001b[0m\u001b[0;34m\"Nikolaev Evgeny\"\u001b[0m\u001b[0;34m\u001b[0m\u001b[0;34m\u001b[0m\u001b[0m\n\u001b[0;32m----> 2\u001b[0;31m \u001b[0mname\u001b[0m\u001b[0;34m[\u001b[0m\u001b[0;36m9\u001b[0m\u001b[0;34m]\u001b[0m \u001b[0;34m=\u001b[0m \u001b[0;34m'e'\u001b[0m\u001b[0;34m\u001b[0m\u001b[0;34m\u001b[0m\u001b[0m\n\u001b[0m",
            "\u001b[0;31mTypeError\u001b[0m: 'str' object does not support item assignment"
          ]
        }
      ]
    },
    {
      "cell_type": "code",
      "source": [
        "text = \"Восемьдесят семь лет назад\"\n",
        "if 'семь' in text:\n",
        "  print('Строковое значение \"семь\" найдено.')\n",
        "else:\n",
        "  print('Строковое значение \"семь\" не найдено.')"
      ],
      "metadata": {
        "colab": {
          "base_uri": "https://localhost:8080/"
        },
        "id": "l6th0ofVXTGh",
        "outputId": "2b9c0e59-3f90-42e7-fa8e-63da35e8060b"
      },
      "execution_count": null,
      "outputs": [
        {
          "output_type": "stream",
          "name": "stdout",
          "text": [
            "Строковое значение \"семь\" найдено.\n"
          ]
        }
      ]
    },
    {
      "cell_type": "code",
      "source": [
        "string1 = '1200'\n",
        "if string1.isdigit():\n",
        "  print(f'{string1} содержит только цифры.')\n",
        "else:\n",
        "  print(f'{string1} содержит символы, отличные от цифр.')"
      ],
      "metadata": {
        "colab": {
          "base_uri": "https://localhost:8080/"
        },
        "id": "jETv2iUmYVtV",
        "outputId": "28585271-5ea3-4056-f91a-bcbb18856935"
      },
      "execution_count": null,
      "outputs": [
        {
          "output_type": "stream",
          "name": "stdout",
          "text": [
            "1200 содержит только цифры.\n"
          ]
        }
      ]
    },
    {
      "cell_type": "code",
      "source": [
        "name = 'Nikolaev Evgeny'\n",
        "name_upper = name.upper()\n",
        "print(name_upper)"
      ],
      "metadata": {
        "colab": {
          "base_uri": "https://localhost:8080/"
        },
        "id": "oUFXD8u9ahMa",
        "outputId": "6b5946be-51e7-46e2-a792-7c336d508e5b"
      },
      "execution_count": null,
      "outputs": [
        {
          "output_type": "stream",
          "name": "stdout",
          "text": [
            "NIKOLAEV EVGENY\n"
          ]
        }
      ]
    },
    {
      "cell_type": "code",
      "source": [
        "filename = input('Введите имя файла: ')\n",
        "if filename.endswith('. txt'):\n",
        "  print('Это имя текстового файла.')\n",
        "elif filename.endswith('.ру'):\n",
        "  print('Это имя исходного файла Python.')\n",
        "elif filename.endswith('.doc'):\n",
        "  print('Это имя документа текстового редактора.')\n",
        "else:\n",
        "  print('Неизвестный тип файла.')\n"
      ],
      "metadata": {
        "colab": {
          "base_uri": "https://localhost:8080/"
        },
        "id": "130GDIH6b2Y3",
        "outputId": "aab17c11-9799-4a05-ef83-b4ea94e2c915"
      },
      "execution_count": null,
      "outputs": [
        {
          "output_type": "stream",
          "name": "stdout",
          "text": [
            "Введите имя файла: zuba.doc\n",
            "Это имя документа текстового редактора.\n"
          ]
        }
      ]
    },
    {
      "cell_type": "code",
      "source": [
        "string = \"Восемьдесят семь лет назад\"\n",
        "position = string.find('семь')\n",
        "if position != -1:\n",
        "  print(f'Слово \"семь\" найдено в индексной позиции {position}.')\n",
        "else:\n",
        "  print('Слово \"семь\" не найдено.')"
      ],
      "metadata": {
        "colab": {
          "base_uri": "https://localhost:8080/"
        },
        "id": "GZ-K9LcvcUfp",
        "outputId": "8c649293-7ef4-4c07-debc-69e4c323c449"
      },
      "execution_count": null,
      "outputs": [
        {
          "output_type": "stream",
          "name": "stdout",
          "text": [
            "Слово \"семь\" найдено в индексной позиции 2.\n"
          ]
        }
      ]
    },
    {
      "cell_type": "code",
      "source": [
        "my_string\t= 'Один два три четыре'\n",
        "print(my_string)\n",
        "# Разбить\tстроковое значение.\n",
        "word_list\t= my_string.split()\n",
        "\n",
        "# Напечатать список слов.\n",
        "print(word_list)"
      ],
      "metadata": {
        "colab": {
          "base_uri": "https://localhost:8080/"
        },
        "id": "TxxZFb_mdCOw",
        "outputId": "f480ad6a-5108-4d0f-fb65-0e275fab0bea"
      },
      "execution_count": null,
      "outputs": [
        {
          "output_type": "stream",
          "name": "stdout",
          "text": [
            "Один два три четыре\n",
            "['Один', 'два', 'три', 'четыре']\n"
          ]
        }
      ]
    },
    {
      "cell_type": "code",
      "source": [
        "f = open('data.csv')\n",
        "lines = f.readlines()\n",
        "print(lines)\n",
        "\n",
        "avg_marks = [] # средние оценки\n",
        "\n",
        "for line in lines:\n",
        "  marks = line.split(';')\n",
        "  print(marks)\n",
        "  total = 0\n",
        "\n",
        "  # Вычисляем сумму баллов\n",
        "  for mark in marks:\n",
        "    total += float(mark)\n",
        "  # Добавляем среднее значение\n",
        "  avg_marks.append(total / 5)\n",
        "\n",
        "print('Средние баллы:')\n",
        "print(avg_marks)\n",
        "print(f'Максимальный средний балл: {max(avg_marks)}')"
      ],
      "metadata": {
        "colab": {
          "base_uri": "https://localhost:8080/"
        },
        "id": "DylaBw0tgDTd",
        "outputId": "591da159-e827-4f13-8f60-74e3a2264e10"
      },
      "execution_count": null,
      "outputs": [
        {
          "output_type": "stream",
          "name": "stdout",
          "text": [
            "['87;79;91;82;94\\n', '72;79;81;74;88\\n', '94;92;81;89;96\\n', '77;56;67;81;79\\n', '79;82;85;81;90\\n']\n",
            "['87', '79', '91', '82', '94\\n']\n",
            "['72', '79', '81', '74', '88\\n']\n",
            "['94', '92', '81', '89', '96\\n']\n",
            "['77', '56', '67', '81', '79\\n']\n",
            "['79', '82', '85', '81', '90\\n']\n",
            "Средние баллы:\n",
            "[86.6, 78.8, 90.4, 72.0, 83.4]\n",
            "Максимальный средний балл: 90.4\n"
          ]
        }
      ]
    },
    {
      "cell_type": "markdown",
      "source": [
        "# Лекция 8. Коллекции"
      ],
      "metadata": {
        "id": "4BhJXnr7l4tb"
      }
    },
    {
      "cell_type": "code",
      "source": [
        "k = (10, 12, 'Novak B.M.', 3.44)\n",
        "print(k)\n",
        "print(type(k))"
      ],
      "metadata": {
        "colab": {
          "base_uri": "https://localhost:8080/"
        },
        "id": "epxrov6ll8Aj",
        "outputId": "afb67645-e8df-49ba-cc77-d6d9dc968638"
      },
      "execution_count": null,
      "outputs": [
        {
          "output_type": "stream",
          "name": "stdout",
          "text": [
            "(10, 12, 'Novak B.M.', 3.44)\n",
            "<class 'tuple'>\n"
          ]
        }
      ]
    },
    {
      "cell_type": "code",
      "source": [
        "k = [10, 12, 'Novak B.M.', 3.44]\n",
        "print(k)\n",
        "print(type(k))"
      ],
      "metadata": {
        "colab": {
          "base_uri": "https://localhost:8080/"
        },
        "id": "ftsxk5IHmT45",
        "outputId": "b62333aa-e72d-4d16-9213-eeea00200eb0"
      },
      "execution_count": null,
      "outputs": [
        {
          "output_type": "stream",
          "name": "stdout",
          "text": [
            "[10, 12, 'Novak B.M.', 3.44]\n",
            "<class 'list'>\n"
          ]
        }
      ]
    },
    {
      "cell_type": "code",
      "source": [
        "k = (10, 12, 'Novak B.M.', 3.44)\n",
        "print(k[2])\n",
        "for elem in k:\n",
        "  print(elem)"
      ],
      "metadata": {
        "colab": {
          "base_uri": "https://localhost:8080/"
        },
        "id": "9BJjFbgvnYjH",
        "outputId": "e4b27325-44f0-494c-edd8-d2f758d92dfd"
      },
      "execution_count": null,
      "outputs": [
        {
          "output_type": "stream",
          "name": "stdout",
          "text": [
            "Novak B.M.\n",
            "10\n",
            "12\n",
            "Novak B.M.\n",
            "3.44\n"
          ]
        }
      ]
    },
    {
      "cell_type": "code",
      "source": [
        "phonebook = { 'Крис':'555-1111',\\\n",
        "              'Кэти':'555-2222',\\\n",
        "              'Джоанна':'555-3333' }\n",
        "print(phonebook['Крис'])\n",
        "print(phonebook['Джоанна'])\n",
        "print(phonebook['Евгений'])"
      ],
      "metadata": {
        "colab": {
          "base_uri": "https://localhost:8080/",
          "height": 246
        },
        "id": "5E8H6AF5qGQA",
        "outputId": "2ff84f14-ae0f-4ba4-cecb-277455357514"
      },
      "execution_count": null,
      "outputs": [
        {
          "output_type": "stream",
          "name": "stdout",
          "text": [
            "555-1111\n",
            "555-3333\n"
          ]
        },
        {
          "output_type": "error",
          "ename": "KeyError",
          "evalue": "ignored",
          "traceback": [
            "\u001b[0;31m---------------------------------------------------------------------------\u001b[0m",
            "\u001b[0;31mKeyError\u001b[0m                                  Traceback (most recent call last)",
            "\u001b[0;32m<ipython-input-94-efee0ccb5b63>\u001b[0m in \u001b[0;36m<cell line: 6>\u001b[0;34m()\u001b[0m\n\u001b[1;32m      4\u001b[0m \u001b[0mprint\u001b[0m\u001b[0;34m(\u001b[0m\u001b[0mphonebook\u001b[0m\u001b[0;34m[\u001b[0m\u001b[0;34m'Крис'\u001b[0m\u001b[0;34m]\u001b[0m\u001b[0;34m)\u001b[0m\u001b[0;34m\u001b[0m\u001b[0;34m\u001b[0m\u001b[0m\n\u001b[1;32m      5\u001b[0m \u001b[0mprint\u001b[0m\u001b[0;34m(\u001b[0m\u001b[0mphonebook\u001b[0m\u001b[0;34m[\u001b[0m\u001b[0;34m'Джоанна'\u001b[0m\u001b[0;34m]\u001b[0m\u001b[0;34m)\u001b[0m\u001b[0;34m\u001b[0m\u001b[0;34m\u001b[0m\u001b[0m\n\u001b[0;32m----> 6\u001b[0;31m \u001b[0mprint\u001b[0m\u001b[0;34m(\u001b[0m\u001b[0mphonebook\u001b[0m\u001b[0;34m[\u001b[0m\u001b[0;34m'Евгений'\u001b[0m\u001b[0;34m]\u001b[0m\u001b[0;34m)\u001b[0m\u001b[0;34m\u001b[0m\u001b[0;34m\u001b[0m\u001b[0m\n\u001b[0m",
            "\u001b[0;31mKeyError\u001b[0m: 'Евгений'"
          ]
        }
      ]
    },
    {
      "cell_type": "code",
      "source": [
        "pbook = { 'Крис':'555-1111',\\\n",
        "              'Кэти':'555-2222',\\\n",
        "              'Джоанна':'555-3333' }\n",
        "pbook['Евгений']='776-3732'\n",
        "print(pbook)\n",
        "pbook['Кэти']='000-1111'\n",
        "print(pbook)"
      ],
      "metadata": {
        "colab": {
          "base_uri": "https://localhost:8080/"
        },
        "id": "jMjeShZ3-OuG",
        "outputId": "cec3f043-3639-4ccd-e67e-c7323f05036f"
      },
      "execution_count": null,
      "outputs": [
        {
          "output_type": "stream",
          "name": "stdout",
          "text": [
            "{'Крис': '555-1111', 'Кэти': '555-2222', 'Джоанна': '555-3333', 'Евгений': '776-3732'}\n",
            "{'Крис': '555-1111', 'Кэти': '000-1111', 'Джоанна': '555-3333', 'Евгений': '776-3732'}\n"
          ]
        }
      ]
    },
    {
      "cell_type": "code",
      "source": [
        "pbook = { 'Крис':'555-1111',\\\n",
        "              'Кэти':'555-2222',\\\n",
        "              'Джоанна':'555-3333' }\n",
        "del pbook['Крис']\n",
        "print(pbook)"
      ],
      "metadata": {
        "colab": {
          "base_uri": "https://localhost:8080/"
        },
        "id": "TdSwR1GqEp8Z",
        "outputId": "b54f457e-2d90-4da3-c4a3-979e19810b2b"
      },
      "execution_count": null,
      "outputs": [
        {
          "output_type": "stream",
          "name": "stdout",
          "text": [
            "{'Кэти': '555-2222', 'Джоанна': '555-3333'}\n"
          ]
        }
      ]
    },
    {
      "cell_type": "code",
      "source": [
        "s = set()\n",
        "s.add(10)\n",
        "s.add(12)\n",
        "print(s)"
      ],
      "metadata": {
        "colab": {
          "base_uri": "https://localhost:8080/"
        },
        "id": "Yp_uOI5SJe9-",
        "outputId": "1e17b2b2-f1d5-4b4b-b647-8c6f75946e19"
      },
      "execution_count": null,
      "outputs": [
        {
          "output_type": "stream",
          "name": "stdout",
          "text": [
            "{10, 12}\n"
          ]
        }
      ]
    },
    {
      "cell_type": "code",
      "source": [
        "s = set([1, 2, 3])\n",
        "s.update([1, 3, 4, 5])\n",
        "print(s)"
      ],
      "metadata": {
        "colab": {
          "base_uri": "https://localhost:8080/"
        },
        "id": "0pA60BaQJ8qL",
        "outputId": "6762fe51-9181-4cc9-f240-03f15f1fd31d"
      },
      "execution_count": null,
      "outputs": [
        {
          "output_type": "stream",
          "name": "stdout",
          "text": [
            "{1, 2, 3, 4, 5}\n"
          ]
        }
      ]
    },
    {
      "cell_type": "code",
      "source": [
        "myset=set(range(1, 11, 2))\n",
        "print(myset)\n",
        "for i in myset:\n",
        "  print(i)"
      ],
      "metadata": {
        "colab": {
          "base_uri": "https://localhost:8080/"
        },
        "id": "naxtKb01K6Sr",
        "outputId": "2495222f-af74-4c0a-f95b-e98d4775a59e"
      },
      "execution_count": null,
      "outputs": [
        {
          "output_type": "stream",
          "name": "stdout",
          "text": [
            "{1, 3, 5, 7, 9}\n",
            "1\n",
            "3\n",
            "5\n",
            "7\n",
            "9\n"
          ]
        }
      ]
    },
    {
      "cell_type": "code",
      "source": [
        "u1 = set('123')\n",
        "u2 = set('678')\n",
        "u3 = u1.union(u2)\n",
        "print(u3)"
      ],
      "metadata": {
        "colab": {
          "base_uri": "https://localhost:8080/"
        },
        "id": "HpBMpM5LL8hp",
        "outputId": "89d509a8-2235-48ff-e1e2-6eed42d470e8"
      },
      "execution_count": null,
      "outputs": [
        {
          "output_type": "stream",
          "name": "stdout",
          "text": [
            "{'2', '3', '7', '6', '8', '1'}\n"
          ]
        }
      ]
    },
    {
      "cell_type": "code",
      "source": [
        "u1 = set('12345678')\n",
        "u2 = set('67890')\n",
        "u3 = u1.intersection(u2)\n",
        "print(u3)"
      ],
      "metadata": {
        "colab": {
          "base_uri": "https://localhost:8080/"
        },
        "id": "gYPp60A2MQia",
        "outputId": "f205d274-7fb3-4a52-f65a-ca52c56091d6"
      },
      "execution_count": null,
      "outputs": [
        {
          "output_type": "stream",
          "name": "stdout",
          "text": [
            "{'8', '7', '6'}\n"
          ]
        }
      ]
    },
    {
      "cell_type": "code",
      "source": [
        "u1 = set('12345678')\n",
        "u2 = set('67890')\n",
        "u3 = u1.difference(u2)\n",
        "print(u3)"
      ],
      "metadata": {
        "colab": {
          "base_uri": "https://localhost:8080/"
        },
        "id": "8vD6xcgFMsEB",
        "outputId": "040270af-1cb9-4355-f7d4-adab6208e19c"
      },
      "execution_count": null,
      "outputs": [
        {
          "output_type": "stream",
          "name": "stdout",
          "text": [
            "{'3', '4', '1', '2', '5'}\n"
          ]
        }
      ]
    },
    {
      "cell_type": "code",
      "source": [
        "u1 = set('12345678')\n",
        "u2 = set('67890')\n",
        "u3 = u1.symmetric_difference(u2)\n",
        "print(u3)"
      ],
      "metadata": {
        "id": "d2G0A9LnNBM6",
        "outputId": "1703057a-3d45-4cfa-a3a6-c10103f0cac7",
        "colab": {
          "base_uri": "https://localhost:8080/"
        }
      },
      "execution_count": null,
      "outputs": [
        {
          "output_type": "stream",
          "name": "stdout",
          "text": [
            "{'3', '0', '1', '9', '2', '4', '5'}\n"
          ]
        }
      ]
    },
    {
      "cell_type": "markdown",
      "source": [
        "## Консервация объектов"
      ],
      "metadata": {
        "id": "EC-VdABufojB"
      }
    },
    {
      "cell_type": "code",
      "source": [
        "import pickle\n",
        "phonebook = {'Крис' : '555-1111', \\\n",
        "             'Кэти' : '555-2222', \\\n",
        "             'Джоанна' : '555-3333'}\n",
        "output_file = open ('phonebook.dat', 'wb')\n",
        "pickle.dump(phonebook, output_file)\n",
        "output_file.close()"
      ],
      "metadata": {
        "id": "TDtM0nfNfm_l"
      },
      "execution_count": null,
      "outputs": []
    },
    {
      "cell_type": "code",
      "source": [
        "import pickle\n",
        "input_file = open ('phonebook.dat','rb')\n",
        "pb = pickle.load(input_file)\n",
        "input_file.close()\n",
        "\n",
        "print(pb)"
      ],
      "metadata": {
        "colab": {
          "base_uri": "https://localhost:8080/"
        },
        "id": "njh_I930gwMz",
        "outputId": "9f55600e-0403-4642-9e2b-9d6a606dba87"
      },
      "execution_count": null,
      "outputs": [
        {
          "output_type": "stream",
          "name": "stdout",
          "text": [
            "{'Крис': '555-1111', 'Кэти': '555-2222', 'Джоанна': '555-3333'}\n"
          ]
        }
      ]
    },
    {
      "cell_type": "markdown",
      "source": [
        "# Лекция 9. Многомодульное программирование"
      ],
      "metadata": {
        "id": "zO7pAXgK-coO"
      }
    },
    {
      "cell_type": "code",
      "source": [
        "import math\n",
        "print(math.e)\n",
        "print(math.pi)"
      ],
      "metadata": {
        "colab": {
          "base_uri": "https://localhost:8080/"
        },
        "id": "JlDmstXB-jPa",
        "outputId": "c0a7a32b-afc9-41f9-9342-6ba90ccdfc7e"
      },
      "execution_count": null,
      "outputs": [
        {
          "output_type": "stream",
          "name": "stdout",
          "text": [
            "2.718281828459045\n",
            "3.141592653589793\n"
          ]
        }
      ]
    },
    {
      "cell_type": "code",
      "source": [
        "import math as m\n",
        "# sin(30)\n",
        "print(m.sin(30 * m.pi / 180))"
      ],
      "metadata": {
        "colab": {
          "base_uri": "https://localhost:8080/"
        },
        "id": "XgaNvp72-6ba",
        "outputId": "6f38c4cd-c179-43e8-e81c-9b1889c4c69c"
      },
      "execution_count": null,
      "outputs": [
        {
          "output_type": "stream",
          "name": "stdout",
          "text": [
            "0.49999999999999994\n"
          ]
        }
      ]
    },
    {
      "cell_type": "code",
      "source": [
        "from math import ceil as c, pi as PI, factorial as F\n",
        "print(c(34.8))\n",
        "print(PI)\n",
        "print(F(5))"
      ],
      "metadata": {
        "colab": {
          "base_uri": "https://localhost:8080/"
        },
        "id": "59oDu-TzAYrf",
        "outputId": "f2182fd2-0918-4866-c990-eabc3240c76b"
      },
      "execution_count": null,
      "outputs": [
        {
          "output_type": "stream",
          "name": "stdout",
          "text": [
            "35\n",
            "3.141592653589793\n",
            "120\n"
          ]
        }
      ]
    },
    {
      "cell_type": "code",
      "source": [
        "print(help(bin))"
      ],
      "metadata": {
        "colab": {
          "base_uri": "https://localhost:8080/"
        },
        "id": "_E6yp_ZDEZEK",
        "outputId": "3291d548-e355-4c62-82b7-615eefd23ed0"
      },
      "execution_count": null,
      "outputs": [
        {
          "output_type": "stream",
          "name": "stdout",
          "text": [
            "Help on built-in function bin in module builtins:\n",
            "\n",
            "bin(number, /)\n",
            "    Return the binary representation of an integer.\n",
            "    \n",
            "    >>> bin(2796202)\n",
            "    '0b1010101010101010101010'\n",
            "\n",
            "None\n"
          ]
        }
      ]
    },
    {
      "cell_type": "markdown",
      "source": [
        "## Модуль os"
      ],
      "metadata": {
        "id": "OLBDJ_BcKa_w"
      }
    },
    {
      "cell_type": "code",
      "source": [
        "import os\n",
        "print(os.name)\n",
        "print(os.getcwd())\n",
        "print(os.getpid())"
      ],
      "metadata": {
        "colab": {
          "base_uri": "https://localhost:8080/"
        },
        "id": "seN0QAA3FHK2",
        "outputId": "32930b6c-3b28-41a1-d2a7-79616c896cae"
      },
      "execution_count": null,
      "outputs": [
        {
          "output_type": "stream",
          "name": "stdout",
          "text": [
            "posix\n",
            "/content\n",
            "238\n"
          ]
        }
      ]
    },
    {
      "cell_type": "code",
      "source": [
        "import os, os.path\n",
        "\n",
        "current_path = os.getcwd()\n",
        "dir_name = 'Test'\n",
        "\n",
        "for i in range(5):\n",
        "  p = os.path.join(current_path, f'{dir_name}_{i}')\n",
        "  if not os.path.exists(p):\n",
        "    os.mkdir(p)\n",
        "    print(f'Каталог создан: {p}')"
      ],
      "metadata": {
        "id": "GqvmPVo_MxD3",
        "colab": {
          "base_uri": "https://localhost:8080/"
        },
        "outputId": "525cd904-3e4e-4eb1-fbc5-18ab64310e54"
      },
      "execution_count": null,
      "outputs": [
        {
          "output_type": "stream",
          "name": "stdout",
          "text": [
            "Каталог создан: /content/Test_0\n",
            "Каталог создан: /content/Test_1\n",
            "Каталог создан: /content/Test_2\n",
            "Каталог создан: /content/Test_3\n",
            "Каталог создан: /content/Test_4\n"
          ]
        }
      ]
    },
    {
      "cell_type": "markdown",
      "source": [
        "## Модуль math"
      ],
      "metadata": {
        "id": "rlZ5oY10GSUd"
      }
    },
    {
      "cell_type": "code",
      "source": [
        "from math import sin, cos, tan, radians\n",
        "print('\\t0 \\t30 \\t60 \\t90')\n",
        "\n",
        "print('sin', end='\\t')\n",
        "for angle in range(0, 100, 30):\n",
        "  print(f'{sin(radians(angle)) :.2f} ', end='\\t')\n",
        "print()\n",
        "print('cos', end='\\t')\n",
        "for angle in range(0, 100, 30):\n",
        "  print(f'{cos(radians(angle)) :.2f} ', end='\\t')\n",
        "print()\n",
        "print('tg', end='\\t')\n",
        "for angle in range(0, 100, 30):\n",
        "  print(f'{tan(radians(angle)) :.2f} ', end='\\t')"
      ],
      "metadata": {
        "colab": {
          "base_uri": "https://localhost:8080/"
        },
        "id": "T2Uumy8HGVhI",
        "outputId": "83d0452b-5749-46af-e8fc-1e9e34b8cc07"
      },
      "execution_count": null,
      "outputs": [
        {
          "output_type": "stream",
          "name": "stdout",
          "text": [
            "\t0 \t30 \t60 \t90\n",
            "sin\t0.00 \t0.50 \t0.87 \t1.00 \t\n",
            "cos\t1.00 \t0.87 \t0.50 \t0.00 \t\n",
            "tg\t0.00 \t0.58 \t1.73 \t16331239353195370.00 \t"
          ]
        }
      ]
    },
    {
      "cell_type": "markdown",
      "source": [
        "## Модуль itertools"
      ],
      "metadata": {
        "id": "wm9qTjgGOEP8"
      }
    },
    {
      "cell_type": "code",
      "source": [
        "from itertools import cycle\n",
        "names = ['Евгений', 'Мария', 'Алекс', 'Макс', 'Оля']\n",
        "\n",
        "for name in cycle(names):\n",
        "  print(name)\n",
        "  answer = input('Достаточно ? (Д/Н) > ')\n",
        "  if answer.upper() == 'Д':\n",
        "    break"
      ],
      "metadata": {
        "colab": {
          "base_uri": "https://localhost:8080/"
        },
        "id": "E2eGcx7fOHYX",
        "outputId": "f8aa1871-9eae-428a-a72f-f0f11bcb9739"
      },
      "execution_count": null,
      "outputs": [
        {
          "name": "stdout",
          "output_type": "stream",
          "text": [
            "Евгений\n",
            "Достаточно ? (Д/Н) > н\n",
            "Мария\n",
            "Достаточно ? (Д/Н) > н\n",
            "Алекс\n",
            "Достаточно ? (Д/Н) > н\n",
            "Макс\n",
            "Достаточно ? (Д/Н) > н\n",
            "Оля\n",
            "Достаточно ? (Д/Н) > н\n",
            "Евгений\n",
            "Достаточно ? (Д/Н) > н\n",
            "Мария\n",
            "Достаточно ? (Д/Н) > д\n"
          ]
        }
      ]
    },
    {
      "cell_type": "code",
      "source": [
        "from itertools import product\n",
        "alphabet = 'СЛОНИХА'\n",
        "for word in product(alphabet, repeat=4):\n",
        "  print(word)"
      ],
      "metadata": {
        "id": "xPaRIINcQi_1"
      },
      "execution_count": null,
      "outputs": []
    },
    {
      "cell_type": "code",
      "source": [
        "from itertools import product\n",
        "alphabet = 'СЛОНИХА'\n",
        "counter=0\n",
        "for word in product(alphabet, repeat=4):\n",
        "  counter+=1\n",
        "print(counter, 7**4)"
      ],
      "metadata": {
        "colab": {
          "base_uri": "https://localhost:8080/"
        },
        "id": "cgzeIRoFRQ16",
        "outputId": "c66ad891-7ddd-4ca3-e166-8a356d961bba"
      },
      "execution_count": null,
      "outputs": [
        {
          "output_type": "stream",
          "name": "stdout",
          "text": [
            "2401 2401\n"
          ]
        }
      ]
    },
    {
      "cell_type": "code",
      "source": [
        "from itertools import product\n",
        "alphabet = 'СЛОНИХА'\n",
        "print(len(list(product(alphabet, repeat=4))))"
      ],
      "metadata": {
        "colab": {
          "base_uri": "https://localhost:8080/"
        },
        "id": "B7e1THlHR6OK",
        "outputId": "e47e565d-0337-42ca-a41c-e10c0b4a930a"
      },
      "execution_count": null,
      "outputs": [
        {
          "output_type": "stream",
          "name": "stdout",
          "text": [
            "2401\n"
          ]
        }
      ]
    },
    {
      "cell_type": "markdown",
      "source": [
        "## Модуль random"
      ],
      "metadata": {
        "id": "il9pbyprUzE9"
      }
    },
    {
      "cell_type": "code",
      "source": [
        "from random import randint, random, choice, seed\n",
        "names=['Иванов', 'Петров', 'Сидоров', \\\n",
        "       'Поляков', 'Войтик', 'Серов',\n",
        "       'Пунькин', 'Солеев', 'Кирина']\n",
        "seed(5)\n",
        "file_output = open('data.txt', 'w')\n",
        "N = 15\n",
        "file_output.write('ФИО \\tВозраст \\tЗарплата\\n')\n",
        "for _ in range(N):\n",
        "  name = choice(names)\n",
        "  age = randint(18, 80)\n",
        "  salary = round(random()*10000, 2)\n",
        "  file_output.write(f'{name} \\t{age} \\t{salary}\\n')\n",
        "file_output.close()"
      ],
      "metadata": {
        "id": "LQqeyM1LU1XQ"
      },
      "execution_count": null,
      "outputs": []
    },
    {
      "cell_type": "markdown",
      "source": [
        "## Пользовательские модули"
      ],
      "metadata": {
        "id": "K6r0Phu8Z7PD"
      }
    },
    {
      "cell_type": "code",
      "source": [
        "# магические команды Python\n",
        "# скачиваем файл с данными по URL\n",
        "!wget https://raw.githubusercontent.com/enikolaev/Algorithmization_and_programming/main/data/data_theme9.csv"
      ],
      "metadata": {
        "colab": {
          "base_uri": "https://localhost:8080/"
        },
        "id": "o40P3i9rZ-E-",
        "outputId": "f0d8f03a-2e45-4bdc-9528-7c5601a3aa64"
      },
      "execution_count": null,
      "outputs": [
        {
          "output_type": "stream",
          "name": "stdout",
          "text": [
            "--2023-09-03 09:41:53--  https://raw.githubusercontent.com/enikolaev/Algorithmization_and_programming/main/data/data_theme9.csv\n",
            "Resolving raw.githubusercontent.com (raw.githubusercontent.com)... 185.199.110.133, 185.199.108.133, 185.199.109.133, ...\n",
            "Connecting to raw.githubusercontent.com (raw.githubusercontent.com)|185.199.110.133|:443... connected.\n",
            "HTTP request sent, awaiting response... 200 OK\n",
            "Length: 53585 (52K) [text/plain]\n",
            "Saving to: ‘data_theme9.csv’\n",
            "\n",
            "data_theme9.csv     100%[===================>]  52.33K  --.-KB/s    in 0.01s   \n",
            "\n",
            "2023-09-03 09:41:53 (4.32 MB/s) - ‘data_theme9.csv’ saved [53585/53585]\n",
            "\n"
          ]
        }
      ]
    },
    {
      "cell_type": "code",
      "source": [
        "import finance\n",
        "\n",
        "print(finance.Stavka)\n",
        "print(finance.get_nalog(1000))"
      ],
      "metadata": {
        "colab": {
          "base_uri": "https://localhost:8080/"
        },
        "id": "Qoth3W4GaMwJ",
        "outputId": "f600925a-b44a-4149-de77-cda19eb1f9b9"
      },
      "execution_count": null,
      "outputs": [
        {
          "output_type": "stream",
          "name": "stdout",
          "text": [
            "13\n",
            "130.0\n"
          ]
        }
      ]
    },
    {
      "cell_type": "code",
      "source": [
        "%load_ext autoreload\n",
        "%autoreload 2"
      ],
      "metadata": {
        "colab": {
          "base_uri": "https://localhost:8080/"
        },
        "id": "SPAyQQiNhc0H",
        "outputId": "b74394fb-9c42-4e84-db6e-b62891a3a112"
      },
      "execution_count": null,
      "outputs": [
        {
          "output_type": "stream",
          "name": "stdout",
          "text": [
            "The autoreload extension is already loaded. To reload it, use:\n",
            "  %reload_ext autoreload\n"
          ]
        }
      ]
    },
    {
      "cell_type": "code",
      "source": [
        "import finance as F\n",
        "import parser as P\n",
        "\n",
        "f = open('data_theme9.csv')\n",
        "sum_nalog = 0\n",
        "f.readline()\n",
        "for line in f:\n",
        "  data = P.parse(line)\n",
        "  sum_nalog += data['salary']\n",
        "f.close()\n",
        "\n",
        "print(f'Налогооблагаемая база: {round(sum_nalog, 2)}')\n",
        "print(f'Налогооблагаемая база: {round(F.get_nalog(sum_nalog), 2)}')"
      ],
      "metadata": {
        "colab": {
          "base_uri": "https://localhost:8080/"
        },
        "id": "wBlq5NQWeMTH",
        "outputId": "f120462c-95bf-40e1-ead4-db9bdfd83971"
      },
      "execution_count": null,
      "outputs": [
        {
          "output_type": "stream",
          "name": "stdout",
          "text": [
            "Налогооблагаемая база: 3013560.18\n",
            "Налогооблагаемая база: 391762.82\n"
          ]
        }
      ]
    },
    {
      "cell_type": "markdown",
      "source": [
        "# Лекция 10. ООП"
      ],
      "metadata": {
        "id": "QPlqzQTre3sX"
      }
    },
    {
      "cell_type": "code",
      "source": [
        "from random import randint\n",
        "\n",
        "class Coin:\n",
        "  def __init__(self):\n",
        "    self.sideup = 'Орёл'\n",
        "\n",
        "  def toss(self):\n",
        "    if randint(0,1) == 0:\n",
        "      self.sideup = 'Орёл'\n",
        "    else:\n",
        "      self.sideup = 'Решка'\n",
        "\n",
        "  def get_sideup(self):\n",
        "    return self.sideup"
      ],
      "metadata": {
        "id": "mwbNLwCDfCXh"
      },
      "execution_count": null,
      "outputs": []
    },
    {
      "cell_type": "code",
      "source": [
        "my_coin = Coin()\n",
        "\n",
        "while True:\n",
        "  print('Бросаю монету...')\n",
        "  my_coin.toss()\n",
        "\n",
        "  print('Монета упала этой стороной вверх: ', my_coin.get_sideup())\n",
        "\n",
        "  answer = input('Бросить монету еще раз? (д/н) > ')\n",
        "  if answer.upper()=='Н':\n",
        "    break\n"
      ],
      "metadata": {
        "colab": {
          "base_uri": "https://localhost:8080/"
        },
        "id": "QlwNfDldjzKX",
        "outputId": "1edb328a-8277-47a0-f8bb-5eddc9d3a237"
      },
      "execution_count": null,
      "outputs": [
        {
          "name": "stdout",
          "output_type": "stream",
          "text": [
            "Бросаю монету...\n",
            "Монета упала этой стороной вверх:  Решка\n",
            "Бросить монету еще раз? (д/н) > д\n",
            "Бросаю монету...\n",
            "Монета упала этой стороной вверх:  Орёл\n",
            "Бросить монету еще раз? (д/н) > д\n",
            "Бросаю монету...\n",
            "Монета упала этой стороной вверх:  Решка\n",
            "Бросить монету еще раз? (д/н) > д\n",
            "Бросаю монету...\n",
            "Монета упала этой стороной вверх:  Решка\n",
            "Бросить монету еще раз? (д/н) > д\n",
            "Бросаю монету...\n",
            "Монета упала этой стороной вверх:  Решка\n",
            "Бросить монету еще раз? (д/н) > д\n",
            "Бросаю монету...\n",
            "Монета упала этой стороной вверх:  Орёл\n",
            "Бросить монету еще раз? (д/н) > н\n"
          ]
        }
      ]
    },
    {
      "cell_type": "code",
      "source": [
        "my_coin = Coin()\n",
        "my_coin.toss()\n",
        "my_coin.sideup = 'Ребро'\n",
        "\n",
        "print('Монета упала этой стороной вверх: ', my_coin.get_sideup())"
      ],
      "metadata": {
        "colab": {
          "base_uri": "https://localhost:8080/"
        },
        "id": "ZtR0385OrLdw",
        "outputId": "69772cb3-ee1c-42d3-be5b-9cfb573250a3"
      },
      "execution_count": null,
      "outputs": [
        {
          "output_type": "stream",
          "name": "stdout",
          "text": [
            "Монета упала этой стороной вверх:  Ребро\n"
          ]
        }
      ]
    },
    {
      "cell_type": "code",
      "source": [
        "from random import randint\n",
        "\n",
        "class Coin:\n",
        "  def __init__(self):\n",
        "    self.__sideup = 'Орёл'\n",
        "\n",
        "  def toss(self):\n",
        "    if randint(0,1) == 0:\n",
        "      self.__sideup = 'Орёл'\n",
        "    else:\n",
        "      self.__sideup = 'Решка'\n",
        "\n",
        "  def get_sideup(self):\n",
        "    return self.__sideup\n",
        "\n",
        "my_coin = Coin()\n",
        "my_coin.toss()\n",
        "my_coin.__sideup = 'Ребро'\n",
        "\n",
        "print('Монета упала этой стороной вверх: ', my_coin.get_sideup())"
      ],
      "metadata": {
        "colab": {
          "base_uri": "https://localhost:8080/"
        },
        "id": "H-9nxtZ0sYxu",
        "outputId": "b8129e64-6e34-4ea0-e7db-e05b6ea7c9ba"
      },
      "execution_count": null,
      "outputs": [
        {
          "output_type": "stream",
          "name": "stdout",
          "text": [
            "Монета упала этой стороной вверх:  Орёл\n"
          ]
        }
      ]
    },
    {
      "cell_type": "code",
      "source": [
        "class CellPhone:\n",
        "  def __init__(self, manufact, model, price):\n",
        "    self.manufact = manufact\n",
        "    self.model = model\n",
        "    self.retail_price = price\n",
        "\n",
        "  def set_manufact(self, manufact):\n",
        "    self.manufact = manufact\n",
        "\n",
        "  def set_model(self, model):\n",
        "    self.model = model\n",
        "\n",
        "  def set_retail_price(self, price):\n",
        "    self.retail_price = price\n",
        "\n",
        "  def get_manufact(self):\n",
        "    return\tself.manufact\n",
        "\n",
        "  def get_model(self):\n",
        "    return\tself.model\n",
        "\n",
        "  def get_retail_price(self):\n",
        "    return\tself.retail_price\n"
      ],
      "metadata": {
        "id": "LCRGb2WoyHrP"
      },
      "execution_count": null,
      "outputs": []
    },
    {
      "cell_type": "code",
      "source": [
        "c1 = CellPhone(\"Acme Electronics\", \"М1000\", 200.56)\n",
        "c2 = CellPhone(\"Acme Electronics\", \"SX20\", 10.00)\n",
        "c3 = CellPhone(\"Atlantic Communicztions\", \"N47\", 150.00)\n",
        "\n",
        "print(c1)\n",
        "print(c2)\n",
        "print(c3)\n",
        "\n",
        "print(f'> Производитель: {c1.get_manufact()},\\n\\\n",
        "Модель: {c1.get_model()},\\n\\\n",
        "Розничная цена: {c1.get_retail_price()}')\n",
        "\n",
        "print(f'> Производитель: {c2.get_manufact()},\\n\\\n",
        "Модель: {c2.get_model()},\\n\\\n",
        "Розничная цена: {c2.get_retail_price()}')\n",
        "\n",
        "print(f'> Производитель: {c3.get_manufact()},\\n\\\n",
        "Модель: {c3.get_model()},\\n\\\n",
        "Розничная цена: {c3.get_retail_price()}')"
      ],
      "metadata": {
        "colab": {
          "base_uri": "https://localhost:8080/"
        },
        "id": "yFVrDc0CyxKA",
        "outputId": "623dd50b-9e33-452b-caec-7c1ef6093584"
      },
      "execution_count": null,
      "outputs": [
        {
          "output_type": "stream",
          "name": "stdout",
          "text": [
            "<__main__.CellPhone object at 0x7b60c0e17df0>\n",
            "<__main__.CellPhone object at 0x7b60c0e17c40>\n",
            "<__main__.CellPhone object at 0x7b60c0e162f0>\n",
            "> Производитель: Acme Electronics,\n",
            "Модель: М1000,\n",
            "Розничная цена: 200.56\n",
            "> Производитель: Acme Electronics,\n",
            "Модель: SX20,\n",
            "Розничная цена: 10.0\n",
            "> Производитель: Atlantic Communicztions,\n",
            "Модель: N47,\n",
            "Розничная цена: 150.0\n"
          ]
        }
      ]
    },
    {
      "cell_type": "code",
      "source": [
        "class CellPhone:\n",
        "  def __init__(self, manufact, model, price):\n",
        "    self.manufact = manufact\n",
        "    self.model = model\n",
        "    self.retail_price = price\n",
        "\n",
        "  def set_manufact(self, manufact):\n",
        "    self.manufact = manufact\n",
        "\n",
        "  def set_model(self, model):\n",
        "    self.model = model\n",
        "\n",
        "  def set_retail_price(self, price):\n",
        "    self.retail_price = price\n",
        "\n",
        "  def get_manufact(self):\n",
        "    return\tself.manufact\n",
        "\n",
        "  def get_model(self):\n",
        "    return\tself.model\n",
        "\n",
        "  def get_retail_price(self):\n",
        "    return\tself.retail_price\n",
        "\n",
        "  def __str__(self):\n",
        "    return '*'*20 + f'\\nПроизводитель: {c2.get_manufact()},\\n' +\\\n",
        "    f'Модель: {c2.get_model()},\\n' +\\\n",
        "    f'Розничная цена: {c2.get_retail_price()}\\n' + '*'*20"
      ],
      "metadata": {
        "id": "70mR39D76BQL"
      },
      "execution_count": null,
      "outputs": []
    },
    {
      "cell_type": "code",
      "source": [
        "c1 = CellPhone(\"Acme Electronics\", \"М1000\", 200.56)\n",
        "c2 = CellPhone(\"Acme Electronics\", \"SX20\", 10.00)\n",
        "c3 = CellPhone(\"Atlantic Communicztions\", \"N47\", 150.00)\n",
        "\n",
        "print(c1)\n",
        "print(c2)\n",
        "print(c3)"
      ],
      "metadata": {
        "colab": {
          "base_uri": "https://localhost:8080/"
        },
        "id": "YzVKFSau6COU",
        "outputId": "c1099e79-3ea8-4c17-f2b3-15f433909b1a"
      },
      "execution_count": null,
      "outputs": [
        {
          "output_type": "stream",
          "name": "stdout",
          "text": [
            "********************\n",
            "Производитель: Acme Electronics,\n",
            "Модель: SX20,\n",
            "Розничная цена: 10.0\n",
            "********************\n",
            "********************\n",
            "Производитель: Acme Electronics,\n",
            "Модель: SX20,\n",
            "Розничная цена: 10.0\n",
            "********************\n",
            "********************\n",
            "Производитель: Acme Electronics,\n",
            "Модель: SX20,\n",
            "Розничная цена: 10.0\n",
            "********************\n"
          ]
        }
      ]
    },
    {
      "cell_type": "code",
      "source": [
        "import pickle\n",
        "c1 = CellPhone(\"Acme Electronics\", \"М1000\", 200.56)\n",
        "c2 = CellPhone(\"Acme Electronics\", \"SX20\", 10.00)\n",
        "c3 = CellPhone(\"Atlantic Communicztions\", \"N47\", 150.00)\n",
        "\n",
        "output_file = open ('data.dat', 'wb')\n",
        "pickle.dump(c1, output_file)\n",
        "pickle.dump(c2, output_file)\n",
        "pickle.dump(c3, output_file)\n",
        "output_file.close()"
      ],
      "metadata": {
        "id": "hZdYIOdf8gYD"
      },
      "execution_count": null,
      "outputs": []
    },
    {
      "cell_type": "code",
      "source": [
        "import pickle\n",
        "input_file = open ('data.dat', 'rb')\n",
        "end_of_file = False\n",
        "while not end_of_file:\n",
        "  try:\n",
        "    phone = pickle.load(input_file)\n",
        "    print(phone)\n",
        "  except:\n",
        "    end_of_file = True"
      ],
      "metadata": {
        "colab": {
          "base_uri": "https://localhost:8080/"
        },
        "id": "czw-YpaL-dVf",
        "outputId": "55c1200d-29e7-4a7a-8aae-02364e3e5633"
      },
      "execution_count": null,
      "outputs": [
        {
          "output_type": "stream",
          "name": "stdout",
          "text": [
            "********************\n",
            "Производитель: Acme Electronics,\n",
            "Модель: SX20,\n",
            "Розничная цена: 10.0\n",
            "********************\n",
            "********************\n",
            "Производитель: Acme Electronics,\n",
            "Модель: SX20,\n",
            "Розничная цена: 10.0\n",
            "********************\n",
            "********************\n",
            "Производитель: Acme Electronics,\n",
            "Модель: SX20,\n",
            "Розничная цена: 10.0\n",
            "********************\n"
          ]
        }
      ]
    },
    {
      "cell_type": "markdown",
      "source": [
        "# Лекция 11"
      ],
      "metadata": {
        "id": "TGyec978_ZFu"
      }
    },
    {
      "cell_type": "code",
      "source": [
        "def f(x):\n",
        "  return x*x\n",
        "\n",
        "print(f(4))"
      ],
      "metadata": {
        "id": "d9UQYKS-_bBO",
        "colab": {
          "base_uri": "https://localhost:8080/"
        },
        "outputId": "536c6b4f-fd53-44c5-8df4-e61ef46d1c00"
      },
      "execution_count": 58,
      "outputs": [
        {
          "output_type": "stream",
          "name": "stdout",
          "text": [
            "16\n"
          ]
        }
      ]
    },
    {
      "cell_type": "code",
      "source": [
        "p = lambda x : x*x\n",
        "\n",
        "print(p(5))\n",
        "print(p(10))"
      ],
      "metadata": {
        "colab": {
          "base_uri": "https://localhost:8080/"
        },
        "id": "yjysTqNaivxN",
        "outputId": "ab3a604c-d16c-4713-d799-cfa56b8d6d72"
      },
      "execution_count": 59,
      "outputs": [
        {
          "output_type": "stream",
          "name": "stdout",
          "text": [
            "25\n",
            "100\n"
          ]
        }
      ]
    },
    {
      "cell_type": "code",
      "source": [
        "data = [1,45, 6, 324, 1056, 67, 123]\n",
        "data.sort()\n",
        "print(data)"
      ],
      "metadata": {
        "colab": {
          "base_uri": "https://localhost:8080/"
        },
        "id": "u9KHQVhokIEN",
        "outputId": "cada7788-cc5c-4f1e-877c-50e54473ac75"
      },
      "execution_count": 60,
      "outputs": [
        {
          "output_type": "stream",
          "name": "stdout",
          "text": [
            "[1, 6, 45, 67, 123, 324, 1056]\n"
          ]
        }
      ]
    },
    {
      "cell_type": "code",
      "source": [
        "data = [1,45, 6, 324, 1056, 67, 123]\n",
        "data.sort(reverse=True)\n",
        "print(data)"
      ],
      "metadata": {
        "colab": {
          "base_uri": "https://localhost:8080/"
        },
        "id": "B6QFp4E7kuvE",
        "outputId": "5de29c90-37c1-4054-b7ed-5ea5c88b2e0f"
      },
      "execution_count": 61,
      "outputs": [
        {
          "output_type": "stream",
          "name": "stdout",
          "text": [
            "[1056, 324, 123, 67, 45, 6, 1]\n"
          ]
        }
      ]
    },
    {
      "cell_type": "code",
      "source": [
        "def my_sort(x):\n",
        "  s = 0\n",
        "  sx = str(x)\n",
        "  for c in sx:\n",
        "    s += int(c)\n",
        "  return s\n",
        "\n",
        "data = [1,45, 6, 324, 1056, 67, 123]\n",
        "data.sort(key=my_sort)\n",
        "print(data)"
      ],
      "metadata": {
        "colab": {
          "base_uri": "https://localhost:8080/"
        },
        "id": "uG84R1Zul7yD",
        "outputId": "8d30d9e2-418f-4355-92c8-27d69cd6ebec"
      },
      "execution_count": 62,
      "outputs": [
        {
          "output_type": "stream",
          "name": "stdout",
          "text": [
            "[1, 6, 123, 45, 324, 1056, 67]\n"
          ]
        }
      ]
    },
    {
      "cell_type": "code",
      "source": [
        "data = [1,45, 6, 324, 1056, 67, 123]\n",
        "data.sort(key=lambda x : sum(int(c) for c in str(x)))\n",
        "print(data)"
      ],
      "metadata": {
        "colab": {
          "base_uri": "https://localhost:8080/"
        },
        "id": "JHCpDHb7oGjz",
        "outputId": "7b1bd7d6-8464-4adc-9689-0a0b89d16ac1"
      },
      "execution_count": 63,
      "outputs": [
        {
          "output_type": "stream",
          "name": "stdout",
          "text": [
            "[1, 6, 123, 45, 324, 1056, 67]\n"
          ]
        }
      ]
    },
    {
      "cell_type": "code",
      "source": [
        "data = [1,45, 6, 324, 1056, 67, 123]\n",
        "data3 = filter(lambda x : x%3, data)\n",
        "print(data3)\n",
        "print(type(data3))"
      ],
      "metadata": {
        "colab": {
          "base_uri": "https://localhost:8080/"
        },
        "id": "ynPAPIW3pNxW",
        "outputId": "145ca94b-d1f8-4f91-f051-9475cdaaa21d"
      },
      "execution_count": 66,
      "outputs": [
        {
          "output_type": "stream",
          "name": "stdout",
          "text": [
            "<filter object at 0x7c07e80c89d0>\n",
            "<class 'filter'>\n"
          ]
        }
      ]
    },
    {
      "cell_type": "code",
      "source": [
        "data = [1,45, 6, 324, 1056, 67, 123]\n",
        "data3 = list( filter(lambda x : x%3, data) )\n",
        "print(data3)"
      ],
      "metadata": {
        "colab": {
          "base_uri": "https://localhost:8080/"
        },
        "id": "dmocbcx4qhiM",
        "outputId": "2c5e9c43-fe3f-4dcf-dd41-92bd19b6010f"
      },
      "execution_count": 67,
      "outputs": [
        {
          "output_type": "stream",
          "name": "stdout",
          "text": [
            "[1, 67]\n"
          ]
        }
      ]
    },
    {
      "cell_type": "code",
      "source": [
        "data = [1, 45, 6, 324, 1056, 67, 123]\n",
        "data3 = [i for i in data if i%3==0]\n",
        "print(data3)"
      ],
      "metadata": {
        "colab": {
          "base_uri": "https://localhost:8080/"
        },
        "id": "ZIBx1L0mq7hx",
        "outputId": "4026c467-91d7-4e9f-b74c-71d8348398fa"
      },
      "execution_count": 68,
      "outputs": [
        {
          "output_type": "stream",
          "name": "stdout",
          "text": [
            "[45, 6, 324, 1056, 123]\n"
          ]
        }
      ]
    },
    {
      "cell_type": "code",
      "source": [
        "def my_map(x):\n",
        "  if type(x) in [int, float]:\n",
        "    return x*x\n",
        "  else:\n",
        "    return -1\n",
        "\n",
        "data = [34, 45.67, 'Hel', 90, [23, 0], \"abc\", 45]\n",
        "map_object = map(my_map, data)\n",
        "print(map_object)\n",
        "print(type(map_object))\n",
        "map_data = list(map_object)\n",
        "print(map_data)"
      ],
      "metadata": {
        "colab": {
          "base_uri": "https://localhost:8080/"
        },
        "id": "urgkHV9rsjW_",
        "outputId": "548c4832-95e1-42e2-8e29-775ca3c931ad"
      },
      "execution_count": 74,
      "outputs": [
        {
          "output_type": "stream",
          "name": "stdout",
          "text": [
            "<map object at 0x7c07dbdef100>\n",
            "<class 'map'>\n",
            "[1156, 2085.7489, -1, 8100, -1, -1, 2025]\n"
          ]
        }
      ]
    },
    {
      "cell_type": "code",
      "source": [
        "data = [34, 45.67, 'Hel', 90, [23, 0], \"abc\", 45]\n",
        "map_data = list( map(lambda x : \\\n",
        "                     x*x if type(x) in [int, float]\\\n",
        "                     else -1, data) )\n",
        "print(map_data)"
      ],
      "metadata": {
        "colab": {
          "base_uri": "https://localhost:8080/"
        },
        "id": "Y0VKG_gNxV5X",
        "outputId": "9da05da3-2524-442a-b279-a29b2ef43f26"
      },
      "execution_count": 76,
      "outputs": [
        {
          "output_type": "stream",
          "name": "stdout",
          "text": [
            "[1156, 2085.7489, -1, 8100, -1, -1, 2025]\n"
          ]
        }
      ]
    },
    {
      "cell_type": "code",
      "source": [
        "sx = '123 45 67 89 12 1 4'\n",
        "x = list(map(int, sx.split()))\n",
        "print(x)"
      ],
      "metadata": {
        "colab": {
          "base_uri": "https://localhost:8080/"
        },
        "id": "S60x5WBKyJ08",
        "outputId": "b62e3fa0-91d5-4869-8f35-8dae7dc7d1ca"
      },
      "execution_count": 77,
      "outputs": [
        {
          "output_type": "stream",
          "name": "stdout",
          "text": [
            "[123, 45, 67, 89, 12, 1, 4]\n"
          ]
        }
      ]
    },
    {
      "cell_type": "code",
      "source": [
        "data = [13, 1.3, 4, 'abs', 78]\n",
        "filtered_data = list(filter(lambda x: type(x)==int, data))\n",
        "print(filtered_data)"
      ],
      "metadata": {
        "colab": {
          "base_uri": "https://localhost:8080/"
        },
        "id": "K8fD6KFCzAjx",
        "outputId": "f8777057-9e34-4246-f8fc-29d2a3018d8a"
      },
      "execution_count": 81,
      "outputs": [
        {
          "output_type": "stream",
          "name": "stdout",
          "text": [
            "[13, 4, 78]\n"
          ]
        }
      ]
    },
    {
      "cell_type": "markdown",
      "source": [
        "# Лекция 12. Визуализация данных"
      ],
      "metadata": {
        "id": "I_Dc52C__byt"
      }
    },
    {
      "cell_type": "code",
      "source": [
        "# Выполним магическую команду\n",
        "# и загрузим данные с github\n",
        "!wget https://raw.githubusercontent.com/enikolaev/Algorithmization_and_programming/main/data/recent-grads-test.csv"
      ],
      "metadata": {
        "colab": {
          "base_uri": "https://localhost:8080/"
        },
        "id": "LW33p-ul_h6Y",
        "outputId": "cb1da1c8-b0eb-4952-c6e0-0e3c3f4be458"
      },
      "execution_count": 2,
      "outputs": [
        {
          "output_type": "stream",
          "name": "stdout",
          "text": [
            "--2023-09-09 09:10:34--  https://raw.githubusercontent.com/enikolaev/Algorithmization_and_programming/main/data/recent-grads-test.csv\n",
            "Resolving raw.githubusercontent.com (raw.githubusercontent.com)... 185.199.108.133, 185.199.109.133, 185.199.110.133, ...\n",
            "Connecting to raw.githubusercontent.com (raw.githubusercontent.com)|185.199.108.133|:443... connected.\n",
            "HTTP request sent, awaiting response... 200 OK\n",
            "Length: 19321 (19K) [text/plain]\n",
            "Saving to: ‘recent-grads-test.csv’\n",
            "\n",
            "recent-grads-test.c 100%[===================>]  18.87K  --.-KB/s    in 0s      \n",
            "\n",
            "2023-09-09 09:10:35 (47.0 MB/s) - ‘recent-grads-test.csv’ saved [19321/19321]\n",
            "\n"
          ]
        }
      ]
    },
    {
      "cell_type": "code",
      "source": [
        "import pandas as pd\n",
        "data = pd.read_csv('recent-grads-test.csv', delimiter=';')\n",
        "data.head()"
      ],
      "metadata": {
        "colab": {
          "base_uri": "https://localhost:8080/",
          "height": 382
        },
        "id": "qW4TzHa__6J_",
        "outputId": "ba2c2db4-602b-4223-aabd-451a4f10d655"
      },
      "execution_count": 3,
      "outputs": [
        {
          "output_type": "execute_result",
          "data": {
            "text/plain": [
              "   Rank  Major_code                                      Major    Total  \\\n",
              "0     1        2419                      PETROLEUM ENGINEERING   2339.0   \n",
              "1     2        2416             MINING AND MINERAL ENGINEERING    756.0   \n",
              "2     3        2415                  METALLURGICAL ENGINEERING    856.0   \n",
              "3     4        2417  NAVAL ARCHITECTURE AND MARINE ENGINEERING   1258.0   \n",
              "4     5        2405                       CHEMICAL ENGINEERING  32260.0   \n",
              "\n",
              "       Men    Women Major_category  Employed  Full_time  Part_time  \\\n",
              "0   2057.0    282.0    Engineering      1976       1849        270   \n",
              "1    679.0     77.0    Engineering       640        556        170   \n",
              "2    725.0    131.0    Engineering       648        558        133   \n",
              "3   1123.0    135.0    Engineering       758       1069        150   \n",
              "4  21239.0  11021.0    Engineering     25694      23170       5180   \n",
              "\n",
              "   Unemployed  Median earning  College_jobs  Non_college_jobs  Low_wage_jobs  \n",
              "0          37          110000          1534               364            193  \n",
              "1          85           75000           350               257             50  \n",
              "2          16           73000           456               176              0  \n",
              "3          40           70000           529               102              0  \n",
              "4        1672           65000         18314              4440            972  "
            ],
            "text/html": [
              "\n",
              "  <div id=\"df-417854b3-888b-49a6-8644-152aad4e5e6a\" class=\"colab-df-container\">\n",
              "    <div>\n",
              "<style scoped>\n",
              "    .dataframe tbody tr th:only-of-type {\n",
              "        vertical-align: middle;\n",
              "    }\n",
              "\n",
              "    .dataframe tbody tr th {\n",
              "        vertical-align: top;\n",
              "    }\n",
              "\n",
              "    .dataframe thead th {\n",
              "        text-align: right;\n",
              "    }\n",
              "</style>\n",
              "<table border=\"1\" class=\"dataframe\">\n",
              "  <thead>\n",
              "    <tr style=\"text-align: right;\">\n",
              "      <th></th>\n",
              "      <th>Rank</th>\n",
              "      <th>Major_code</th>\n",
              "      <th>Major</th>\n",
              "      <th>Total</th>\n",
              "      <th>Men</th>\n",
              "      <th>Women</th>\n",
              "      <th>Major_category</th>\n",
              "      <th>Employed</th>\n",
              "      <th>Full_time</th>\n",
              "      <th>Part_time</th>\n",
              "      <th>Unemployed</th>\n",
              "      <th>Median earning</th>\n",
              "      <th>College_jobs</th>\n",
              "      <th>Non_college_jobs</th>\n",
              "      <th>Low_wage_jobs</th>\n",
              "    </tr>\n",
              "  </thead>\n",
              "  <tbody>\n",
              "    <tr>\n",
              "      <th>0</th>\n",
              "      <td>1</td>\n",
              "      <td>2419</td>\n",
              "      <td>PETROLEUM ENGINEERING</td>\n",
              "      <td>2339.0</td>\n",
              "      <td>2057.0</td>\n",
              "      <td>282.0</td>\n",
              "      <td>Engineering</td>\n",
              "      <td>1976</td>\n",
              "      <td>1849</td>\n",
              "      <td>270</td>\n",
              "      <td>37</td>\n",
              "      <td>110000</td>\n",
              "      <td>1534</td>\n",
              "      <td>364</td>\n",
              "      <td>193</td>\n",
              "    </tr>\n",
              "    <tr>\n",
              "      <th>1</th>\n",
              "      <td>2</td>\n",
              "      <td>2416</td>\n",
              "      <td>MINING AND MINERAL ENGINEERING</td>\n",
              "      <td>756.0</td>\n",
              "      <td>679.0</td>\n",
              "      <td>77.0</td>\n",
              "      <td>Engineering</td>\n",
              "      <td>640</td>\n",
              "      <td>556</td>\n",
              "      <td>170</td>\n",
              "      <td>85</td>\n",
              "      <td>75000</td>\n",
              "      <td>350</td>\n",
              "      <td>257</td>\n",
              "      <td>50</td>\n",
              "    </tr>\n",
              "    <tr>\n",
              "      <th>2</th>\n",
              "      <td>3</td>\n",
              "      <td>2415</td>\n",
              "      <td>METALLURGICAL ENGINEERING</td>\n",
              "      <td>856.0</td>\n",
              "      <td>725.0</td>\n",
              "      <td>131.0</td>\n",
              "      <td>Engineering</td>\n",
              "      <td>648</td>\n",
              "      <td>558</td>\n",
              "      <td>133</td>\n",
              "      <td>16</td>\n",
              "      <td>73000</td>\n",
              "      <td>456</td>\n",
              "      <td>176</td>\n",
              "      <td>0</td>\n",
              "    </tr>\n",
              "    <tr>\n",
              "      <th>3</th>\n",
              "      <td>4</td>\n",
              "      <td>2417</td>\n",
              "      <td>NAVAL ARCHITECTURE AND MARINE ENGINEERING</td>\n",
              "      <td>1258.0</td>\n",
              "      <td>1123.0</td>\n",
              "      <td>135.0</td>\n",
              "      <td>Engineering</td>\n",
              "      <td>758</td>\n",
              "      <td>1069</td>\n",
              "      <td>150</td>\n",
              "      <td>40</td>\n",
              "      <td>70000</td>\n",
              "      <td>529</td>\n",
              "      <td>102</td>\n",
              "      <td>0</td>\n",
              "    </tr>\n",
              "    <tr>\n",
              "      <th>4</th>\n",
              "      <td>5</td>\n",
              "      <td>2405</td>\n",
              "      <td>CHEMICAL ENGINEERING</td>\n",
              "      <td>32260.0</td>\n",
              "      <td>21239.0</td>\n",
              "      <td>11021.0</td>\n",
              "      <td>Engineering</td>\n",
              "      <td>25694</td>\n",
              "      <td>23170</td>\n",
              "      <td>5180</td>\n",
              "      <td>1672</td>\n",
              "      <td>65000</td>\n",
              "      <td>18314</td>\n",
              "      <td>4440</td>\n",
              "      <td>972</td>\n",
              "    </tr>\n",
              "  </tbody>\n",
              "</table>\n",
              "</div>\n",
              "    <div class=\"colab-df-buttons\">\n",
              "\n",
              "  <div class=\"colab-df-container\">\n",
              "    <button class=\"colab-df-convert\" onclick=\"convertToInteractive('df-417854b3-888b-49a6-8644-152aad4e5e6a')\"\n",
              "            title=\"Convert this dataframe to an interactive table.\"\n",
              "            style=\"display:none;\">\n",
              "\n",
              "  <svg xmlns=\"http://www.w3.org/2000/svg\" height=\"24px\" viewBox=\"0 -960 960 960\">\n",
              "    <path d=\"M120-120v-720h720v720H120Zm60-500h600v-160H180v160Zm220 220h160v-160H400v160Zm0 220h160v-160H400v160ZM180-400h160v-160H180v160Zm440 0h160v-160H620v160ZM180-180h160v-160H180v160Zm440 0h160v-160H620v160Z\"/>\n",
              "  </svg>\n",
              "    </button>\n",
              "\n",
              "  <style>\n",
              "    .colab-df-container {\n",
              "      display:flex;\n",
              "      gap: 12px;\n",
              "    }\n",
              "\n",
              "    .colab-df-convert {\n",
              "      background-color: #E8F0FE;\n",
              "      border: none;\n",
              "      border-radius: 50%;\n",
              "      cursor: pointer;\n",
              "      display: none;\n",
              "      fill: #1967D2;\n",
              "      height: 32px;\n",
              "      padding: 0 0 0 0;\n",
              "      width: 32px;\n",
              "    }\n",
              "\n",
              "    .colab-df-convert:hover {\n",
              "      background-color: #E2EBFA;\n",
              "      box-shadow: 0px 1px 2px rgba(60, 64, 67, 0.3), 0px 1px 3px 1px rgba(60, 64, 67, 0.15);\n",
              "      fill: #174EA6;\n",
              "    }\n",
              "\n",
              "    .colab-df-buttons div {\n",
              "      margin-bottom: 4px;\n",
              "    }\n",
              "\n",
              "    [theme=dark] .colab-df-convert {\n",
              "      background-color: #3B4455;\n",
              "      fill: #D2E3FC;\n",
              "    }\n",
              "\n",
              "    [theme=dark] .colab-df-convert:hover {\n",
              "      background-color: #434B5C;\n",
              "      box-shadow: 0px 1px 3px 1px rgba(0, 0, 0, 0.15);\n",
              "      filter: drop-shadow(0px 1px 2px rgba(0, 0, 0, 0.3));\n",
              "      fill: #FFFFFF;\n",
              "    }\n",
              "  </style>\n",
              "\n",
              "    <script>\n",
              "      const buttonEl =\n",
              "        document.querySelector('#df-417854b3-888b-49a6-8644-152aad4e5e6a button.colab-df-convert');\n",
              "      buttonEl.style.display =\n",
              "        google.colab.kernel.accessAllowed ? 'block' : 'none';\n",
              "\n",
              "      async function convertToInteractive(key) {\n",
              "        const element = document.querySelector('#df-417854b3-888b-49a6-8644-152aad4e5e6a');\n",
              "        const dataTable =\n",
              "          await google.colab.kernel.invokeFunction('convertToInteractive',\n",
              "                                                    [key], {});\n",
              "        if (!dataTable) return;\n",
              "\n",
              "        const docLinkHtml = 'Like what you see? Visit the ' +\n",
              "          '<a target=\"_blank\" href=https://colab.research.google.com/notebooks/data_table.ipynb>data table notebook</a>'\n",
              "          + ' to learn more about interactive tables.';\n",
              "        element.innerHTML = '';\n",
              "        dataTable['output_type'] = 'display_data';\n",
              "        await google.colab.output.renderOutput(dataTable, element);\n",
              "        const docLink = document.createElement('div');\n",
              "        docLink.innerHTML = docLinkHtml;\n",
              "        element.appendChild(docLink);\n",
              "      }\n",
              "    </script>\n",
              "  </div>\n",
              "\n",
              "\n",
              "<div id=\"df-3c4cb1de-64a2-4a03-aa60-fac5f12fe09f\">\n",
              "  <button class=\"colab-df-quickchart\" onclick=\"quickchart('df-3c4cb1de-64a2-4a03-aa60-fac5f12fe09f')\"\n",
              "            title=\"Suggest charts.\"\n",
              "            style=\"display:none;\">\n",
              "\n",
              "<svg xmlns=\"http://www.w3.org/2000/svg\" height=\"24px\"viewBox=\"0 0 24 24\"\n",
              "     width=\"24px\">\n",
              "    <g>\n",
              "        <path d=\"M19 3H5c-1.1 0-2 .9-2 2v14c0 1.1.9 2 2 2h14c1.1 0 2-.9 2-2V5c0-1.1-.9-2-2-2zM9 17H7v-7h2v7zm4 0h-2V7h2v10zm4 0h-2v-4h2v4z\"/>\n",
              "    </g>\n",
              "</svg>\n",
              "  </button>\n",
              "\n",
              "<style>\n",
              "  .colab-df-quickchart {\n",
              "      --bg-color: #E8F0FE;\n",
              "      --fill-color: #1967D2;\n",
              "      --hover-bg-color: #E2EBFA;\n",
              "      --hover-fill-color: #174EA6;\n",
              "      --disabled-fill-color: #AAA;\n",
              "      --disabled-bg-color: #DDD;\n",
              "  }\n",
              "\n",
              "  [theme=dark] .colab-df-quickchart {\n",
              "      --bg-color: #3B4455;\n",
              "      --fill-color: #D2E3FC;\n",
              "      --hover-bg-color: #434B5C;\n",
              "      --hover-fill-color: #FFFFFF;\n",
              "      --disabled-bg-color: #3B4455;\n",
              "      --disabled-fill-color: #666;\n",
              "  }\n",
              "\n",
              "  .colab-df-quickchart {\n",
              "    background-color: var(--bg-color);\n",
              "    border: none;\n",
              "    border-radius: 50%;\n",
              "    cursor: pointer;\n",
              "    display: none;\n",
              "    fill: var(--fill-color);\n",
              "    height: 32px;\n",
              "    padding: 0;\n",
              "    width: 32px;\n",
              "  }\n",
              "\n",
              "  .colab-df-quickchart:hover {\n",
              "    background-color: var(--hover-bg-color);\n",
              "    box-shadow: 0 1px 2px rgba(60, 64, 67, 0.3), 0 1px 3px 1px rgba(60, 64, 67, 0.15);\n",
              "    fill: var(--button-hover-fill-color);\n",
              "  }\n",
              "\n",
              "  .colab-df-quickchart-complete:disabled,\n",
              "  .colab-df-quickchart-complete:disabled:hover {\n",
              "    background-color: var(--disabled-bg-color);\n",
              "    fill: var(--disabled-fill-color);\n",
              "    box-shadow: none;\n",
              "  }\n",
              "\n",
              "  .colab-df-spinner {\n",
              "    border: 2px solid var(--fill-color);\n",
              "    border-color: transparent;\n",
              "    border-bottom-color: var(--fill-color);\n",
              "    animation:\n",
              "      spin 1s steps(1) infinite;\n",
              "  }\n",
              "\n",
              "  @keyframes spin {\n",
              "    0% {\n",
              "      border-color: transparent;\n",
              "      border-bottom-color: var(--fill-color);\n",
              "      border-left-color: var(--fill-color);\n",
              "    }\n",
              "    20% {\n",
              "      border-color: transparent;\n",
              "      border-left-color: var(--fill-color);\n",
              "      border-top-color: var(--fill-color);\n",
              "    }\n",
              "    30% {\n",
              "      border-color: transparent;\n",
              "      border-left-color: var(--fill-color);\n",
              "      border-top-color: var(--fill-color);\n",
              "      border-right-color: var(--fill-color);\n",
              "    }\n",
              "    40% {\n",
              "      border-color: transparent;\n",
              "      border-right-color: var(--fill-color);\n",
              "      border-top-color: var(--fill-color);\n",
              "    }\n",
              "    60% {\n",
              "      border-color: transparent;\n",
              "      border-right-color: var(--fill-color);\n",
              "    }\n",
              "    80% {\n",
              "      border-color: transparent;\n",
              "      border-right-color: var(--fill-color);\n",
              "      border-bottom-color: var(--fill-color);\n",
              "    }\n",
              "    90% {\n",
              "      border-color: transparent;\n",
              "      border-bottom-color: var(--fill-color);\n",
              "    }\n",
              "  }\n",
              "</style>\n",
              "\n",
              "  <script>\n",
              "    async function quickchart(key) {\n",
              "      const quickchartButtonEl =\n",
              "        document.querySelector('#' + key + ' button');\n",
              "      quickchartButtonEl.disabled = true;  // To prevent multiple clicks.\n",
              "      quickchartButtonEl.classList.add('colab-df-spinner');\n",
              "      try {\n",
              "        const charts = await google.colab.kernel.invokeFunction(\n",
              "            'suggestCharts', [key], {});\n",
              "      } catch (error) {\n",
              "        console.error('Error during call to suggestCharts:', error);\n",
              "      }\n",
              "      quickchartButtonEl.classList.remove('colab-df-spinner');\n",
              "      quickchartButtonEl.classList.add('colab-df-quickchart-complete');\n",
              "    }\n",
              "    (() => {\n",
              "      let quickchartButtonEl =\n",
              "        document.querySelector('#df-3c4cb1de-64a2-4a03-aa60-fac5f12fe09f button');\n",
              "      quickchartButtonEl.style.display =\n",
              "        google.colab.kernel.accessAllowed ? 'block' : 'none';\n",
              "    })();\n",
              "  </script>\n",
              "</div>\n",
              "    </div>\n",
              "  </div>\n"
            ]
          },
          "metadata": {},
          "execution_count": 3
        }
      ]
    },
    {
      "cell_type": "code",
      "source": [
        "data.info()"
      ],
      "metadata": {
        "colab": {
          "base_uri": "https://localhost:8080/"
        },
        "id": "17dF1cHOCuzy",
        "outputId": "98927be8-7bd6-4400-da24-01ee352dfae0"
      },
      "execution_count": 4,
      "outputs": [
        {
          "output_type": "stream",
          "name": "stdout",
          "text": [
            "<class 'pandas.core.frame.DataFrame'>\n",
            "RangeIndex: 173 entries, 0 to 172\n",
            "Data columns (total 15 columns):\n",
            " #   Column            Non-Null Count  Dtype  \n",
            "---  ------            --------------  -----  \n",
            " 0   Rank              173 non-null    int64  \n",
            " 1   Major_code        173 non-null    int64  \n",
            " 2   Major             173 non-null    object \n",
            " 3   Total             172 non-null    float64\n",
            " 4   Men               172 non-null    float64\n",
            " 5   Women             172 non-null    float64\n",
            " 6   Major_category    173 non-null    object \n",
            " 7   Employed          173 non-null    int64  \n",
            " 8   Full_time         173 non-null    int64  \n",
            " 9   Part_time         173 non-null    int64  \n",
            " 10  Unemployed        173 non-null    int64  \n",
            " 11  Median earning    173 non-null    int64  \n",
            " 12  College_jobs      173 non-null    int64  \n",
            " 13  Non_college_jobs  173 non-null    int64  \n",
            " 14  Low_wage_jobs     173 non-null    int64  \n",
            "dtypes: float64(3), int64(10), object(2)\n",
            "memory usage: 20.4+ KB\n"
          ]
        }
      ]
    },
    {
      "cell_type": "code",
      "source": [
        "all_majors = data['Major']\n",
        "print(type(all_majors))\n",
        "all_majors.tail()"
      ],
      "metadata": {
        "colab": {
          "base_uri": "https://localhost:8080/"
        },
        "id": "gk5B5PHtDYLH",
        "outputId": "d83beaf7-c2e3-4698-9ec1-9b411bb3c3da"
      },
      "execution_count": 5,
      "outputs": [
        {
          "output_type": "stream",
          "name": "stdout",
          "text": [
            "<class 'pandas.core.series.Series'>\n"
          ]
        },
        {
          "output_type": "execute_result",
          "data": {
            "text/plain": [
              "168                   ZOOLOGY\n",
              "169    EDUCATIONAL PSYCHOLOGY\n",
              "170       CLINICAL PSYCHOLOGY\n",
              "171     COUNSELING PSYCHOLOGY\n",
              "172           LIBRARY SCIENCE\n",
              "Name: Major, dtype: object"
            ]
          },
          "metadata": {},
          "execution_count": 5
        }
      ]
    },
    {
      "cell_type": "code",
      "source": [
        "data.describe()"
      ],
      "metadata": {
        "colab": {
          "base_uri": "https://localhost:8080/",
          "height": 337
        },
        "id": "ULXdhn-eGo_N",
        "outputId": "62d401e4-e66a-44bd-97b4-4415873ebd96"
      },
      "execution_count": 6,
      "outputs": [
        {
          "output_type": "execute_result",
          "data": {
            "text/plain": [
              "             Rank   Major_code          Total            Men          Women  \\\n",
              "count  173.000000   173.000000     172.000000     172.000000     172.000000   \n",
              "mean    87.000000  3879.815029   39370.081395   16723.406977   22646.674419   \n",
              "std     50.084928  1687.753140   63483.491009   28122.433474   41057.330740   \n",
              "min      1.000000  1100.000000     124.000000     119.000000       0.000000   \n",
              "25%     44.000000  2403.000000    4549.750000    2177.500000    1778.250000   \n",
              "50%     87.000000  3608.000000   15104.000000    5434.000000    8386.500000   \n",
              "75%    130.000000  5503.000000   38909.750000   14631.000000   22553.750000   \n",
              "max    173.000000  6403.000000  393735.000000  173809.000000  307087.000000   \n",
              "\n",
              "            Employed      Full_time      Part_time    Unemployed  \\\n",
              "count     173.000000     173.000000     173.000000    173.000000   \n",
              "mean    31192.763006   26029.306358    8832.398844   2416.329480   \n",
              "std     50675.002241   42869.655092   14648.179473   4112.803148   \n",
              "min         0.000000     111.000000       0.000000      0.000000   \n",
              "25%      3608.000000    3154.000000    1030.000000    304.000000   \n",
              "50%     11797.000000   10048.000000    3299.000000    893.000000   \n",
              "75%     31433.000000   25147.000000    9948.000000   2393.000000   \n",
              "max    307933.000000  251540.000000  115172.000000  28169.000000   \n",
              "\n",
              "       Median earning   College_jobs  Non_college_jobs  Low_wage_jobs  \n",
              "count      173.000000     173.000000        173.000000     173.000000  \n",
              "mean     40151.445087   12322.635838      13284.497110    3859.017341  \n",
              "std      11470.181802   21299.868863      23789.655363    6944.998579  \n",
              "min      22000.000000       0.000000          0.000000       0.000000  \n",
              "25%      33000.000000    1675.000000       1591.000000     340.000000  \n",
              "50%      36000.000000    4390.000000       4595.000000    1231.000000  \n",
              "75%      45000.000000   14444.000000      11783.000000    3466.000000  \n",
              "max     110000.000000  151643.000000     148395.000000   48207.000000  "
            ],
            "text/html": [
              "\n",
              "  <div id=\"df-9f5101e5-4aa6-4ccc-acae-a1a3ea8b2697\" class=\"colab-df-container\">\n",
              "    <div>\n",
              "<style scoped>\n",
              "    .dataframe tbody tr th:only-of-type {\n",
              "        vertical-align: middle;\n",
              "    }\n",
              "\n",
              "    .dataframe tbody tr th {\n",
              "        vertical-align: top;\n",
              "    }\n",
              "\n",
              "    .dataframe thead th {\n",
              "        text-align: right;\n",
              "    }\n",
              "</style>\n",
              "<table border=\"1\" class=\"dataframe\">\n",
              "  <thead>\n",
              "    <tr style=\"text-align: right;\">\n",
              "      <th></th>\n",
              "      <th>Rank</th>\n",
              "      <th>Major_code</th>\n",
              "      <th>Total</th>\n",
              "      <th>Men</th>\n",
              "      <th>Women</th>\n",
              "      <th>Employed</th>\n",
              "      <th>Full_time</th>\n",
              "      <th>Part_time</th>\n",
              "      <th>Unemployed</th>\n",
              "      <th>Median earning</th>\n",
              "      <th>College_jobs</th>\n",
              "      <th>Non_college_jobs</th>\n",
              "      <th>Low_wage_jobs</th>\n",
              "    </tr>\n",
              "  </thead>\n",
              "  <tbody>\n",
              "    <tr>\n",
              "      <th>count</th>\n",
              "      <td>173.000000</td>\n",
              "      <td>173.000000</td>\n",
              "      <td>172.000000</td>\n",
              "      <td>172.000000</td>\n",
              "      <td>172.000000</td>\n",
              "      <td>173.000000</td>\n",
              "      <td>173.000000</td>\n",
              "      <td>173.000000</td>\n",
              "      <td>173.000000</td>\n",
              "      <td>173.000000</td>\n",
              "      <td>173.000000</td>\n",
              "      <td>173.000000</td>\n",
              "      <td>173.000000</td>\n",
              "    </tr>\n",
              "    <tr>\n",
              "      <th>mean</th>\n",
              "      <td>87.000000</td>\n",
              "      <td>3879.815029</td>\n",
              "      <td>39370.081395</td>\n",
              "      <td>16723.406977</td>\n",
              "      <td>22646.674419</td>\n",
              "      <td>31192.763006</td>\n",
              "      <td>26029.306358</td>\n",
              "      <td>8832.398844</td>\n",
              "      <td>2416.329480</td>\n",
              "      <td>40151.445087</td>\n",
              "      <td>12322.635838</td>\n",
              "      <td>13284.497110</td>\n",
              "      <td>3859.017341</td>\n",
              "    </tr>\n",
              "    <tr>\n",
              "      <th>std</th>\n",
              "      <td>50.084928</td>\n",
              "      <td>1687.753140</td>\n",
              "      <td>63483.491009</td>\n",
              "      <td>28122.433474</td>\n",
              "      <td>41057.330740</td>\n",
              "      <td>50675.002241</td>\n",
              "      <td>42869.655092</td>\n",
              "      <td>14648.179473</td>\n",
              "      <td>4112.803148</td>\n",
              "      <td>11470.181802</td>\n",
              "      <td>21299.868863</td>\n",
              "      <td>23789.655363</td>\n",
              "      <td>6944.998579</td>\n",
              "    </tr>\n",
              "    <tr>\n",
              "      <th>min</th>\n",
              "      <td>1.000000</td>\n",
              "      <td>1100.000000</td>\n",
              "      <td>124.000000</td>\n",
              "      <td>119.000000</td>\n",
              "      <td>0.000000</td>\n",
              "      <td>0.000000</td>\n",
              "      <td>111.000000</td>\n",
              "      <td>0.000000</td>\n",
              "      <td>0.000000</td>\n",
              "      <td>22000.000000</td>\n",
              "      <td>0.000000</td>\n",
              "      <td>0.000000</td>\n",
              "      <td>0.000000</td>\n",
              "    </tr>\n",
              "    <tr>\n",
              "      <th>25%</th>\n",
              "      <td>44.000000</td>\n",
              "      <td>2403.000000</td>\n",
              "      <td>4549.750000</td>\n",
              "      <td>2177.500000</td>\n",
              "      <td>1778.250000</td>\n",
              "      <td>3608.000000</td>\n",
              "      <td>3154.000000</td>\n",
              "      <td>1030.000000</td>\n",
              "      <td>304.000000</td>\n",
              "      <td>33000.000000</td>\n",
              "      <td>1675.000000</td>\n",
              "      <td>1591.000000</td>\n",
              "      <td>340.000000</td>\n",
              "    </tr>\n",
              "    <tr>\n",
              "      <th>50%</th>\n",
              "      <td>87.000000</td>\n",
              "      <td>3608.000000</td>\n",
              "      <td>15104.000000</td>\n",
              "      <td>5434.000000</td>\n",
              "      <td>8386.500000</td>\n",
              "      <td>11797.000000</td>\n",
              "      <td>10048.000000</td>\n",
              "      <td>3299.000000</td>\n",
              "      <td>893.000000</td>\n",
              "      <td>36000.000000</td>\n",
              "      <td>4390.000000</td>\n",
              "      <td>4595.000000</td>\n",
              "      <td>1231.000000</td>\n",
              "    </tr>\n",
              "    <tr>\n",
              "      <th>75%</th>\n",
              "      <td>130.000000</td>\n",
              "      <td>5503.000000</td>\n",
              "      <td>38909.750000</td>\n",
              "      <td>14631.000000</td>\n",
              "      <td>22553.750000</td>\n",
              "      <td>31433.000000</td>\n",
              "      <td>25147.000000</td>\n",
              "      <td>9948.000000</td>\n",
              "      <td>2393.000000</td>\n",
              "      <td>45000.000000</td>\n",
              "      <td>14444.000000</td>\n",
              "      <td>11783.000000</td>\n",
              "      <td>3466.000000</td>\n",
              "    </tr>\n",
              "    <tr>\n",
              "      <th>max</th>\n",
              "      <td>173.000000</td>\n",
              "      <td>6403.000000</td>\n",
              "      <td>393735.000000</td>\n",
              "      <td>173809.000000</td>\n",
              "      <td>307087.000000</td>\n",
              "      <td>307933.000000</td>\n",
              "      <td>251540.000000</td>\n",
              "      <td>115172.000000</td>\n",
              "      <td>28169.000000</td>\n",
              "      <td>110000.000000</td>\n",
              "      <td>151643.000000</td>\n",
              "      <td>148395.000000</td>\n",
              "      <td>48207.000000</td>\n",
              "    </tr>\n",
              "  </tbody>\n",
              "</table>\n",
              "</div>\n",
              "    <div class=\"colab-df-buttons\">\n",
              "\n",
              "  <div class=\"colab-df-container\">\n",
              "    <button class=\"colab-df-convert\" onclick=\"convertToInteractive('df-9f5101e5-4aa6-4ccc-acae-a1a3ea8b2697')\"\n",
              "            title=\"Convert this dataframe to an interactive table.\"\n",
              "            style=\"display:none;\">\n",
              "\n",
              "  <svg xmlns=\"http://www.w3.org/2000/svg\" height=\"24px\" viewBox=\"0 -960 960 960\">\n",
              "    <path d=\"M120-120v-720h720v720H120Zm60-500h600v-160H180v160Zm220 220h160v-160H400v160Zm0 220h160v-160H400v160ZM180-400h160v-160H180v160Zm440 0h160v-160H620v160ZM180-180h160v-160H180v160Zm440 0h160v-160H620v160Z\"/>\n",
              "  </svg>\n",
              "    </button>\n",
              "\n",
              "  <style>\n",
              "    .colab-df-container {\n",
              "      display:flex;\n",
              "      gap: 12px;\n",
              "    }\n",
              "\n",
              "    .colab-df-convert {\n",
              "      background-color: #E8F0FE;\n",
              "      border: none;\n",
              "      border-radius: 50%;\n",
              "      cursor: pointer;\n",
              "      display: none;\n",
              "      fill: #1967D2;\n",
              "      height: 32px;\n",
              "      padding: 0 0 0 0;\n",
              "      width: 32px;\n",
              "    }\n",
              "\n",
              "    .colab-df-convert:hover {\n",
              "      background-color: #E2EBFA;\n",
              "      box-shadow: 0px 1px 2px rgba(60, 64, 67, 0.3), 0px 1px 3px 1px rgba(60, 64, 67, 0.15);\n",
              "      fill: #174EA6;\n",
              "    }\n",
              "\n",
              "    .colab-df-buttons div {\n",
              "      margin-bottom: 4px;\n",
              "    }\n",
              "\n",
              "    [theme=dark] .colab-df-convert {\n",
              "      background-color: #3B4455;\n",
              "      fill: #D2E3FC;\n",
              "    }\n",
              "\n",
              "    [theme=dark] .colab-df-convert:hover {\n",
              "      background-color: #434B5C;\n",
              "      box-shadow: 0px 1px 3px 1px rgba(0, 0, 0, 0.15);\n",
              "      filter: drop-shadow(0px 1px 2px rgba(0, 0, 0, 0.3));\n",
              "      fill: #FFFFFF;\n",
              "    }\n",
              "  </style>\n",
              "\n",
              "    <script>\n",
              "      const buttonEl =\n",
              "        document.querySelector('#df-9f5101e5-4aa6-4ccc-acae-a1a3ea8b2697 button.colab-df-convert');\n",
              "      buttonEl.style.display =\n",
              "        google.colab.kernel.accessAllowed ? 'block' : 'none';\n",
              "\n",
              "      async function convertToInteractive(key) {\n",
              "        const element = document.querySelector('#df-9f5101e5-4aa6-4ccc-acae-a1a3ea8b2697');\n",
              "        const dataTable =\n",
              "          await google.colab.kernel.invokeFunction('convertToInteractive',\n",
              "                                                    [key], {});\n",
              "        if (!dataTable) return;\n",
              "\n",
              "        const docLinkHtml = 'Like what you see? Visit the ' +\n",
              "          '<a target=\"_blank\" href=https://colab.research.google.com/notebooks/data_table.ipynb>data table notebook</a>'\n",
              "          + ' to learn more about interactive tables.';\n",
              "        element.innerHTML = '';\n",
              "        dataTable['output_type'] = 'display_data';\n",
              "        await google.colab.output.renderOutput(dataTable, element);\n",
              "        const docLink = document.createElement('div');\n",
              "        docLink.innerHTML = docLinkHtml;\n",
              "        element.appendChild(docLink);\n",
              "      }\n",
              "    </script>\n",
              "  </div>\n",
              "\n",
              "\n",
              "<div id=\"df-8aead01c-c8e7-4ec8-b669-1318fff4ab0e\">\n",
              "  <button class=\"colab-df-quickchart\" onclick=\"quickchart('df-8aead01c-c8e7-4ec8-b669-1318fff4ab0e')\"\n",
              "            title=\"Suggest charts.\"\n",
              "            style=\"display:none;\">\n",
              "\n",
              "<svg xmlns=\"http://www.w3.org/2000/svg\" height=\"24px\"viewBox=\"0 0 24 24\"\n",
              "     width=\"24px\">\n",
              "    <g>\n",
              "        <path d=\"M19 3H5c-1.1 0-2 .9-2 2v14c0 1.1.9 2 2 2h14c1.1 0 2-.9 2-2V5c0-1.1-.9-2-2-2zM9 17H7v-7h2v7zm4 0h-2V7h2v10zm4 0h-2v-4h2v4z\"/>\n",
              "    </g>\n",
              "</svg>\n",
              "  </button>\n",
              "\n",
              "<style>\n",
              "  .colab-df-quickchart {\n",
              "      --bg-color: #E8F0FE;\n",
              "      --fill-color: #1967D2;\n",
              "      --hover-bg-color: #E2EBFA;\n",
              "      --hover-fill-color: #174EA6;\n",
              "      --disabled-fill-color: #AAA;\n",
              "      --disabled-bg-color: #DDD;\n",
              "  }\n",
              "\n",
              "  [theme=dark] .colab-df-quickchart {\n",
              "      --bg-color: #3B4455;\n",
              "      --fill-color: #D2E3FC;\n",
              "      --hover-bg-color: #434B5C;\n",
              "      --hover-fill-color: #FFFFFF;\n",
              "      --disabled-bg-color: #3B4455;\n",
              "      --disabled-fill-color: #666;\n",
              "  }\n",
              "\n",
              "  .colab-df-quickchart {\n",
              "    background-color: var(--bg-color);\n",
              "    border: none;\n",
              "    border-radius: 50%;\n",
              "    cursor: pointer;\n",
              "    display: none;\n",
              "    fill: var(--fill-color);\n",
              "    height: 32px;\n",
              "    padding: 0;\n",
              "    width: 32px;\n",
              "  }\n",
              "\n",
              "  .colab-df-quickchart:hover {\n",
              "    background-color: var(--hover-bg-color);\n",
              "    box-shadow: 0 1px 2px rgba(60, 64, 67, 0.3), 0 1px 3px 1px rgba(60, 64, 67, 0.15);\n",
              "    fill: var(--button-hover-fill-color);\n",
              "  }\n",
              "\n",
              "  .colab-df-quickchart-complete:disabled,\n",
              "  .colab-df-quickchart-complete:disabled:hover {\n",
              "    background-color: var(--disabled-bg-color);\n",
              "    fill: var(--disabled-fill-color);\n",
              "    box-shadow: none;\n",
              "  }\n",
              "\n",
              "  .colab-df-spinner {\n",
              "    border: 2px solid var(--fill-color);\n",
              "    border-color: transparent;\n",
              "    border-bottom-color: var(--fill-color);\n",
              "    animation:\n",
              "      spin 1s steps(1) infinite;\n",
              "  }\n",
              "\n",
              "  @keyframes spin {\n",
              "    0% {\n",
              "      border-color: transparent;\n",
              "      border-bottom-color: var(--fill-color);\n",
              "      border-left-color: var(--fill-color);\n",
              "    }\n",
              "    20% {\n",
              "      border-color: transparent;\n",
              "      border-left-color: var(--fill-color);\n",
              "      border-top-color: var(--fill-color);\n",
              "    }\n",
              "    30% {\n",
              "      border-color: transparent;\n",
              "      border-left-color: var(--fill-color);\n",
              "      border-top-color: var(--fill-color);\n",
              "      border-right-color: var(--fill-color);\n",
              "    }\n",
              "    40% {\n",
              "      border-color: transparent;\n",
              "      border-right-color: var(--fill-color);\n",
              "      border-top-color: var(--fill-color);\n",
              "    }\n",
              "    60% {\n",
              "      border-color: transparent;\n",
              "      border-right-color: var(--fill-color);\n",
              "    }\n",
              "    80% {\n",
              "      border-color: transparent;\n",
              "      border-right-color: var(--fill-color);\n",
              "      border-bottom-color: var(--fill-color);\n",
              "    }\n",
              "    90% {\n",
              "      border-color: transparent;\n",
              "      border-bottom-color: var(--fill-color);\n",
              "    }\n",
              "  }\n",
              "</style>\n",
              "\n",
              "  <script>\n",
              "    async function quickchart(key) {\n",
              "      const quickchartButtonEl =\n",
              "        document.querySelector('#' + key + ' button');\n",
              "      quickchartButtonEl.disabled = true;  // To prevent multiple clicks.\n",
              "      quickchartButtonEl.classList.add('colab-df-spinner');\n",
              "      try {\n",
              "        const charts = await google.colab.kernel.invokeFunction(\n",
              "            'suggestCharts', [key], {});\n",
              "      } catch (error) {\n",
              "        console.error('Error during call to suggestCharts:', error);\n",
              "      }\n",
              "      quickchartButtonEl.classList.remove('colab-df-spinner');\n",
              "      quickchartButtonEl.classList.add('colab-df-quickchart-complete');\n",
              "    }\n",
              "    (() => {\n",
              "      let quickchartButtonEl =\n",
              "        document.querySelector('#df-8aead01c-c8e7-4ec8-b669-1318fff4ab0e button');\n",
              "      quickchartButtonEl.style.display =\n",
              "        google.colab.kernel.accessAllowed ? 'block' : 'none';\n",
              "    })();\n",
              "  </script>\n",
              "</div>\n",
              "    </div>\n",
              "  </div>\n"
            ]
          },
          "metadata": {},
          "execution_count": 6
        }
      ]
    },
    {
      "cell_type": "code",
      "source": [
        "salary = data['Median earning']\n",
        "print(f'Максимальный заработок - {max(salary)}')\n",
        "print(f'Минимальный заработок - {salary.min()}')"
      ],
      "metadata": {
        "colab": {
          "base_uri": "https://localhost:8080/"
        },
        "id": "2wqdyxjSHfvU",
        "outputId": "39e57c51-b5db-4425-ac21-685e2e2306cb"
      },
      "execution_count": 7,
      "outputs": [
        {
          "output_type": "stream",
          "name": "stdout",
          "text": [
            "Максимальный заработок - 110000\n",
            "Минимальный заработок - 22000\n"
          ]
        }
      ]
    },
    {
      "cell_type": "code",
      "source": [
        "from matplotlib import pyplot as plt\n",
        "\n",
        "plt.bar(data.index, data['Total'])"
      ],
      "metadata": {
        "colab": {
          "base_uri": "https://localhost:8080/",
          "height": 447
        },
        "id": "NmMJdxRaI_Pd",
        "outputId": "0d2ab1ed-1cfb-4207-fc7d-1151cced6180"
      },
      "execution_count": 8,
      "outputs": [
        {
          "output_type": "execute_result",
          "data": {
            "text/plain": [
              "<BarContainer object of 173 artists>"
            ]
          },
          "metadata": {},
          "execution_count": 8
        },
        {
          "output_type": "display_data",
          "data": {
            "text/plain": [
              "<Figure size 640x480 with 1 Axes>"
            ],
            "image/png": "[encoded data removed]"
          },
          "metadata": {}
        }
      ]
    },
    {
      "cell_type": "code",
      "source": [
        "data_salary = data[['Median earning', 'Major']][0:10]\n",
        "print(data_salary)\n",
        "plt.barh(data_salary['Major'], data_salary['Median earning'])"
      ],
      "metadata": {
        "colab": {
          "base_uri": "https://localhost:8080/",
          "height": 638
        },
        "id": "d5-e-c3nMPlG",
        "outputId": "69326870-7e70-41ac-cf3e-d9c4c5eefc88"
      },
      "execution_count": 9,
      "outputs": [
        {
          "output_type": "stream",
          "name": "stdout",
          "text": [
            "   Median earning                                      Major\n",
            "0          110000                      PETROLEUM ENGINEERING\n",
            "1           75000             MINING AND MINERAL ENGINEERING\n",
            "2           73000                  METALLURGICAL ENGINEERING\n",
            "3           70000  NAVAL ARCHITECTURE AND MARINE ENGINEERING\n",
            "4           65000                       CHEMICAL ENGINEERING\n",
            "5           65000                        NUCLEAR ENGINEERING\n",
            "6           62000                          ACTUARIAL SCIENCE\n",
            "7           62000                 ASTRONOMY AND ASTROPHYSICS\n",
            "8           60000                     MECHANICAL ENGINEERING\n",
            "9           60000                     ELECTRICAL ENGINEERING\n"
          ]
        },
        {
          "output_type": "execute_result",
          "data": {
            "text/plain": [
              "<BarContainer object of 10 artists>"
            ]
          },
          "metadata": {},
          "execution_count": 9
        },
        {
          "output_type": "display_data",
          "data": {
            "text/plain": [
              "<Figure size 640x480 with 1 Axes>"
            ],
            "image/png": "[encoded data removed]"
          },
          "metadata": {}
        }
      ]
    },
    {
      "cell_type": "code",
      "source": [
        "import seaborn as sns\n",
        "sns.boxplot(y=data['Median earning'], width=0.3)"
      ],
      "metadata": {
        "colab": {
          "base_uri": "https://localhost:8080/",
          "height": 428
        },
        "id": "K8GYtPPBP7gP",
        "outputId": "c689b7b1-6870-4816-e995-7354d5a1e8b3"
      },
      "execution_count": 10,
      "outputs": [
        {
          "output_type": "execute_result",
          "data": {
            "text/plain": [
              "<Axes: ylabel='Median earning'>"
            ]
          },
          "metadata": {},
          "execution_count": 10
        },
        {
          "output_type": "display_data",
          "data": {
            "text/plain": [
              "<Figure size 640x480 with 1 Axes>"
            ],
            "image/png": "[encoded data removed]"
          },
          "metadata": {}
        }
      ]
    },
    {
      "cell_type": "code",
      "source": [
        "major_categories = data[['Major_category', 'Employed']]\n",
        "sns.boxplot(x=major_categories['Employed'],\n",
        "            y=major_categories['Major_category'])"
      ],
      "metadata": {
        "colab": {
          "base_uri": "https://localhost:8080/",
          "height": 466
        },
        "id": "Gc1QGGFLSJpi",
        "outputId": "a333a30c-d854-474e-b14f-a328a83fe0cf"
      },
      "execution_count": 11,
      "outputs": [
        {
          "output_type": "execute_result",
          "data": {
            "text/plain": [
              "<Axes: xlabel='Employed', ylabel='Major_category'>"
            ]
          },
          "metadata": {},
          "execution_count": 11
        },
        {
          "output_type": "display_data",
          "data": {
            "text/plain": [
              "<Figure size 640x480 with 1 Axes>"
            ],
            "image/png": "[encoded data removed]"
          },
          "metadata": {}
        }
      ]
    },
    {
      "cell_type": "code",
      "source": [
        "cat = 'Major_category'\n",
        "sns.countplot(y=cat, data=data)"
      ],
      "metadata": {
        "colab": {
          "base_uri": "https://localhost:8080/",
          "height": 466
        },
        "id": "SzNsrN1mMfZx",
        "outputId": "907084cf-8c35-45bd-f387-919c7e8d20d6"
      },
      "execution_count": 24,
      "outputs": [
        {
          "output_type": "execute_result",
          "data": {
            "text/plain": [
              "<Axes: xlabel='count', ylabel='Major_category'>"
            ]
          },
          "metadata": {},
          "execution_count": 24
        },
        {
          "output_type": "display_data",
          "data": {
            "text/plain": [
              "<Figure size 640x480 with 1 Axes>"
            ],
            "image/png": "[encoded data removed]"
          },
          "metadata": {}
        }
      ]
    },
    {
      "cell_type": "code",
      "source": [
        "columns = ['Full_time', 'Part_time']\n",
        "data[columns].hist(figsize=(5,3))"
      ],
      "metadata": {
        "colab": {
          "base_uri": "https://localhost:8080/",
          "height": 349
        },
        "id": "Hs1-TGaQRR_l",
        "outputId": "192c85ea-fdc1-4441-b1d2-418c9dc85f7a"
      },
      "execution_count": 34,
      "outputs": [
        {
          "output_type": "execute_result",
          "data": {
            "text/plain": [
              "array([[<Axes: title={'center': 'Full_time'}>,\n",
              "        <Axes: title={'center': 'Part_time'}>]], dtype=object)"
            ]
          },
          "metadata": {},
          "execution_count": 34
        },
        {
          "output_type": "display_data",
          "data": {
            "text/plain": [
              "<Figure size 500x300 with 2 Axes>"
            ],
            "image/png": "[encoded data removed]"
          },
          "metadata": {}
        }
      ]
    },
    {
      "cell_type": "code",
      "source": [
        "columns = ['Rank', 'Women']\n",
        "sns.pairplot(data[columns])"
      ],
      "metadata": {
        "colab": {
          "base_uri": "https://localhost:8080/",
          "height": 530
        },
        "id": "H4OQST9zUCnW",
        "outputId": "89f37e81-1b45-46ec-adac-299326a5cbc6"
      },
      "execution_count": 39,
      "outputs": [
        {
          "output_type": "execute_result",
          "data": {
            "text/plain": [
              "<seaborn.axisgrid.PairGrid at 0x7c07df31cac0>"
            ]
          },
          "metadata": {},
          "execution_count": 39
        },
        {
          "output_type": "display_data",
          "data": {
            "text/plain": [
              "<Figure size 500x500 with 6 Axes>"
            ],
            "image/png": "[encoded data removed]"
          },
          "metadata": {}
        }
      ]
    },
    {
      "cell_type": "code",
      "source": [
        "data.info()"
      ],
      "metadata": {
        "colab": {
          "base_uri": "https://localhost:8080/"
        },
        "id": "jArf2OsPUY0a",
        "outputId": "f637e1ad-8af9-4f59-93fe-4c8db8b55cbd"
      },
      "execution_count": 38,
      "outputs": [
        {
          "output_type": "stream",
          "name": "stdout",
          "text": [
            "<class 'pandas.core.frame.DataFrame'>\n",
            "RangeIndex: 173 entries, 0 to 172\n",
            "Data columns (total 15 columns):\n",
            " #   Column            Non-Null Count  Dtype  \n",
            "---  ------            --------------  -----  \n",
            " 0   Rank              173 non-null    int64  \n",
            " 1   Major_code        173 non-null    int64  \n",
            " 2   Major             173 non-null    object \n",
            " 3   Total             172 non-null    float64\n",
            " 4   Men               172 non-null    float64\n",
            " 5   Women             172 non-null    float64\n",
            " 6   Major_category    173 non-null    object \n",
            " 7   Employed          173 non-null    int64  \n",
            " 8   Full_time         173 non-null    int64  \n",
            " 9   Part_time         173 non-null    int64  \n",
            " 10  Unemployed        173 non-null    int64  \n",
            " 11  Median earning    173 non-null    int64  \n",
            " 12  College_jobs      173 non-null    int64  \n",
            " 13  Non_college_jobs  173 non-null    int64  \n",
            " 14  Low_wage_jobs     173 non-null    int64  \n",
            "dtypes: float64(3), int64(10), object(2)\n",
            "memory usage: 20.4+ KB\n"
          ]
        }
      ]
    },
    {
      "cell_type": "code",
      "source": [
        "columns = ['Unemployed', 'College_jobs', 'Major_category']\n",
        "sns.pairplot(data[columns], hue='Major_category')"
      ],
      "metadata": {
        "colab": {
          "base_uri": "https://localhost:8080/",
          "height": 530
        },
        "id": "qZgi0t2sWO4z",
        "outputId": "cbb534f8-fccf-4b2a-f367-d6551379f0d7"
      },
      "execution_count": 40,
      "outputs": [
        {
          "output_type": "execute_result",
          "data": {
            "text/plain": [
              "<seaborn.axisgrid.PairGrid at 0x7c07debb9090>"
            ]
          },
          "metadata": {},
          "execution_count": 40
        },
        {
          "output_type": "display_data",
          "data": {
            "text/plain": [
              "<Figure size 800.25x500 with 6 Axes>"
            ],
            "image/png": "[encoded data removed]"
          },
          "metadata": {}
        }
      ]
    },
    {
      "cell_type": "code",
      "source": [
        "x='Rank'\n",
        "y='Men'\n",
        "plt.scatter(data[x], data[y], \\\n",
        "            color='lightblue',\\\n",
        "            edgecolors='blue')\n",
        "plt.xlabel(x)\n",
        "plt.ylabel(y)"
      ],
      "metadata": {
        "colab": {
          "base_uri": "https://localhost:8080/",
          "height": 466
        },
        "id": "jvP6HszCYKK4",
        "outputId": "8ffcaf50-e366-48f8-8cbd-7a2e97b803bf"
      },
      "execution_count": 52,
      "outputs": [
        {
          "output_type": "execute_result",
          "data": {
            "text/plain": [
              "Text(0, 0.5, 'Men')"
            ]
          },
          "metadata": {},
          "execution_count": 52
        },
        {
          "output_type": "display_data",
          "data": {
            "text/plain": [
              "<Figure size 640x480 with 1 Axes>"
            ],
            "image/png": "[encoded data removed]"
          },
          "metadata": {}
        }
      ]
    },
    {
      "cell_type": "code",
      "source": [
        "cols=['Employed','Median earning','Full_time','Rank', 'Men', 'Women']\n",
        "data[cols].corr()"
      ],
      "metadata": {
        "colab": {
          "base_uri": "https://localhost:8080/",
          "height": 237
        },
        "id": "nYz5xU4NcAAd",
        "outputId": "2cfccbef-9ac4-4eaf-8a43-ccb1f4b78d8f"
      },
      "execution_count": 55,
      "outputs": [
        {
          "output_type": "execute_result",
          "data": {
            "text/plain": [
              "                Employed  Median earning  Full_time      Rank       Men  \\\n",
              "Employed        1.000000       -0.107547   0.995838  0.070751  0.870605   \n",
              "Median earning -0.107547        1.000000  -0.082258 -0.873308  0.025991   \n",
              "Full_time       0.995838       -0.082258   1.000000  0.034725  0.893563   \n",
              "Rank            0.070751       -0.873308   0.034725  1.000000 -0.094780   \n",
              "Men             0.870605        0.025991   0.893563 -0.094780  1.000000   \n",
              "Women           0.944037       -0.182842   0.917681  0.174913  0.672759   \n",
              "\n",
              "                   Women  \n",
              "Employed        0.944037  \n",
              "Median earning -0.182842  \n",
              "Full_time       0.917681  \n",
              "Rank            0.174913  \n",
              "Men             0.672759  \n",
              "Women           1.000000  "
            ],
            "text/html": [
              "\n",
              "  <div id=\"df-00a8fb18-7f02-4f39-9ed3-6823aa7af2f5\" class=\"colab-df-container\">\n",
              "    <div>\n",
              "<style scoped>\n",
              "    .dataframe tbody tr th:only-of-type {\n",
              "        vertical-align: middle;\n",
              "    }\n",
              "\n",
              "    .dataframe tbody tr th {\n",
              "        vertical-align: top;\n",
              "    }\n",
              "\n",
              "    .dataframe thead th {\n",
              "        text-align: right;\n",
              "    }\n",
              "</style>\n",
              "<table border=\"1\" class=\"dataframe\">\n",
              "  <thead>\n",
              "    <tr style=\"text-align: right;\">\n",
              "      <th></th>\n",
              "      <th>Employed</th>\n",
              "      <th>Median earning</th>\n",
              "      <th>Full_time</th>\n",
              "      <th>Rank</th>\n",
              "      <th>Men</th>\n",
              "      <th>Women</th>\n",
              "    </tr>\n",
              "  </thead>\n",
              "  <tbody>\n",
              "    <tr>\n",
              "      <th>Employed</th>\n",
              "      <td>1.000000</td>\n",
              "      <td>-0.107547</td>\n",
              "      <td>0.995838</td>\n",
              "      <td>0.070751</td>\n",
              "      <td>0.870605</td>\n",
              "      <td>0.944037</td>\n",
              "    </tr>\n",
              "    <tr>\n",
              "      <th>Median earning</th>\n",
              "      <td>-0.107547</td>\n",
              "      <td>1.000000</td>\n",
              "      <td>-0.082258</td>\n",
              "      <td>-0.873308</td>\n",
              "      <td>0.025991</td>\n",
              "      <td>-0.182842</td>\n",
              "    </tr>\n",
              "    <tr>\n",
              "      <th>Full_time</th>\n",
              "      <td>0.995838</td>\n",
              "      <td>-0.082258</td>\n",
              "      <td>1.000000</td>\n",
              "      <td>0.034725</td>\n",
              "      <td>0.893563</td>\n",
              "      <td>0.917681</td>\n",
              "    </tr>\n",
              "    <tr>\n",
              "      <th>Rank</th>\n",
              "      <td>0.070751</td>\n",
              "      <td>-0.873308</td>\n",
              "      <td>0.034725</td>\n",
              "      <td>1.000000</td>\n",
              "      <td>-0.094780</td>\n",
              "      <td>0.174913</td>\n",
              "    </tr>\n",
              "    <tr>\n",
              "      <th>Men</th>\n",
              "      <td>0.870605</td>\n",
              "      <td>0.025991</td>\n",
              "      <td>0.893563</td>\n",
              "      <td>-0.094780</td>\n",
              "      <td>1.000000</td>\n",
              "      <td>0.672759</td>\n",
              "    </tr>\n",
              "    <tr>\n",
              "      <th>Women</th>\n",
              "      <td>0.944037</td>\n",
              "      <td>-0.182842</td>\n",
              "      <td>0.917681</td>\n",
              "      <td>0.174913</td>\n",
              "      <td>0.672759</td>\n",
              "      <td>1.000000</td>\n",
              "    </tr>\n",
              "  </tbody>\n",
              "</table>\n",
              "</div>\n",
              "    <div class=\"colab-df-buttons\">\n",
              "\n",
              "  <div class=\"colab-df-container\">\n",
              "    <button class=\"colab-df-convert\" onclick=\"convertToInteractive('df-00a8fb18-7f02-4f39-9ed3-6823aa7af2f5')\"\n",
              "            title=\"Convert this dataframe to an interactive table.\"\n",
              "            style=\"display:none;\">\n",
              "\n",
              "  <svg xmlns=\"http://www.w3.org/2000/svg\" height=\"24px\" viewBox=\"0 -960 960 960\">\n",
              "    <path d=\"M120-120v-720h720v720H120Zm60-500h600v-160H180v160Zm220 220h160v-160H400v160Zm0 220h160v-160H400v160ZM180-400h160v-160H180v160Zm440 0h160v-160H620v160ZM180-180h160v-160H180v160Zm440 0h160v-160H620v160Z\"/>\n",
              "  </svg>\n",
              "    </button>\n",
              "\n",
              "  <style>\n",
              "    .colab-df-container {\n",
              "      display:flex;\n",
              "      gap: 12px;\n",
              "    }\n",
              "\n",
              "    .colab-df-convert {\n",
              "      background-color: #E8F0FE;\n",
              "      border: none;\n",
              "      border-radius: 50%;\n",
              "      cursor: pointer;\n",
              "      display: none;\n",
              "      fill: #1967D2;\n",
              "      height: 32px;\n",
              "      padding: 0 0 0 0;\n",
              "      width: 32px;\n",
              "    }\n",
              "\n",
              "    .colab-df-convert:hover {\n",
              "      background-color: #E2EBFA;\n",
              "      box-shadow: 0px 1px 2px rgba(60, 64, 67, 0.3), 0px 1px 3px 1px rgba(60, 64, 67, 0.15);\n",
              "      fill: #174EA6;\n",
              "    }\n",
              "\n",
              "    .colab-df-buttons div {\n",
              "      margin-bottom: 4px;\n",
              "    }\n",
              "\n",
              "    [theme=dark] .colab-df-convert {\n",
              "      background-color: #3B4455;\n",
              "      fill: #D2E3FC;\n",
              "    }\n",
              "\n",
              "    [theme=dark] .colab-df-convert:hover {\n",
              "      background-color: #434B5C;\n",
              "      box-shadow: 0px 1px 3px 1px rgba(0, 0, 0, 0.15);\n",
              "      filter: drop-shadow(0px 1px 2px rgba(0, 0, 0, 0.3));\n",
              "      fill: #FFFFFF;\n",
              "    }\n",
              "  </style>\n",
              "\n",
              "    <script>\n",
              "      const buttonEl =\n",
              "        document.querySelector('#df-00a8fb18-7f02-4f39-9ed3-6823aa7af2f5 button.colab-df-convert');\n",
              "      buttonEl.style.display =\n",
              "        google.colab.kernel.accessAllowed ? 'block' : 'none';\n",
              "\n",
              "      async function convertToInteractive(key) {\n",
              "        const element = document.querySelector('#df-00a8fb18-7f02-4f39-9ed3-6823aa7af2f5');\n",
              "        const dataTable =\n",
              "          await google.colab.kernel.invokeFunction('convertToInteractive',\n",
              "                                                    [key], {});\n",
              "        if (!dataTable) return;\n",
              "\n",
              "        const docLinkHtml = 'Like what you see? Visit the ' +\n",
              "          '<a target=\"_blank\" href=https://colab.research.google.com/notebooks/data_table.ipynb>data table notebook</a>'\n",
              "          + ' to learn more about interactive tables.';\n",
              "        element.innerHTML = '';\n",
              "        dataTable['output_type'] = 'display_data';\n",
              "        await google.colab.output.renderOutput(dataTable, element);\n",
              "        const docLink = document.createElement('div');\n",
              "        docLink.innerHTML = docLinkHtml;\n",
              "        element.appendChild(docLink);\n",
              "      }\n",
              "    </script>\n",
              "  </div>\n",
              "\n",
              "\n",
              "<div id=\"df-49158095-f74a-4857-93b9-4dddd6e3f8f1\">\n",
              "  <button class=\"colab-df-quickchart\" onclick=\"quickchart('df-49158095-f74a-4857-93b9-4dddd6e3f8f1')\"\n",
              "            title=\"Suggest charts.\"\n",
              "            style=\"display:none;\">\n",
              "\n",
              "<svg xmlns=\"http://www.w3.org/2000/svg\" height=\"24px\"viewBox=\"0 0 24 24\"\n",
              "     width=\"24px\">\n",
              "    <g>\n",
              "        <path d=\"M19 3H5c-1.1 0-2 .9-2 2v14c0 1.1.9 2 2 2h14c1.1 0 2-.9 2-2V5c0-1.1-.9-2-2-2zM9 17H7v-7h2v7zm4 0h-2V7h2v10zm4 0h-2v-4h2v4z\"/>\n",
              "    </g>\n",
              "</svg>\n",
              "  </button>\n",
              "\n",
              "<style>\n",
              "  .colab-df-quickchart {\n",
              "      --bg-color: #E8F0FE;\n",
              "      --fill-color: #1967D2;\n",
              "      --hover-bg-color: #E2EBFA;\n",
              "      --hover-fill-color: #174EA6;\n",
              "      --disabled-fill-color: #AAA;\n",
              "      --disabled-bg-color: #DDD;\n",
              "  }\n",
              "\n",
              "  [theme=dark] .colab-df-quickchart {\n",
              "      --bg-color: #3B4455;\n",
              "      --fill-color: #D2E3FC;\n",
              "      --hover-bg-color: #434B5C;\n",
              "      --hover-fill-color: #FFFFFF;\n",
              "      --disabled-bg-color: #3B4455;\n",
              "      --disabled-fill-color: #666;\n",
              "  }\n",
              "\n",
              "  .colab-df-quickchart {\n",
              "    background-color: var(--bg-color);\n",
              "    border: none;\n",
              "    border-radius: 50%;\n",
              "    cursor: pointer;\n",
              "    display: none;\n",
              "    fill: var(--fill-color);\n",
              "    height: 32px;\n",
              "    padding: 0;\n",
              "    width: 32px;\n",
              "  }\n",
              "\n",
              "  .colab-df-quickchart:hover {\n",
              "    background-color: var(--hover-bg-color);\n",
              "    box-shadow: 0 1px 2px rgba(60, 64, 67, 0.3), 0 1px 3px 1px rgba(60, 64, 67, 0.15);\n",
              "    fill: var(--button-hover-fill-color);\n",
              "  }\n",
              "\n",
              "  .colab-df-quickchart-complete:disabled,\n",
              "  .colab-df-quickchart-complete:disabled:hover {\n",
              "    background-color: var(--disabled-bg-color);\n",
              "    fill: var(--disabled-fill-color);\n",
              "    box-shadow: none;\n",
              "  }\n",
              "\n",
              "  .colab-df-spinner {\n",
              "    border: 2px solid var(--fill-color);\n",
              "    border-color: transparent;\n",
              "    border-bottom-color: var(--fill-color);\n",
              "    animation:\n",
              "      spin 1s steps(1) infinite;\n",
              "  }\n",
              "\n",
              "  @keyframes spin {\n",
              "    0% {\n",
              "      border-color: transparent;\n",
              "      border-bottom-color: var(--fill-color);\n",
              "      border-left-color: var(--fill-color);\n",
              "    }\n",
              "    20% {\n",
              "      border-color: transparent;\n",
              "      border-left-color: var(--fill-color);\n",
              "      border-top-color: var(--fill-color);\n",
              "    }\n",
              "    30% {\n",
              "      border-color: transparent;\n",
              "      border-left-color: var(--fill-color);\n",
              "      border-top-color: var(--fill-color);\n",
              "      border-right-color: var(--fill-color);\n",
              "    }\n",
              "    40% {\n",
              "      border-color: transparent;\n",
              "      border-right-color: var(--fill-color);\n",
              "      border-top-color: var(--fill-color);\n",
              "    }\n",
              "    60% {\n",
              "      border-color: transparent;\n",
              "      border-right-color: var(--fill-color);\n",
              "    }\n",
              "    80% {\n",
              "      border-color: transparent;\n",
              "      border-right-color: var(--fill-color);\n",
              "      border-bottom-color: var(--fill-color);\n",
              "    }\n",
              "    90% {\n",
              "      border-color: transparent;\n",
              "      border-bottom-color: var(--fill-color);\n",
              "    }\n",
              "  }\n",
              "</style>\n",
              "\n",
              "  <script>\n",
              "    async function quickchart(key) {\n",
              "      const quickchartButtonEl =\n",
              "        document.querySelector('#' + key + ' button');\n",
              "      quickchartButtonEl.disabled = true;  // To prevent multiple clicks.\n",
              "      quickchartButtonEl.classList.add('colab-df-spinner');\n",
              "      try {\n",
              "        const charts = await google.colab.kernel.invokeFunction(\n",
              "            'suggestCharts', [key], {});\n",
              "      } catch (error) {\n",
              "        console.error('Error during call to suggestCharts:', error);\n",
              "      }\n",
              "      quickchartButtonEl.classList.remove('colab-df-spinner');\n",
              "      quickchartButtonEl.classList.add('colab-df-quickchart-complete');\n",
              "    }\n",
              "    (() => {\n",
              "      let quickchartButtonEl =\n",
              "        document.querySelector('#df-49158095-f74a-4857-93b9-4dddd6e3f8f1 button');\n",
              "      quickchartButtonEl.style.display =\n",
              "        google.colab.kernel.accessAllowed ? 'block' : 'none';\n",
              "    })();\n",
              "  </script>\n",
              "</div>\n",
              "    </div>\n",
              "  </div>\n"
            ]
          },
          "metadata": {},
          "execution_count": 55
        }
      ]
    },
    {
      "cell_type": "code",
      "source": [
        "sns.heatmap( data[cols].corr(), cmap=plt.cm.Blues )"
      ],
      "metadata": {
        "colab": {
          "base_uri": "https://localhost:8080/",
          "height": 546
        },
        "id": "DEz-Y1_ad_wm",
        "outputId": "36a87755-3d4d-41e6-9ffd-12ef50b1d443"
      },
      "execution_count": 57,
      "outputs": [
        {
          "output_type": "execute_result",
          "data": {
            "text/plain": [
              "<Axes: >"
            ]
          },
          "metadata": {},
          "execution_count": 57
        },
        {
          "output_type": "display_data",
          "data": {
            "text/plain": [
              "<Figure size 640x480 with 2 Axes>"
            ],
            "image/png": "[encoded data removed]"
          },
          "metadata": {}
        }
      ]
    }
  ]
}