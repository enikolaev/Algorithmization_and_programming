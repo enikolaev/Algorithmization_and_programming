{
  "nbformat": 4,
  "nbformat_minor": 0,
  "metadata": {
    "colab": {
      "provenance": [],
      "toc_visible": true,
      "authorship_tag": "ABX9TyNoHN4haClUDaWAVP6sQ5/R",
      "include_colab_link": true
    },
    "kernelspec": {
      "name": "python3",
      "display_name": "Python 3"
    },
    "language_info": {
      "name": "python"
    }
  },
  "cells": [
    {
      "cell_type": "markdown",
      "metadata": {
        "id": "view-in-github",
        "colab_type": "text"
      },
      "source": [
        "<a href=\"https://colab.research.google.com/github/enikolaev/Algorithmization_and_programming/blob/main/Lectures.ipynb\" target=\"_parent\"><img src=\"https://colab.research.google.com/assets/colab-badge.svg\" alt=\"Open In Colab\"/></a>"
      ]
    },
    {
      "cell_type": "markdown",
      "source": [
        "# Лекция 2"
      ],
      "metadata": {
        "id": "MqD3cExaKa1z"
      }
    },
    {
      "cell_type": "code",
      "execution_count": null,
      "metadata": {
        "colab": {
          "base_uri": "https://localhost:8080/"
        },
        "id": "NKJB6xRPtuf_",
        "outputId": "4784d90b-e9a7-4cca-82d6-997c535a1318"
      },
      "outputs": [
        {
          "output_type": "stream",
          "name": "stdout",
          "text": [
            "У меня на счете 2.75 рублей.\n",
            "А теперь там 99.95 рублей!\n"
          ]
        }
      ],
      "source": [
        "# Эта программа показывает повторное присвоение значения переменной.\n",
        "# Присвоить значение переменной roubles.\n",
        "roubles = 2.75\n",
        "print('У меня на счете', roubles, 'рублей.')\n",
        "# Повторно присвоить значение переменной roubles,\n",
        "# чтобы она ссылалась на другое значение.\n",
        "roubles = 99.95\n",
        "print('А теперь там', roubles, 'рублей!')"
      ]
    },
    {
      "cell_type": "code",
      "source": [
        "room = 211\n",
        "roubles = 99.999\n",
        "print(room, type(room))\n",
        "print(roubles, type(roubles))"
      ],
      "metadata": {
        "colab": {
          "base_uri": "https://localhost:8080/"
        },
        "id": "kb8AyAt3-yOR",
        "outputId": "e9ee9af0-198a-4c9c-bc28-75c9acdfe339"
      },
      "execution_count": null,
      "outputs": [
        {
          "output_type": "stream",
          "name": "stdout",
          "text": [
            "211 <class 'int'>\n",
            "99.999 <class 'float'>\n"
          ]
        }
      ]
    },
    {
      "cell_type": "code",
      "source": [
        "first_name='Evgeny'\n",
        "last_name=\"Nikolaev\"\n",
        "print(first_name, type(first_name))\n",
        "print(last_name, type(last_name))"
      ],
      "metadata": {
        "colab": {
          "base_uri": "https://localhost:8080/"
        },
        "id": "YxFuKT9BAxv_",
        "outputId": "a35ad13a-3082-4bc0-8bf6-dc271b61b2a2"
      },
      "execution_count": null,
      "outputs": [
        {
          "output_type": "stream",
          "name": "stdout",
          "text": [
            "Evgeny <class 'str'>\n",
            "Nikolaev <class 'str'>\n"
          ]
        }
      ]
    },
    {
      "cell_type": "code",
      "source": [
        "x = 100\n",
        "print(x, type(x))\n",
        "\n",
        "x = 'Николаев Евгений Иванович'\n",
        "print(x, type(x))\n",
        "\n",
        "x = 3.14\n",
        "print(x, type(x))"
      ],
      "metadata": {
        "colab": {
          "base_uri": "https://localhost:8080/"
        },
        "id": "ZzwyoKcnCGxW",
        "outputId": "227f45a4-3bdf-414d-96e0-2f9ac852b051"
      },
      "execution_count": null,
      "outputs": [
        {
          "output_type": "stream",
          "name": "stdout",
          "text": [
            "100 <class 'int'>\n",
            "Николаев Евгений Иванович <class 'str'>\n",
            "3.14 <class 'float'>\n"
          ]
        }
      ]
    },
    {
      "cell_type": "code",
      "source": [
        "name = input('как вас зовут? ')\n",
        "print('Понятно, ', name, '. Я запомню!')"
      ],
      "metadata": {
        "colab": {
          "base_uri": "https://localhost:8080/"
        },
        "id": "ut43-HWDFFcv",
        "outputId": "2d9d9d07-f36f-44cd-9f08-e5a56d9b266e"
      },
      "execution_count": null,
      "outputs": [
        {
          "output_type": "stream",
          "name": "stdout",
          "text": [
            "как вас зовут? John\n",
            "Понятно,  John . Я запомню!\n"
          ]
        }
      ]
    },
    {
      "cell_type": "code",
      "source": [
        "# Зарплата\n",
        "salary = 15000.00\n",
        "# Премия\n",
        "bonus = 13500.80\n",
        "# Ставка налога\n",
        "tax = 13\n",
        "# Сумма налога\n",
        "total_tax = (salary + bonus) * tax / 100\n",
        "# итоговая выплата\n",
        "total_outcome = (salary + bonus) - total_tax\n",
        "print('Выплата на руки', total_outcome)"
      ],
      "metadata": {
        "colab": {
          "base_uri": "https://localhost:8080/"
        },
        "id": "kUv9Y8Mes4VZ",
        "outputId": "9576b7ea-a634-487e-b651-9792f4ec25a1"
      },
      "execution_count": null,
      "outputs": [
        {
          "output_type": "stream",
          "name": "stdout",
          "text": [
            "Выплата на руки 24795.696\n"
          ]
        }
      ]
    },
    {
      "cell_type": "code",
      "source": [
        "salary = 15000.00\n",
        "bonus = 13500.80\n",
        "tax = 13\n",
        "total_tax = (salary + bonus) * tax / 100\n",
        "total_outcome = (salary + bonus) - total_tax\n",
        "total_outcome = round(total_outcome, 2)\n",
        "print('Выплата на руки', total_outcome)"
      ],
      "metadata": {
        "colab": {
          "base_uri": "https://localhost:8080/"
        },
        "id": "W5XK8-WfwOzP",
        "outputId": "a0ea7e47-2897-47a3-9c11-f382e118fd5b"
      },
      "execution_count": null,
      "outputs": [
        {
          "output_type": "stream",
          "name": "stdout",
          "text": [
            "Выплата на руки 24795.7\n"
          ]
        }
      ]
    },
    {
      "cell_type": "code",
      "source": [
        "# Количество отработанных часов\n",
        "hours = 25\n",
        "# Стоимость часа работы\n",
        "tax = 550.37\n",
        "\n",
        "# Итоговый заработок\n",
        "outcome = hours * tax\n",
        "\n",
        "print('Итого к выплате: ', outcome)"
      ],
      "metadata": {
        "colab": {
          "base_uri": "https://localhost:8080/"
        },
        "id": "D5nNJa4X02la",
        "outputId": "97189e1e-ef5b-43e9-aa7b-2ac6a396c472"
      },
      "execution_count": null,
      "outputs": [
        {
          "output_type": "stream",
          "name": "stdout",
          "text": [
            "Итого к выплате:  13759.25\n"
          ]
        }
      ]
    },
    {
      "cell_type": "markdown",
      "source": [
        "# Лекция 3"
      ],
      "metadata": {
        "id": "aSYdHr8CKp8k"
      }
    },
    {
      "cell_type": "code",
      "source": [
        "# Количество отработанных часов\n",
        "hours = 40\n",
        "# Стоимость часа работы\n",
        "tax = 550.37\n",
        "\n",
        "# Итоговый заработок\n",
        "outcome = hours * tax\n",
        "if hours >= 40:\n",
        "  outcome = outcome + 0.1 * outcome\n",
        "\n",
        "outcome = round(outcome, 2)\n",
        "print('Итого к выплате: ', outcome)"
      ],
      "metadata": {
        "colab": {
          "base_uri": "https://localhost:8080/"
        },
        "id": "h_strL1B2LXt",
        "outputId": "cbc6fd44-f818-428d-ad3a-20feedc65ec7"
      },
      "execution_count": null,
      "outputs": [
        {
          "output_type": "stream",
          "name": "stdout",
          "text": [
            "Итого к выплате:  24216.28\n"
          ]
        }
      ]
    },
    {
      "cell_type": "code",
      "source": [
        "# Количество отработанных часов\n",
        "hours = 40\n",
        "# Стоимость часа работы\n",
        "tax = 550.37\n",
        "\n",
        "# Итоговый заработок\n",
        "outcome = hours * tax\n",
        "if hours >= 40:\n",
        "  outcome = outcome + 0.1 * outcome\n",
        "  print('Премия начислена!!!')\n",
        "  print('Премия в размере 10%')\n",
        "\n",
        "outcome = round(outcome, 2)\n",
        "print('Итого к выплате: ', outcome)"
      ],
      "metadata": {
        "colab": {
          "base_uri": "https://localhost:8080/"
        },
        "id": "bp_wjj4uff0X",
        "outputId": "d6c0ce75-b9d2-40a2-de29-1c11e5bc4e41"
      },
      "execution_count": null,
      "outputs": [
        {
          "output_type": "stream",
          "name": "stdout",
          "text": [
            "Премия начислена!!!\n",
            "Премия в размере 10%\n",
            "Итого к выплате:  24216.28\n"
          ]
        }
      ]
    },
    {
      "cell_type": "code",
      "source": [
        "# Количество отработанных часов\n",
        "hours = 38\n",
        "# Стоимость часа работы\n",
        "tax = 550.37\n",
        "\n",
        "outcome = hours * tax\n",
        "if hours >= 40:\n",
        "  outcome = outcome + 0.2 * outcome\n",
        "  print('Премия начислена!!! Размер премии 20%')\n",
        "else:\n",
        "  outcome = outcome - 1000\n",
        "  print('Удержано 1000 рублей')\n",
        "\n",
        "outcome = round(outcome, 2)\n",
        "print('Итого к выплате: ', outcome)"
      ],
      "metadata": {
        "colab": {
          "base_uri": "https://localhost:8080/"
        },
        "id": "nG_3mrnAlKNs",
        "outputId": "01f1640d-ffd9-48de-f35d-553949222c69"
      },
      "execution_count": null,
      "outputs": [
        {
          "output_type": "stream",
          "name": "stdout",
          "text": [
            "Удержано 1000 рублей\n",
            "Итого к выплате:  19914.06\n"
          ]
        }
      ]
    },
    {
      "cell_type": "code",
      "source": [
        "# Количество отработанных часов\n",
        "hours = 32\n",
        "# Стоимость часа работы\n",
        "tax = 400\n",
        "\n",
        "outcome = hours * tax\n",
        "if hours >= 0 and hours < 9:\n",
        "  outcome = outcome - 0.2 * outcome\n",
        "  print('Начислен штраф в размере 10%')\n",
        "else:\n",
        "  if hours >= 10 and hours < 19:\n",
        "    print('Нет ни премий, ни удержаний')\n",
        "  else:\n",
        "    if hours >= 20 and hours < 29:\n",
        "      outcome = outcome + 0.1 * outcome\n",
        "      print('Начислена премия в размере 10%')\n",
        "    else:\n",
        "      if hours >= 30 and hours < 39:\n",
        "        outcome = outcome + 0.2 * outcome\n",
        "        print('Начислена премия в размере 20%')\n",
        "      else:\n",
        "        if hours >= 40:\n",
        "          outcome = outcome + 0.3 * outcome\n",
        "          print('Начислена премия в размере 30%')\n",
        "outcome = round(outcome, 2)\n",
        "print('Итого к выплате: ', outcome)"
      ],
      "metadata": {
        "colab": {
          "base_uri": "https://localhost:8080/"
        },
        "id": "yWEeTey6lvaG",
        "outputId": "db5632b7-f1bd-4aa0-f92c-c422f0330dec"
      },
      "execution_count": null,
      "outputs": [
        {
          "output_type": "stream",
          "name": "stdout",
          "text": [
            "Начислена премия в размере 20%\n",
            "Итого к выплате:  15360.0\n"
          ]
        }
      ]
    },
    {
      "cell_type": "code",
      "source": [
        "# Количество отработанных часов\n",
        "hours = 32\n",
        "# Стоимость часа работы\n",
        "tax = 400\n",
        "outcome = hours * tax\n",
        "if hours >= 0 and hours < 9:\n",
        "  outcome = outcome - 0.2 * outcome\n",
        "  print('Начислен штраф в размере 10%')\n",
        "elif hours < 19:\n",
        "  print('Нет ни премий, ни удержаний')\n",
        "elif hours < 29:\n",
        "  outcome = outcome + 0.1 * outcome\n",
        "  print('Начислена премия в размере 10%')\n",
        "elif hours < 39:\n",
        "  outcome = outcome + 0.2 * outcome\n",
        "  print('Начислена премия в размере 20%')\n",
        "else:\n",
        "  outcome = outcome + 0.3 * outcome\n",
        "  print('Начислена премия в размере 30%')\n",
        "outcome = round(outcome, 2)\n",
        "print('Итого к выплате: ', outcome)"
      ],
      "metadata": {
        "colab": {
          "base_uri": "https://localhost:8080/"
        },
        "id": "ey32U_myqcO0",
        "outputId": "8cdb2c05-aecc-43f2-cd21-be1fb1616470"
      },
      "execution_count": null,
      "outputs": [
        {
          "output_type": "stream",
          "name": "stdout",
          "text": [
            "Начислена премия в размере 20%\n",
            "Итого к выплате:  15360.0\n"
          ]
        }
      ]
    },
    {
      "cell_type": "code",
      "source": [
        "h = float(input('высота бака, см > '))\n",
        "r = float(input('радиус основания бака, см > '))\n",
        "v = 3.14 * (r**2) * h\n",
        "print('Объекм бака', v, 'куб. см')\n",
        "print('*' * 50)\n",
        "\n",
        "h = float(input('высота бака, см > '))\n",
        "r = float(input('радиус основания бака, см > '))\n",
        "v = 3.14 * (r**2) * h\n",
        "print('Объекм бака', v, 'куб. см')\n",
        "print('*' * 50)\n",
        "\n",
        "h = float(input('высота бака, см > '))\n",
        "r = float(input('радиус основания бака, см > '))\n",
        "v = 3.14 * (r**2) * h\n",
        "print('Объекм бака', v, 'куб. см')\n",
        "print('*' * 50)"
      ],
      "metadata": {
        "colab": {
          "base_uri": "https://localhost:8080/"
        },
        "id": "F-5BWxSt4PrR",
        "outputId": "018c6c76-e7fc-4cef-8f8d-77ba0467fa8e"
      },
      "execution_count": null,
      "outputs": [
        {
          "output_type": "stream",
          "name": "stdout",
          "text": [
            "высота бака, см > 1\n",
            "радиус основания бака, см > 2\n",
            "Объекм бака 12.56 куб. см\n",
            "**************************************************\n",
            "высота бака, см > 3\n",
            "радиус основания бака, см > 4\n",
            "Объекм бака 150.72 куб. см\n",
            "**************************************************\n",
            "высота бака, см > 4\n",
            "радиус основания бака, см > 9\n",
            "Объекм бака 1017.36 куб. см\n",
            "**************************************************\n"
          ]
        }
      ]
    },
    {
      "cell_type": "code",
      "source": [
        "keep_going = 'Y'\n",
        "while keep_going == 'Y' or keep_going == 'y':\n",
        "  h = float(input('высота бака, см > '))\n",
        "  r = float(input('радиус основания бака, см > '))\n",
        "  v = 3.14 * (r**2) * h\n",
        "  print('Объекм бака', v, 'куб. см')\n",
        "  print('*' * 50)\n",
        "  keep_going = input('Вычислим еще один? (Y или y - продолжим) > ')"
      ],
      "metadata": {
        "colab": {
          "base_uri": "https://localhost:8080/"
        },
        "id": "n-T27mCN8445",
        "outputId": "65af6707-4c62-4875-8cd9-6b1d697aeced"
      },
      "execution_count": null,
      "outputs": [
        {
          "name": "stdout",
          "output_type": "stream",
          "text": [
            "высота бака, см > 1\n",
            "радиус основания бака, см > 2\n",
            "Объекм бака 12.56 куб. см\n",
            "**************************************************\n",
            "Вычислим еще один? (Y или y - продолжим) > y\n",
            "высота бака, см > 5\n",
            "радиус основания бака, см > 6\n",
            "Объекм бака 565.2 куб. см\n",
            "**************************************************\n",
            "Вычислим еще один? (Y или y - продолжим) > Y\n",
            "высота бака, см > 5\n",
            "радиус основания бака, см > 5\n",
            "Объекм бака 392.5 куб. см\n",
            "**************************************************\n",
            "Вычислим еще один? (Y или y - продолжим) > y\n",
            "высота бака, см > 7\n",
            "радиус основания бака, см > 7\n",
            "Объекм бака 1077.02 куб. см\n",
            "**************************************************\n",
            "Вычислим еще один? (Y или y - продолжим) > n\n"
          ]
        }
      ]
    },
    {
      "cell_type": "code",
      "source": [
        "for x in [1,3,4,5,6,78]:\n",
        "  print('*' * 20)\n",
        "  print(x, '\\t', x*x)"
      ],
      "metadata": {
        "colab": {
          "base_uri": "https://localhost:8080/"
        },
        "id": "roMMmc4dBAj1",
        "outputId": "9b1a792f-528e-4196-b360-8a7f5526ad89"
      },
      "execution_count": null,
      "outputs": [
        {
          "output_type": "stream",
          "name": "stdout",
          "text": [
            "********************\n",
            "1 \t 1\n",
            "********************\n",
            "3 \t 9\n",
            "********************\n",
            "4 \t 16\n",
            "********************\n",
            "5 \t 25\n",
            "********************\n",
            "6 \t 36\n",
            "********************\n",
            "78 \t 6084\n"
          ]
        }
      ]
    },
    {
      "cell_type": "code",
      "source": [
        "for x in [2,'abc', True, 4.55, 5, 'Hello']:\n",
        "  print('*' * 20)\n",
        "  if type(x)==int or type(x)==float:\n",
        "    print(x, '\\t', x*x)\n",
        "  else:\n",
        "    print(x)"
      ],
      "metadata": {
        "colab": {
          "base_uri": "https://localhost:8080/"
        },
        "id": "PsoYndiPBfkn",
        "outputId": "b0e060d1-f8a8-4641-99d3-7d46110cd5cc"
      },
      "execution_count": null,
      "outputs": [
        {
          "output_type": "stream",
          "name": "stdout",
          "text": [
            "********************\n",
            "2 \t 4\n",
            "********************\n",
            "abc\n",
            "********************\n",
            "True\n",
            "********************\n",
            "4.55 \t 20.702499999999997\n",
            "********************\n",
            "5 \t 25\n",
            "********************\n",
            "Hello\n"
          ]
        }
      ]
    },
    {
      "cell_type": "code",
      "source": [
        "for e in range(20):\n",
        "  print(e, end = ', ')"
      ],
      "metadata": {
        "colab": {
          "base_uri": "https://localhost:8080/"
        },
        "id": "Lood1-QPFHyK",
        "outputId": "1b3dd970-d071-434d-cb75-3e7a1c075453"
      },
      "execution_count": null,
      "outputs": [
        {
          "output_type": "stream",
          "name": "stdout",
          "text": [
            "0, 1, 2, 3, 4, 5, 6, 7, 8, 9, 10, 11, 12, 13, 14, 15, 16, 17, 18, 19, "
          ]
        }
      ]
    },
    {
      "cell_type": "code",
      "source": [
        "for e in range(14, 20):\n",
        "  print(e, end = ', ')"
      ],
      "metadata": {
        "colab": {
          "base_uri": "https://localhost:8080/"
        },
        "id": "OWKaaYOlGOAd",
        "outputId": "f9802e50-25dd-4fa4-87a7-73eea53b4c72"
      },
      "execution_count": null,
      "outputs": [
        {
          "output_type": "stream",
          "name": "stdout",
          "text": [
            "14, 15, 16, 17, 18, 19, "
          ]
        }
      ]
    },
    {
      "cell_type": "code",
      "source": [
        "for e in range(10, 100, 20):\n",
        "  print(e, end = ', ')"
      ],
      "metadata": {
        "colab": {
          "base_uri": "https://localhost:8080/"
        },
        "id": "QFGYb3N9GquF",
        "outputId": "da7b2a1e-1637-4389-b991-8173c2298dbf"
      },
      "execution_count": null,
      "outputs": [
        {
          "output_type": "stream",
          "name": "stdout",
          "text": [
            "10, 30, 50, 70, 90, "
          ]
        }
      ]
    },
    {
      "cell_type": "code",
      "source": [
        "total = 0\n",
        "print('Месяц \\t Продажи \\t Накопительный итог')\n",
        "print('-'*50)\n",
        "for i in range(12):\n",
        "  month_number = i+1 # Вычисляем номер месяца\n",
        "  money = month_number * 1000 / (month_number + 1)\n",
        "  total = total + money\n",
        "  print(month_number, ' \\t', round(money, 2), ' \\t', round(total, 2))"
      ],
      "metadata": {
        "colab": {
          "base_uri": "https://localhost:8080/"
        },
        "id": "wxTidMN3JvSN",
        "outputId": "e839ac24-03ed-4128-dd70-4a42a43f0abb"
      },
      "execution_count": null,
      "outputs": [
        {
          "output_type": "stream",
          "name": "stdout",
          "text": [
            "Месяц \t Продажи \t Накопительный итог\n",
            "--------------------------------------------------\n",
            "1  \t 500.0  \t 500.0\n",
            "2  \t 666.67  \t 1166.67\n",
            "3  \t 750.0  \t 1916.67\n",
            "4  \t 800.0  \t 2716.67\n",
            "5  \t 833.33  \t 3550.0\n",
            "6  \t 857.14  \t 4407.14\n",
            "7  \t 875.0  \t 5282.14\n",
            "8  \t 888.89  \t 6171.03\n",
            "9  \t 900.0  \t 7071.03\n",
            "10  \t 909.09  \t 7980.12\n",
            "11  \t 916.67  \t 8896.79\n",
            "12  \t 923.08  \t 9819.87\n"
          ]
        }
      ]
    },
    {
      "cell_type": "code",
      "source": [
        "N = int(input('Введите целое число N > '))\n",
        "N_fact = 1\n",
        "while N>0:\n",
        "  N_fact = N_fact * N\n",
        "  N = N - 1\n",
        "\n",
        "print('N! = ', N_fact)"
      ],
      "metadata": {
        "colab": {
          "base_uri": "https://localhost:8080/"
        },
        "id": "EockaKipNYoG",
        "outputId": "69e14ca8-ad71-4189-e7e6-2977aba76238"
      },
      "execution_count": null,
      "outputs": [
        {
          "output_type": "stream",
          "name": "stdout",
          "text": [
            "Введите целое число N > 25\n",
            "N! =  15511210043330985984000000\n"
          ]
        }
      ]
    },
    {
      "cell_type": "markdown",
      "source": [
        "# Лекция 4"
      ],
      "metadata": {
        "id": "ah-pO_6vLEeT"
      }
    },
    {
      "cell_type": "code",
      "source": [
        "def error_message():\n",
        "  print('*'*25)\n",
        "  print('*   Произошла ошибка!   *')\n",
        "  print('*'*25)"
      ],
      "metadata": {
        "id": "wSMpHx7RVxea"
      },
      "execution_count": null,
      "outputs": []
    },
    {
      "cell_type": "code",
      "source": [
        "error_message()"
      ],
      "metadata": {
        "colab": {
          "base_uri": "https://localhost:8080/"
        },
        "id": "yZ8JRRlTWMvY",
        "outputId": "e318cb22-d5ac-46a0-b3d0-92644f7b2e28"
      },
      "execution_count": null,
      "outputs": [
        {
          "output_type": "stream",
          "name": "stdout",
          "text": [
            "*************************\n",
            "*   Произошла ошибка!   *\n",
            "*************************\n"
          ]
        }
      ]
    },
    {
      "cell_type": "code",
      "source": [
        "def main():\n",
        "  for _ in range(3):\n",
        "    error_message()"
      ],
      "metadata": {
        "id": "mR0heFZfYHMe"
      },
      "execution_count": null,
      "outputs": []
    },
    {
      "cell_type": "code",
      "source": [
        "main()"
      ],
      "metadata": {
        "colab": {
          "base_uri": "https://localhost:8080/"
        },
        "id": "B3d3QU-UYdlq",
        "outputId": "35d974e2-fe9c-46a7-cc48-235a401942ab"
      },
      "execution_count": null,
      "outputs": [
        {
          "output_type": "stream",
          "name": "stdout",
          "text": [
            "*************************\n",
            "*   Произошла ошибка!   *\n",
            "*************************\n",
            "*************************\n",
            "*   Произошла ошибка!   *\n",
            "*************************\n",
            "*************************\n",
            "*   Произошла ошибка!   *\n",
            "*************************\n"
          ]
        }
      ]
    },
    {
      "cell_type": "code",
      "source": [
        "def print_my_function(x):\n",
        "  print('*'*50)\n",
        "  print('Значение x =', x)\n",
        "  print('Квадрат x^2 =', x**2)\n",
        "  print('Куб x^3 =', x**3)\n",
        "  print('Произвольная x^4 + 3*x^2 + 7 =', x**4 + 3*x**2 + 7)"
      ],
      "metadata": {
        "id": "6vD1hql0cE90"
      },
      "execution_count": null,
      "outputs": []
    },
    {
      "cell_type": "code",
      "source": [
        "print_my_function(4)\n",
        "print_my_function(14.6)\n",
        "print_my_function(77)"
      ],
      "metadata": {
        "colab": {
          "base_uri": "https://localhost:8080/"
        },
        "id": "fP7L5qXwcn_b",
        "outputId": "6e441fef-b9d2-4140-843a-8ee494d4b69f"
      },
      "execution_count": null,
      "outputs": [
        {
          "output_type": "stream",
          "name": "stdout",
          "text": [
            "**************************************************\n",
            "Значение x = 4\n",
            "Квадрат x^2 = 16\n",
            "Куб x^3 = 64\n",
            "Произвольная x^4 + 3*x^2 + 7 = 311\n",
            "**************************************************\n",
            "Значение x = 14.6\n",
            "Квадрат x^2 = 213.16\n",
            "Куб x^3 = 3112.136\n",
            "Произвольная x^4 + 3*x^2 + 7 = 46083.6656\n",
            "**************************************************\n",
            "Значение x = 77\n",
            "Квадрат x^2 = 5929\n",
            "Куб x^3 = 456533\n",
            "Произвольная x^4 + 3*x^2 + 7 = 35170835\n"
          ]
        }
      ]
    },
    {
      "cell_type": "code",
      "source": [
        "def foo(x, y, z):\n",
        "  length = x**2 + y**2 + z**2\n",
        "  print(length)\n",
        "\n",
        "foo(1, 2, 3)"
      ],
      "metadata": {
        "colab": {
          "base_uri": "https://localhost:8080/"
        },
        "id": "2imWvwwmeWyt",
        "outputId": "1802c690-2418-49cb-8a75-3fc78c7f8057"
      },
      "execution_count": null,
      "outputs": [
        {
          "output_type": "stream",
          "name": "stdout",
          "text": [
            "14\n"
          ]
        }
      ]
    },
    {
      "cell_type": "code",
      "source": [
        "# Функция с возвратом значения\n",
        "def f(x):\n",
        "  return x*x\n",
        "\n",
        "# Функция без возврата значения\n",
        "def g(x):\n",
        "  print('We are in g(). x^3 =', x*x*x)\n",
        "\n",
        "f(3)\n",
        "g(4)\n",
        "\n",
        "print(f(12))\n",
        "print(g(21))"
      ],
      "metadata": {
        "colab": {
          "base_uri": "https://localhost:8080/"
        },
        "id": "tIcQQnmOgUaG",
        "outputId": "99e26bff-3e31-44c7-f666-9f2dfc79d5a1"
      },
      "execution_count": null,
      "outputs": [
        {
          "output_type": "stream",
          "name": "stdout",
          "text": [
            "We are in g(). x^3 = 64\n",
            "144\n",
            "We are in g(). x^3 = 9261\n",
            "None\n"
          ]
        }
      ]
    },
    {
      "cell_type": "code",
      "source": [
        "import math, random\n",
        "\n",
        "# генерируем 10 случайных чисел\n",
        "# и вычисляем синус от этих значений\n",
        "for _ in range(10):\n",
        "  x = random.randint(100, 1000)\n",
        "  y = math.sin(x)\n",
        "  print('x =', x,  '\\t y =', y)"
      ],
      "metadata": {
        "colab": {
          "base_uri": "https://localhost:8080/"
        },
        "id": "-ZOMoFrDli7Q",
        "outputId": "be400eae-7b1f-4049-fa4a-2a36b93e36a8"
      },
      "execution_count": null,
      "outputs": [
        {
          "output_type": "stream",
          "name": "stdout",
          "text": [
            "x = 295 \t y = -0.30478191109030295\n",
            "x = 937 \t y = 0.7211003682427743\n",
            "x = 278 \t y = 0.99952109184891\n",
            "x = 121 \t y = 0.9988152247235795\n",
            "x = 697 \t y = -0.42011232727019937\n",
            "x = 437 \t y = -0.31325740971087507\n",
            "x = 190 \t y = 0.9977992786806003\n",
            "x = 802 \t y = -0.7795038357248097\n",
            "x = 257 \t y = -0.5733571748155426\n",
            "x = 524 \t y = 0.6019757972528995\n"
          ]
        }
      ]
    },
    {
      "cell_type": "code",
      "source": [
        "from math import sin\n",
        "from random import randint\n",
        "\n",
        "# генерируем 10 случайных чисел\n",
        "# и вычисляем синус от этих значений\n",
        "for _ in range(10):\n",
        "  x = randint(100, 1000)\n",
        "  y = sin(x)\n",
        "  print('x =', x,  '\\t y =', y)"
      ],
      "metadata": {
        "colab": {
          "base_uri": "https://localhost:8080/"
        },
        "id": "aDDYExcZpJcS",
        "outputId": "859fb671-4a15-40f5-e07e-ad744324559e"
      },
      "execution_count": null,
      "outputs": [
        {
          "output_type": "stream",
          "name": "stdout",
          "text": [
            "x = 142 \t y = -0.5877950071674065\n",
            "x = 654 \t y = 0.5216024406758817\n",
            "x = 714 \t y = -0.7568419012610816\n",
            "x = 619 \t y = -0.10604746068673451\n",
            "x = 507 \t y = -0.9333313464826719\n",
            "x = 311 \t y = 0.01767178546737087\n",
            "x = 773 \t y = 0.16741513842849595\n",
            "x = 914 \t y = 0.20206131455610385\n",
            "x = 285 \t y = 0.7738715902084317\n",
            "x = 306 \t y = -0.9537617134939987\n"
          ]
        }
      ]
    },
    {
      "cell_type": "code",
      "source": [
        "def recursive_sum(n):\n",
        "  if n<2:\n",
        "    return 1\n",
        "  else:\n",
        "      return n + recursive_sum(n-1)"
      ],
      "metadata": {
        "id": "ez30w_P5s9gb"
      },
      "execution_count": null,
      "outputs": []
    },
    {
      "cell_type": "code",
      "source": [
        "print(recursive_sum(20))"
      ],
      "metadata": {
        "colab": {
          "base_uri": "https://localhost:8080/"
        },
        "id": "QC5i4ZzptOlA",
        "outputId": "07d42957-1e0a-4592-e7b0-635a42a5025b"
      },
      "execution_count": null,
      "outputs": [
        {
          "output_type": "stream",
          "name": "stdout",
          "text": [
            "210\n"
          ]
        }
      ]
    },
    {
      "cell_type": "code",
      "source": [
        "from math import pi"
      ],
      "metadata": {
        "id": "AOA9AO8koFQp"
      },
      "execution_count": null,
      "outputs": []
    },
    {
      "cell_type": "code",
      "source": [
        "def s_rectangle(a, b):\n",
        "  return a*b"
      ],
      "metadata": {
        "id": "rEvm4S0Ontgl"
      },
      "execution_count": null,
      "outputs": []
    },
    {
      "cell_type": "code",
      "source": [
        "def s_circle(r):\n",
        "  return pi*r*r"
      ],
      "metadata": {
        "id": "mgwuD_kSn0YR"
      },
      "execution_count": null,
      "outputs": []
    },
    {
      "cell_type": "code",
      "source": [
        "def s_triangle(a):\n",
        "  return a*a*3**0.5 / 4"
      ],
      "metadata": {
        "id": "4xBiBVtXoVHg"
      },
      "execution_count": null,
      "outputs": []
    },
    {
      "cell_type": "code",
      "source": [
        "def v_ball(r):\n",
        "  return 4*r**3 / 3"
      ],
      "metadata": {
        "id": "Gv2WuTeHoc-j"
      },
      "execution_count": null,
      "outputs": []
    },
    {
      "cell_type": "code",
      "source": [
        "def v_cube(a):\n",
        "  return a**3"
      ],
      "metadata": {
        "id": "vgvieyx1okq7"
      },
      "execution_count": null,
      "outputs": []
    },
    {
      "cell_type": "code",
      "source": [
        "def question():\n",
        "  print('*'*20)\n",
        "  print('1 - Вычисление площади прямоугольника')\n",
        "  print('2 - Вычисление площади круга')\n",
        "  print('3 - Вычисление площади правильного треугольника')\n",
        "  print('4 - Вычисление объема шара')\n",
        "  print('5 - Вычисление объема куба')\n",
        "  answer = input('Выберите команду > ')\n",
        "  return answer"
      ],
      "metadata": {
        "id": "Mj54Ocw4op7K"
      },
      "execution_count": null,
      "outputs": []
    },
    {
      "cell_type": "code",
      "source": [
        "while True:\n",
        "  choice = question()\n",
        "  if choice=='1':\n",
        "    a, b = int(input('Введите a > ')), int(input('Введите b > '))\n",
        "    print('Площадь прямоугльника: ', s_rectangle(a, b))\n",
        "  elif choice=='2':\n",
        "    r = int(input('Введите r > '))\n",
        "    print('Площадь прямоугльника: ', s_circle(r))\n",
        "  elif choice=='3':\n",
        "    a = int(input('Введите сторону a > '))\n",
        "    print('Площадь прямоугльника: ', s_triangle(a))\n",
        "  elif choice=='4':\n",
        "    r = int(input('Введите r > '))\n",
        "    print('Объем шара: ', v_ball(r))\n",
        "  elif choice=='5':\n",
        "    a = int(input('Введите a > '))\n",
        "    print('Объем куба: ', v_cube(a))\n",
        "  else:\n",
        "    print('Программа завершена!')\n",
        "    break"
      ],
      "metadata": {
        "colab": {
          "base_uri": "https://localhost:8080/"
        },
        "id": "spG9gUMLpS6u",
        "outputId": "6d3b8386-b8b9-4790-de67-11ff086d8b7c"
      },
      "execution_count": null,
      "outputs": [
        {
          "output_type": "stream",
          "name": "stdout",
          "text": [
            "********************\n",
            "1 - Вычисление площади прямоугольника\n",
            "2 - Вычисление площади круга\n",
            "3 - Вычисление площади правильного треугольника\n",
            "4 - Вычисление объема шара\n",
            "5 - Вычисление объема куба\n",
            "Выберите команду > 2\n",
            "Введите r > 4\n",
            "Площадь прямоугльника:  50.26548245743669\n",
            "********************\n",
            "1 - Вычисление площади прямоугольника\n",
            "2 - Вычисление площади круга\n",
            "3 - Вычисление площади правильного треугольника\n",
            "4 - Вычисление объема шара\n",
            "5 - Вычисление объема куба\n",
            "Выберите команду > 1\n",
            "Введите a > 6\n",
            "Введите b > 7\n",
            "Площадь прямоугльника:  42\n",
            "********************\n",
            "1 - Вычисление площади прямоугольника\n",
            "2 - Вычисление площади круга\n",
            "3 - Вычисление площади правильного треугольника\n",
            "4 - Вычисление объема шара\n",
            "5 - Вычисление объема куба\n",
            "Выберите команду > 0\n",
            "Программа завершена!\n"
          ]
        }
      ]
    },
    {
      "cell_type": "markdown",
      "source": [
        "# Лекция 5"
      ],
      "metadata": {
        "id": "oElIhL23LbRx"
      }
    },
    {
      "cell_type": "code",
      "source": [
        "f = open('custumers.txt', 'w')\n",
        "f.write('Иванов П.А.\\n')\n",
        "f.write('Мирнов В.Г.\\n')\n",
        "f.write('Седов Е.В.\\n')\n",
        "f.close()"
      ],
      "metadata": {
        "id": "1vkIL_9mt19o"
      },
      "execution_count": null,
      "outputs": []
    },
    {
      "cell_type": "code",
      "source": [
        "f=open('custumers.txt')\n",
        "data = f.read()\n",
        "f.close()\n",
        "\n",
        "print(data)"
      ],
      "metadata": {
        "colab": {
          "base_uri": "https://localhost:8080/"
        },
        "id": "ZvUMRNG68t56",
        "outputId": "132fa809-9949-4bce-d76b-bfefbbfda6c1"
      },
      "execution_count": null,
      "outputs": [
        {
          "output_type": "stream",
          "name": "stdout",
          "text": [
            "Иванов П.А.\n",
            "Мирнов В.Г.\n",
            "Седов Е.В.\n",
            "\n"
          ]
        }
      ]
    },
    {
      "cell_type": "code",
      "source": [
        "f=open('money.txt')\n",
        "data1 = float( f.readline() )\n",
        "data2 = float( f.readline() )\n",
        "data3 = float( f.readline() )\n",
        "f.close()\n",
        "total = data1 + data2 + data3\n",
        "total = round(total, 2)\n",
        "print(total)"
      ],
      "metadata": {
        "colab": {
          "base_uri": "https://localhost:8080/"
        },
        "id": "tWghBTW1At4E",
        "outputId": "b195460c-6d32-4c59-a782-e9e2434e478e"
      },
      "execution_count": null,
      "outputs": [
        {
          "output_type": "stream",
          "name": "stdout",
          "text": [
            "12721.32\n"
          ]
        }
      ]
    },
    {
      "cell_type": "code",
      "source": [
        "from random import random, seed\n",
        "seed(10)\n",
        "f = open('money.txt', 'w')\n",
        "for _ in range(1000):\n",
        "  money = round( random() * 10000, 2 )\n",
        "  f.write(str(money) + '\\n')\n",
        "f.close()\n",
        "print('Task completed!')"
      ],
      "metadata": {
        "colab": {
          "base_uri": "https://localhost:8080/"
        },
        "id": "G-koaIWVZeuh",
        "outputId": "4760acb9-79ea-40cc-ad45-e121233d961e"
      },
      "execution_count": null,
      "outputs": [
        {
          "output_type": "stream",
          "name": "stdout",
          "text": [
            "Task completed!\n"
          ]
        }
      ]
    },
    {
      "cell_type": "code",
      "source": [
        "f=open('money.txt')\n",
        "min_value = 10**6\n",
        "count = 0\n",
        "sum_value = 0\n",
        "# Обходим файл построчно\n",
        "for line in f:\n",
        "  money = float(line)\n",
        "  sum_value += money\n",
        "  count += 1\n",
        "  min_value = min(min_value, money)\n",
        "f.close()\n",
        "print(f'Минимум = {min_value}, Среднее = {sum_value/count}')\n"
      ],
      "metadata": {
        "colab": {
          "base_uri": "https://localhost:8080/"
        },
        "id": "udQH8dsCbP5h",
        "outputId": "565c84e3-216f-42a6-bfc6-1da55c765c96"
      },
      "execution_count": null,
      "outputs": [
        {
          "output_type": "stream",
          "name": "stdout",
          "text": [
            "Минимум = 5.57, Среднее = 5033.190079999994\n"
          ]
        }
      ]
    },
    {
      "cell_type": "code",
      "source": [
        "try:\n",
        "  a, b = int(input()), int(input())\n",
        "  res = a / b\n",
        "  print(res)\n",
        "except:\n",
        "  print('Что-то пошло не так!')"
      ],
      "metadata": {
        "colab": {
          "base_uri": "https://localhost:8080/"
        },
        "id": "hodwrZhxgSlv",
        "outputId": "be9f5e5c-ce55-4f1b-bace-10d2b7ee3d69"
      },
      "execution_count": null,
      "outputs": [
        {
          "output_type": "stream",
          "name": "stdout",
          "text": [
            "5\n",
            "6.99\n",
            "Что-то пошло не так!\n"
          ]
        }
      ]
    },
    {
      "cell_type": "markdown",
      "source": [
        "# Лекция 6"
      ],
      "metadata": {
        "id": "RuJMuJrTtQVR"
      }
    },
    {
      "cell_type": "code",
      "source": [
        "numbers = [5, 10, 15, 20]\n",
        "print(numbers)"
      ],
      "metadata": {
        "colab": {
          "base_uri": "https://localhost:8080/"
        },
        "id": "Q-bg-p-YtP66",
        "outputId": "4cd36215-cea7-485e-af2f-c8181dad32e2"
      },
      "execution_count": 1,
      "outputs": [
        {
          "output_type": "stream",
          "name": "stdout",
          "text": [
            "[5, 10, 15, 20]\n"
          ]
        }
      ]
    },
    {
      "cell_type": "code",
      "source": [
        "iter = range(5)\n",
        "print(iter, type(iter))\n",
        "my_list = list(iter)\n",
        "print(my_list, type(my_list))"
      ],
      "metadata": {
        "colab": {
          "base_uri": "https://localhost:8080/"
        },
        "id": "hRTW6kD7u4Hv",
        "outputId": "de2ba5b0-576b-45ec-9097-99897ef3d08c"
      },
      "execution_count": 2,
      "outputs": [
        {
          "output_type": "stream",
          "name": "stdout",
          "text": [
            "range(0, 5) <class 'range'>\n",
            "[0, 1, 2, 3, 4] <class 'list'>\n"
          ]
        }
      ]
    },
    {
      "cell_type": "code",
      "source": [
        "tens = list(range(10,100, 10))\n",
        "print(tens)"
      ],
      "metadata": {
        "colab": {
          "base_uri": "https://localhost:8080/"
        },
        "id": "6Xk70sZ1vYHS",
        "outputId": "1d13565e-bb80-46e4-d19b-1b0b67c07c48"
      },
      "execution_count": 3,
      "outputs": [
        {
          "output_type": "stream",
          "name": "stdout",
          "text": [
            "[10, 20, 30, 40, 50, 60, 70, 80, 90]\n"
          ]
        }
      ]
    },
    {
      "cell_type": "code",
      "source": [
        "zeros = [0] * 7\n",
        "print(zeros)"
      ],
      "metadata": {
        "colab": {
          "base_uri": "https://localhost:8080/"
        },
        "id": "0q6E4w8CxN61",
        "outputId": "eee8bdb2-294b-4237-99b0-96e750122046"
      },
      "execution_count": 4,
      "outputs": [
        {
          "output_type": "stream",
          "name": "stdout",
          "text": [
            "[0, 0, 0, 0, 0, 0, 0]\n"
          ]
        }
      ]
    },
    {
      "cell_type": "code",
      "source": [
        "nums = [1, 5, 10] * 3\n",
        "print(nums)"
      ],
      "metadata": {
        "colab": {
          "base_uri": "https://localhost:8080/"
        },
        "id": "2o3Ey8XRx5cm",
        "outputId": "93fe2808-b73d-4bc4-e607-1c85c4fd2d08"
      },
      "execution_count": 5,
      "outputs": [
        {
          "output_type": "stream",
          "name": "stdout",
          "text": [
            "[1, 5, 10, 1, 5, 10, 1, 5, 10]\n"
          ]
        }
      ]
    },
    {
      "cell_type": "code",
      "source": [
        "nums = [1, 2, 3]\n",
        "all_nums = nums + [4, 5, 6]\n",
        "print(all_nums)"
      ],
      "metadata": {
        "colab": {
          "base_uri": "https://localhost:8080/"
        },
        "id": "TAUqHibOyWR1",
        "outputId": "d6283857-3307-4df8-f525-754392908bf0"
      },
      "execution_count": 7,
      "outputs": [
        {
          "output_type": "stream",
          "name": "stdout",
          "text": [
            "[1, 2, 3, 4, 5, 6]\n"
          ]
        }
      ]
    }
  ]
}